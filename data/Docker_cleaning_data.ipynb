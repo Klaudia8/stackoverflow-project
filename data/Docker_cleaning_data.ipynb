{
 "cells": [
  {
   "cell_type": "code",
   "execution_count": 1,
   "id": "enabling-summary",
   "metadata": {},
   "outputs": [],
   "source": [
    "from pyspark.sql import SparkSession\n",
    "\n",
    "spark = SparkSession.builder \\\n",
    "    .appName('Cleaning') \\\n",
    "    .master('local[*]') \\\n",
    "    .getOrCreate()"
   ]
  },
  {
   "cell_type": "code",
   "execution_count": 135,
   "id": "awful-selling",
   "metadata": {},
   "outputs": [],
   "source": [
    "from pyspark.sql.functions import *\n",
    "#from pyspark.sql import DataFrame, SQLContext"
   ]
  },
  {
   "cell_type": "code",
   "execution_count": 77,
   "id": "rotary-identity",
   "metadata": {},
   "outputs": [],
   "source": [
    "input_path = '/home/jovyan/work/data/'\n",
    "users_path = f'{input_path}all_users_v1/'\n",
    "comments_path = f'{input_path}all_comments_v1/'\n",
    "posts_path = f'{input_path}all_posts_v1/'"
   ]
  },
  {
   "cell_type": "code",
   "execution_count": 319,
   "id": "legal-printer",
   "metadata": {},
   "outputs": [],
   "source": [
    "users = spark.read.csv(users_path, multiLine=True, header=True, inferSchema=True) # multiline - allows \\n to appear in a single row\n",
    "comments = spark.read.csv(comments_path, multiLine=True, header=True, inferSchema=True)\n",
    "posts = spark.read.csv(posts_path, multiLine=True, header=True, inferSchema=True)"
   ]
  },
  {
   "cell_type": "code",
   "execution_count": 264,
   "id": "verified-giving",
   "metadata": {},
   "outputs": [
    {
     "name": "stdout",
     "output_type": "stream",
     "text": [
      "Comments-rows: 140785\n",
      "Users-rows: 147577\n",
      "Posts-rows: 91936\n"
     ]
    }
   ],
   "source": [
    "print(f'Comments-rows: {comments.count()}')\n",
    "print(f'Users-rows: {users.count()}')\n",
    "print(f'Posts-rows: {posts.count()}')"
   ]
  },
  {
   "cell_type": "code",
   "execution_count": 320,
   "id": "commercial-machine",
   "metadata": {},
   "outputs": [
    {
     "name": "stdout",
     "output_type": "stream",
     "text": [
      "root\n",
      " |-- _AboutMe: string (nullable = true)\n",
      " |-- _AccountId: integer (nullable = true)\n",
      " |-- _CreationDate: timestamp (nullable = true)\n",
      " |-- _DisplayName: string (nullable = true)\n",
      " |-- _Id: integer (nullable = true)\n",
      " |-- _LastAccessDate: timestamp (nullable = true)\n",
      " |-- _Location: string (nullable = true)\n",
      " |-- forum: string (nullable = true)\n",
      "\n"
     ]
    }
   ],
   "source": [
    "users.printSchema()"
   ]
  },
  {
   "cell_type": "code",
   "execution_count": 258,
   "id": "advance-contamination",
   "metadata": {},
   "outputs": [
    {
     "name": "stdout",
     "output_type": "stream",
     "text": [
      "root\n",
      " |-- _CreationDate: timestamp (nullable = true)\n",
      " |-- _Id: integer (nullable = true)\n",
      " |-- _PostId: integer (nullable = true)\n",
      " |-- _Text: string (nullable = true)\n",
      " |-- _UserDisplayName: string (nullable = true)\n",
      " |-- _UserId: integer (nullable = true)\n",
      " |-- forum: string (nullable = true)\n",
      " |-- _AccountId: integer (nullable = true)\n",
      "\n"
     ]
    }
   ],
   "source": [
    "comments.printSchema()"
   ]
  },
  {
   "cell_type": "code",
   "execution_count": 159,
   "id": "aggregate-explorer",
   "metadata": {},
   "outputs": [],
   "source": [
    "comments_count=comments.groupBy('_AccountId', 'forum').agg(count('*').cast(DoubleType()).alias('comments_number'))"
   ]
  },
  {
   "cell_type": "code",
   "execution_count": 164,
   "id": "norwegian-missile",
   "metadata": {},
   "outputs": [
    {
     "name": "stdout",
     "output_type": "stream",
     "text": [
      "+----------+------+---------------+\n",
      "|_AccountId| forum|comments_number|\n",
      "+----------+------+---------------+\n",
      "|     73848|french|            1.0|\n",
      "|   2355716|french|           15.0|\n",
      "|  14230173|french|            1.0|\n",
      "|   5042025|french|            1.0|\n",
      "|     29567|french|            7.0|\n",
      "+----------+------+---------------+\n",
      "only showing top 5 rows\n",
      "\n"
     ]
    }
   ],
   "source": [
    "comments_count.show(5)"
   ]
  },
  {
   "cell_type": "code",
   "execution_count": 226,
   "id": "square-building",
   "metadata": {},
   "outputs": [],
   "source": [
    "# PostTypeId\n",
    "# - 1: Question\n",
    "# - 2: Answer\n",
    "post_cols = ['_AnswerCount', '_Body', '_CommentCount', '_PostTypeId', '_Tags', '_Title', '_ViewCount',\n",
    "             'forum', 'LastEditorAccountId', 'OwnerAccountId']\n",
    "answer_cols = ['_CommentCount', '_Body', 'forum', 'LastEditorAccountId']\n",
    "question_cols = ['_AnswerCount', '_Body', '_CommentCount', '_Tags', '_Title', '_ViewCount', \n",
    "                 'forum', 'LastEditorAccountId', 'OwnerAccountId']"
   ]
  },
  {
   "cell_type": "code",
   "execution_count": 227,
   "id": "dedicated-tuesday",
   "metadata": {},
   "outputs": [],
   "source": [
    "post_answers = posts.filter(posts['_PostTypeId'] == 2)\n",
    "post_answers = post_answers[answer_cols]\n",
    "post_answers = post_answers.filter(post_answers['LastEditorAccountId'] > 0)\n",
    "post_questions = posts.filter(posts['_PostTypeId'] == 1)\n",
    "post_questions = post_questions[question_cols]"
   ]
  },
  {
   "cell_type": "code",
   "execution_count": 228,
   "id": "naval-politics",
   "metadata": {},
   "outputs": [
    {
     "name": "stdout",
     "output_type": "stream",
     "text": [
      "45416\n",
      "43727\n"
     ]
    }
   ],
   "source": [
    "print(post_answers.count())\n",
    "print(post_questions.count())"
   ]
  },
  {
   "cell_type": "code",
   "execution_count": 310,
   "id": "sporting-charge",
   "metadata": {},
   "outputs": [
    {
     "name": "stdout",
     "output_type": "stream",
     "text": [
      "+-------------------+---------+----------------+\n",
      "|LastEditorAccountId|    forum|edits_of_answers|\n",
      "+-------------------+---------+----------------+\n",
      "|            5134905|chemistry|             2.0|\n",
      "|           10834649|chemistry|             1.0|\n",
      "|           12861263|chemistry|             1.0|\n",
      "|            9522198|chemistry|             2.0|\n",
      "|            7553617|chemistry|             4.0|\n",
      "+-------------------+---------+----------------+\n",
      "only showing top 5 rows\n",
      "\n"
     ]
    }
   ],
   "source": [
    "answers = post_answers.groupBy('LastEditorAccountId', 'forum') \\\n",
    "                      .agg(count('*').cast(DoubleType()).alias('edits_of_answers')#, \n",
    "                          # sum(post_answers['_CommentCount']).cast(DoubleType()).alias('comments_to_answer')\n",
    "                          )\n",
    "answers.show(5)"
   ]
  },
  {
   "cell_type": "code",
   "execution_count": 309,
   "id": "instructional-index",
   "metadata": {},
   "outputs": [
    {
     "name": "stdout",
     "output_type": "stream",
     "text": [
      "+-------------------+---------+-----------------+\n",
      "|LastEditorAccountId|    forum|edits_of_question|\n",
      "+-------------------+---------+-----------------+\n",
      "|            7553617|chemistry|              4.0|\n",
      "|            1877825|chemistry|              1.0|\n",
      "|            7745813|chemistry|              4.0|\n",
      "|            1844444|chemistry|              1.0|\n",
      "|            2103819|chemistry|              1.0|\n",
      "+-------------------+---------+-----------------+\n",
      "only showing top 5 rows\n",
      "\n"
     ]
    }
   ],
   "source": [
    "editors = post_questions.groupBy('LastEditorAccountId', 'forum') \\\n",
    "                      .agg(count('*').cast(DoubleType()).alias('edits_of_questions')#,\n",
    "                           #sum(post_questions['_AnswerCount']).cast(DoubleType()).alias('answers_to_edited_question'),\n",
    "                           #sum(post_questions['_CommentCount']).cast(DoubleType()).alias('comments_to_edited_question'),\n",
    "                           #sum(post_questions['_ViewCount']).cast(DoubleType()).alias('views_of_edited_question')\n",
    "                          )\n",
    "editors.show(5)"
   ]
  },
  {
   "cell_type": "code",
   "execution_count": 301,
   "id": "mexican-executive",
   "metadata": {},
   "outputs": [
    {
     "name": "stdout",
     "output_type": "stream",
     "text": [
      "+--------------+---------+-----------------+\n",
      "|OwnerAccountId|    forum|created_questions|\n",
      "+--------------+---------+-----------------+\n",
      "|       7157712|chemistry|              1.0|\n",
      "|      14589975|chemistry|              1.0|\n",
      "|      16760944|chemistry|              1.0|\n",
      "|       1877825|chemistry|              1.0|\n",
      "|       7745813|chemistry|             10.0|\n",
      "+--------------+---------+-----------------+\n",
      "only showing top 5 rows\n",
      "\n"
     ]
    }
   ],
   "source": [
    "owners = post_questions.groupBy('OwnerAccountId', 'forum') \\\n",
    "                       .agg(count('*').cast(DoubleType()).alias('created_questions')#,\n",
    "                           # sum(post_questions['_AnswerCount']).cast(DoubleType()).alias('answers_to_question'),\n",
    "                           # sum(post_questions['_CommentCount']).cast(DoubleType()).alias('comments_to_question'),\n",
    "                           # sum(post_questions['_ViewCount']).cast(DoubleType()).alias('views_of_question')\n",
    "                           )\n",
    "owners.show(5)"
   ]
  },
  {
   "cell_type": "markdown",
   "id": "disabled-checklist",
   "metadata": {},
   "source": [
    "Join Users with comments and posts(editors, owners)"
   ]
  },
  {
   "cell_type": "code",
   "execution_count": 321,
   "id": "assisted-letter",
   "metadata": {},
   "outputs": [],
   "source": [
    "users=users.withColumn('ActivityDays', datediff(users['_LastAccessDate'], users['_CreationDate']).cast(DoubleType()))"
   ]
  },
  {
   "cell_type": "markdown",
   "id": "integral-maryland",
   "metadata": {},
   "source": [
    "Join with comments"
   ]
  },
  {
   "cell_type": "code",
   "execution_count": 322,
   "id": "common-terrace",
   "metadata": {},
   "outputs": [],
   "source": [
    "users = users.join(comments_count, on=['_AccountId', 'forum'], how='left')\n",
    "users = users.withColumn('comments_every_day', round(users['ActivityDays'] / users['comments_number'], 1))\n",
    "\n",
    "users = users.na.fill({'comments_number': 0, 'comments_every_day': 0})"
   ]
  },
  {
   "cell_type": "markdown",
   "id": "endangered-williams",
   "metadata": {},
   "source": [
    "Join with posts (answers)"
   ]
  },
  {
   "cell_type": "code",
   "execution_count": 328,
   "id": "authorized-baking",
   "metadata": {},
   "outputs": [],
   "source": [
    "users = users.withColumnRenamed('forum', 'forum2')\n",
    "users = users.join(answers, \n",
    "           (users['_AccountId'] == answers['LastEditorAccountId']) & (users['forum2'] == answers['forum']), \n",
    "            how='left')\n",
    "users = users.drop('forum', 'LastEditorAccountId')"
   ]
  },
  {
   "cell_type": "markdown",
   "id": "racial-assurance",
   "metadata": {},
   "source": [
    "Join with posts (questions)"
   ]
  },
  {
   "cell_type": "code",
   "execution_count": 332,
   "id": "dirty-yukon",
   "metadata": {},
   "outputs": [],
   "source": [
    "users = users.join(editors, \n",
    "                   (users['_AccountId'] == editors['LastEditorAccountId']) & (users['forum2'] == editors['forum']), \n",
    "                   how='left')\n",
    "users = users.drop('forum')\n",
    "\n",
    "users = users.join(owners, \n",
    "                   (users['_AccountId'] == owners['OwnerAccountId']) & (users['forum2'] == owners['forum']), \n",
    "                   how='left')\n",
    "users = users.drop('forum', 'LastEditorAccountId', 'OwnerAccountId')\n",
    "users = users.withColumnRenamed('forum2', 'forum')\n",
    "#users = users.withColumn('comments_every_day', round(users['ActivityDays'] / users['comments_number'], 1))"
   ]
  },
  {
   "cell_type": "markdown",
   "id": "southeast-daughter",
   "metadata": {},
   "source": [
    "Fill NA"
   ]
  },
  {
   "cell_type": "code",
   "execution_count": 339,
   "id": "silver-reference",
   "metadata": {},
   "outputs": [],
   "source": [
    "users = users.na.fill({'edits_of_answers': 0, 'edits_of_questions': 0, 'created_questions': 0})"
   ]
  },
  {
   "cell_type": "markdown",
   "id": "silver-sessions",
   "metadata": {},
   "source": [
    "Calculate activities of user (edits, comments) per activity days "
   ]
  },
  {
   "cell_type": "code",
   "execution_count": 342,
   "id": "agreed-journalism",
   "metadata": {},
   "outputs": [],
   "source": [
    "users = users.withColumn('activity_answer_edits', round(users['ActivityDays'] / users['edits_of_answers'], 1))\n",
    "users = users.withColumn('activity_question_edits', round(users['ActivityDays'] / users['edits_of_questions'], 1))\n",
    "users = users.withColumn('activity_questions', round(users['ActivityDays'] / users['created_questions'], 1))"
   ]
  },
  {
   "cell_type": "code",
   "execution_count": 344,
   "id": "junior-yorkshire",
   "metadata": {},
   "outputs": [],
   "source": [
    "users = users.na.fill({'activity_answer_edits': 0, 'activity_question_edits': 0, 'activity_questions': 0})"
   ]
  },
  {
   "cell_type": "code",
   "execution_count": 343,
   "id": "fancy-czech",
   "metadata": {},
   "outputs": [
    {
     "name": "stdout",
     "output_type": "stream",
     "text": [
      "root\n",
      " |-- _AccountId: integer (nullable = true)\n",
      " |-- forum: string (nullable = true)\n",
      " |-- _AboutMe: string (nullable = true)\n",
      " |-- _CreationDate: timestamp (nullable = true)\n",
      " |-- _DisplayName: string (nullable = true)\n",
      " |-- _Id: integer (nullable = true)\n",
      " |-- _LastAccessDate: timestamp (nullable = true)\n",
      " |-- _Location: string (nullable = true)\n",
      " |-- ActivityDays: double (nullable = true)\n",
      " |-- comments_number: double (nullable = false)\n",
      " |-- comments_every_day: double (nullable = false)\n",
      " |-- edits_of_answers: double (nullable = false)\n",
      " |-- edits_of_question: double (nullable = false)\n",
      " |-- created_questions: double (nullable = false)\n",
      " |-- activity_answer_edits: double (nullable = true)\n",
      " |-- activity_question_edits: double (nullable = true)\n",
      " |-- activity_questions: double (nullable = true)\n",
      "\n"
     ]
    }
   ],
   "source": [
    "users.printSchema()"
   ]
  },
  {
   "cell_type": "code",
   "execution_count": 359,
   "id": "encouraging-composition",
   "metadata": {},
   "outputs": [
    {
     "data": {
      "text/plain": [
       "111610"
      ]
     },
     "execution_count": 359,
     "metadata": {},
     "output_type": "execute_result"
    }
   ],
   "source": [
    "users.filter(isnull(users['_AboutMe'])).count()\n",
    "# Dużo nulli w opisie AboutMe -> nie biore pod uwage"
   ]
  },
  {
   "cell_type": "code",
   "execution_count": 363,
   "id": "renewable-joining",
   "metadata": {},
   "outputs": [
    {
     "data": {
      "text/plain": [
       "105805"
      ]
     },
     "execution_count": 363,
     "metadata": {},
     "output_type": "execute_result"
    }
   ],
   "source": [
    "users.filter(isnull(users['_Location'])).count()"
   ]
  },
  {
   "cell_type": "code",
   "execution_count": 374,
   "id": "honest-quebec",
   "metadata": {},
   "outputs": [],
   "source": [
    "location_split = users.select(split(users['_Location'], ',').alias('location'))"
   ]
  },
  {
   "cell_type": "code",
   "execution_count": 345,
   "id": "maritime-technician",
   "metadata": {},
   "outputs": [],
   "source": [
    "cols = ['_AccountId', 'forum', '_Location', 'ActivityDays', \n",
    "        'comments_number', 'edits_of_answers', 'edits_of_question', 'created_questions', \n",
    "        'comments_every_day', 'activity_answer_edits', 'activity_question_edits', 'activity_questions']"
   ]
  },
  {
   "cell_type": "code",
   "execution_count": null,
   "id": "spatial-curtis",
   "metadata": {},
   "outputs": [],
   "source": [
    "users = users[cols]"
   ]
  },
  {
   "cell_type": "code",
   "execution_count": 362,
   "id": "corporate-chase",
   "metadata": {},
   "outputs": [],
   "source": [
    "users.write.csv(path=input_path+'cleaned_data_users', mode='overwrite', header=True) #, sep=',')"
   ]
  }
 ],
 "metadata": {
  "kernelspec": {
   "display_name": "Python 3",
   "language": "python",
   "name": "python3"
  },
  "language_info": {
   "codemirror_mode": {
    "name": "ipython",
    "version": 3
   },
   "file_extension": ".py",
   "mimetype": "text/x-python",
   "name": "python",
   "nbconvert_exporter": "python",
   "pygments_lexer": "ipython3",
   "version": "3.8.6"
  }
 },
 "nbformat": 4,
 "nbformat_minor": 5
}
