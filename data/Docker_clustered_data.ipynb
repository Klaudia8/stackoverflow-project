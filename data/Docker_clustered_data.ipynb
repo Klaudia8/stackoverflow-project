{
 "cells": [
  {
   "cell_type": "markdown",
   "id": "korean-saudi",
   "metadata": {},
   "source": [
    "### Load Data and Model"
   ]
  },
  {
   "cell_type": "code",
   "execution_count": 9,
   "id": "adaptive-emergency",
   "metadata": {},
   "outputs": [],
   "source": [
    "from pyspark.sql import SparkSession\n",
    "\n",
    "spark = SparkSession.builder \\\n",
    "    .appName('ClusteredData') \\\n",
    "    .master('local[*]') \\\n",
    "    .getOrCreate()"
   ]
  },
  {
   "cell_type": "code",
   "execution_count": 19,
   "id": "intelligent-sacramento",
   "metadata": {},
   "outputs": [],
   "source": [
    "from pyspark.sql.functions import *"
   ]
  },
  {
   "cell_type": "code",
   "execution_count": 10,
   "id": "increased-convenience",
   "metadata": {},
   "outputs": [],
   "source": [
    "input_path = '/home/jovyan/work/data/'\n",
    "load_path=input_path+'clustered_data_users'"
   ]
  },
  {
   "cell_type": "code",
   "execution_count": 27,
   "id": "natural-accountability",
   "metadata": {},
   "outputs": [],
   "source": [
    "df = spark.read.csv(load_path, multiLine=True, header=True, inferSchema=True)"
   ]
  },
  {
   "cell_type": "code",
   "execution_count": 14,
   "id": "medium-academy",
   "metadata": {},
   "outputs": [
    {
     "name": "stdout",
     "output_type": "stream",
     "text": [
      "root\n",
      " |-- _AccountId: integer (nullable = true)\n",
      " |-- forum: string (nullable = true)\n",
      " |-- ActivityDays: double (nullable = true)\n",
      " |-- comments_number: double (nullable = true)\n",
      " |-- edits_of_answers: double (nullable = true)\n",
      " |-- edits_of_question: double (nullable = true)\n",
      " |-- created_questions: double (nullable = true)\n",
      " |-- comments_every_day: double (nullable = true)\n",
      " |-- activity_answer_edits: double (nullable = true)\n",
      " |-- activity_question_edits: double (nullable = true)\n",
      " |-- activity_questions: double (nullable = true)\n",
      " |-- prediction: integer (nullable = true)\n",
      "\n"
     ]
    }
   ],
   "source": [
    "df.printSchema()"
   ]
  },
  {
   "cell_type": "code",
   "execution_count": 17,
   "id": "informative-boards",
   "metadata": {},
   "outputs": [
    {
     "name": "stdout",
     "output_type": "stream",
     "text": [
      "+----------+-----+\n",
      "|prediction|count|\n",
      "+----------+-----+\n",
      "|      null|    6|\n",
      "|         1|68881|\n",
      "|         6| 4422|\n",
      "|         3| 7484|\n",
      "|         5|14257|\n",
      "|         4| 4116|\n",
      "|         7|16901|\n",
      "|         2|14977|\n",
      "|         0|16533|\n",
      "+----------+-----+\n",
      "\n"
     ]
    }
   ],
   "source": [
    "# Number of users in each cluster\n",
    "df.groupby('prediction').count().show()"
   ]
  },
  {
   "cell_type": "code",
   "execution_count": 28,
   "id": "descending-microphone",
   "metadata": {},
   "outputs": [],
   "source": [
    "# remove values with null predictions\n",
    "df = df.filter(df['prediction'].isNotNull())"
   ]
  },
  {
   "cell_type": "code",
   "execution_count": 33,
   "id": "brown-cookbook",
   "metadata": {},
   "outputs": [
    {
     "name": "stdout",
     "output_type": "stream",
     "text": [
      "+-------------+----------+-----+\n",
      "|forum        |prediction|count|\n",
      "+-------------+----------+-----+\n",
      "|chemistry    |1         |68881|\n",
      "|chemistry    |3         |194  |\n",
      "|chemistry    |7         |4035 |\n",
      "|french       |3         |192  |\n",
      "|french       |0         |16533|\n",
      "|french       |7         |3632 |\n",
      "|italian      |3         |5112 |\n",
      "|italian      |7         |919  |\n",
      "|mythology    |6         |4234 |\n",
      "|mythology    |3         |47   |\n",
      "|mythology    |7         |1795 |\n",
      "|portuguese   |4         |4058 |\n",
      "|portuguese   |3         |35   |\n",
      "|portuguese   |7         |1011 |\n",
      "|portuguese   |6         |35   |\n",
      "|spanish      |5         |14257|\n",
      "|spanish      |7         |3105 |\n",
      "|spanish      |3         |151  |\n",
      "|vegetarianism|6         |96   |\n",
      "|vegetarianism|4         |25   |\n",
      "|vegetarianism|3         |1710 |\n",
      "|vegetarianism|2         |29   |\n",
      "|vegetarianism|7         |1019 |\n",
      "|windowsphone |2         |14948|\n",
      "|windowsphone |4         |33   |\n",
      "|windowsphone |3         |43   |\n",
      "|windowsphone |7         |1385 |\n",
      "|windowsphone |6         |57   |\n",
      "+-------------+----------+-----+\n",
      "\n"
     ]
    }
   ],
   "source": [
    "# Number of users in each cluster\n",
    "df.groupby('forum', 'prediction').count().orderBy('forum').show(50, truncate=False)"
   ]
  },
  {
   "cell_type": "code",
   "execution_count": 49,
   "id": "brutal-mystery",
   "metadata": {},
   "outputs": [],
   "source": [
    "forums_per_account = df.groupBy('_AccountId', 'prediction').agg(collect_set('forum').alias('joined_forums'))\n",
    "users_in_forums = forums_per_account.groupBy('joined_forums', 'prediction').agg(count('_AccountId').alias('users'))\n",
    "users_in_forums = users_in_forums.withColumn('array size', size(users_in_forums['joined_forums']))"
   ]
  },
  {
   "cell_type": "code",
   "execution_count": 52,
   "id": "willing-westminster",
   "metadata": {},
   "outputs": [
    {
     "name": "stdout",
     "output_type": "stream",
     "text": [
      "+-----------------------------------------------------------------------------------------+----------+-----+\n",
      "|joined_forums                                                                            |prediction|users|\n",
      "+-----------------------------------------------------------------------------------------+----------+-----+\n",
      "|[french]                                                                                 |0         |16533|\n",
      "|[chemistry]                                                                              |1         |68881|\n",
      "|[windowsphone]                                                                           |2         |14919|\n",
      "|[vegetarianism, windowsphone]                                                            |2         |29   |\n",
      "|[italian]                                                                                |3         |4433 |\n",
      "|[vegetarianism, french, italian]                                                         |3         |7    |\n",
      "|[vegetarianism, chemistry, italian]                                                      |3         |7    |\n",
      "|[chemistry, italian]                                                                     |3         |187  |\n",
      "|[italian, portuguese]                                                                    |3         |35   |\n",
      "|[vegetarianism, mythology, italian]                                                      |3         |3    |\n",
      "|[mythology, italian]                                                                     |3         |44   |\n",
      "|[vegetarianism, italian]                                                                 |3         |17   |\n",
      "|[spanish, italian]                                                                       |3         |150  |\n",
      "|[windowsphone, italian]                                                                  |3         |43   |\n",
      "|[vegetarianism]                                                                          |3         |1675 |\n",
      "|[french, italian]                                                                        |3         |185  |\n",
      "|[vegetarianism, spanish, italian]                                                        |3         |1    |\n",
      "|[vegetarianism, portuguese]                                                              |4         |25   |\n",
      "|[windowsphone, portuguese]                                                               |4         |33   |\n",
      "|[portuguese]                                                                             |4         |4000 |\n",
      "|[spanish]                                                                                |5         |14257|\n",
      "|[mythology, portuguese]                                                                  |6         |35   |\n",
      "|[windowsphone, mythology]                                                                |6         |57   |\n",
      "|[vegetarianism, mythology]                                                               |6         |96   |\n",
      "|[mythology]                                                                              |6         |4046 |\n",
      "|[spanish, mythology, italian, portuguese]                                                |7         |3    |\n",
      "|[vegetarianism, french, chemistry, spanish, italian, portuguese]                         |7         |3    |\n",
      "|[french, chemistry, mythology, italian]                                                  |7         |10   |\n",
      "|[vegetarianism, windowsphone, french, chemistry, spanish, mythology, italian]            |7         |12   |\n",
      "|[windowsphone, french, spanish, mythology]                                               |7         |5    |\n",
      "|[vegetarianism, windowsphone, french, chemistry, spanish, mythology, italian, portuguese]|7         |227  |\n",
      "|[windowsphone, french, spanish]                                                          |7         |17   |\n",
      "|[vegetarianism, french, chemistry, mythology, portuguese]                                |7         |3    |\n",
      "|[windowsphone, mythology, portuguese]                                                    |7         |2    |\n",
      "|[vegetarianism, spanish, portuguese]                                                     |7         |2    |\n",
      "|[windowsphone, chemistry, mythology]                                                     |7         |24   |\n",
      "|[chemistry, mythology, italian]                                                          |7         |15   |\n",
      "|[vegetarianism, windowsphone, french, chemistry, mythology, italian, portuguese]         |7         |4    |\n",
      "|[windowsphone, french]                                                                   |7         |140  |\n",
      "|[windowsphone, french, chemistry, spanish, portuguese]                                   |7         |5    |\n",
      "|[windowsphone, french, spanish, mythology, italian]                                      |7         |1    |\n",
      "|[french, chemistry, italian, portuguese]                                                 |7         |6    |\n",
      "|[vegetarianism, windowsphone, french, chemistry, italian, portuguese]                    |7         |1    |\n",
      "|[windowsphone, french, italian, portuguese]                                              |7         |1    |\n",
      "|[vegetarianism, spanish]                                                                 |7         |69   |\n",
      "|[windowsphone, spanish, mythology]                                                       |7         |7    |\n",
      "|[windowsphone, french, portuguese]                                                       |7         |1    |\n",
      "|[vegetarianism, chemistry, spanish, portuguese]                                          |7         |2    |\n",
      "|[vegetarianism, chemistry, spanish, mythology]                                           |7         |11   |\n",
      "|[vegetarianism, chemistry, mythology, italian]                                           |7         |5    |\n",
      "|[vegetarianism, chemistry, spanish, mythology, italian]                                  |7         |2    |\n",
      "|[french, chemistry, italian]                                                             |7         |43   |\n",
      "|[vegetarianism, french, chemistry, spanish, mythology, italian, portuguese]              |7         |11   |\n",
      "|[windowsphone, chemistry, mythology, portuguese]                                         |7         |1    |\n",
      "|[windowsphone, chemistry, spanish, mythology, portuguese]                                |7         |1    |\n",
      "|[windowsphone, chemistry, portuguese]                                                    |7         |4    |\n",
      "|[windowsphone, mythology, italian]                                                       |7         |2    |\n",
      "|[windowsphone, french, chemistry, spanish, mythology, italian]                           |7         |15   |\n",
      "|[vegetarianism, windowsphone, mythology]                                                 |7         |5    |\n",
      "|[vegetarianism, chemistry, spanish, mythology, portuguese]                               |7         |1    |\n",
      "|[chemistry, italian, portuguese]                                                         |7         |3    |\n",
      "|[windowsphone, spanish, italian, portuguese]                                             |7         |2    |\n",
      "|[chemistry, mythology, italian, portuguese]                                              |7         |1    |\n",
      "|[vegetarianism, french, mythology]                                                       |7         |10   |\n",
      "|[vegetarianism, french, portuguese]                                                      |7         |5    |\n",
      "|[vegetarianism, french, chemistry, spanish, mythology]                                   |7         |10   |\n",
      "|[vegetarianism, windowsphone, chemistry, portuguese]                                     |7         |1    |\n",
      "|[vegetarianism, windowsphone, french, chemistry, spanish, mythology, portuguese]         |7         |5    |\n",
      "|[vegetarianism, chemistry, spanish]                                                      |7         |21   |\n",
      "|[vegetarianism, french, spanish, portuguese]                                             |7         |3    |\n",
      "|[french, chemistry]                                                                      |7         |933  |\n",
      "|[french, chemistry, spanish, mythology, italian, portuguese]                             |7         |15   |\n",
      "|[french, chemistry, mythology, portuguese]                                               |7         |1    |\n",
      "|[vegetarianism, windowsphone, chemistry, spanish, mythology]                             |7         |2    |\n",
      "|[windowsphone, spanish]                                                                  |7         |110  |\n",
      "|[windowsphone, french, chemistry]                                                        |7         |32   |\n",
      "|[spanish, mythology, portuguese]                                                         |7         |8    |\n",
      "|[vegetarianism, windowsphone, french]                                                    |7         |2    |\n",
      "|[windowsphone, french, chemistry, mythology]                                             |7         |10   |\n",
      "|[windowsphone, french, chemistry, spanish]                                               |7         |65   |\n",
      "|[vegetarianism, windowsphone, french, chemistry, mythology]                              |7         |2    |\n",
      "|[vegetarianism, windowsphone, chemistry, spanish, mythology, portuguese]                 |7         |1    |\n",
      "|[vegetarianism, spanish, italian, portuguese]                                            |7         |1    |\n",
      "|[vegetarianism, windowsphone, spanish, portuguese]                                       |7         |1    |\n",
      "|[vegetarianism, windowsphone, chemistry, mythology, italian, portuguese]                 |7         |2    |\n",
      "|[vegetarianism, windowsphone, french, chemistry, spanish]                                |7         |2    |\n",
      "|[french, mythology]                                                                      |7         |187  |\n",
      "|[chemistry, spanish, portuguese]                                                         |7         |12   |\n",
      "|[windowsphone, french, spanish, italian, portuguese]                                     |7         |4    |\n",
      "|[windowsphone, chemistry, italian]                                                       |7         |7    |\n",
      "|[chemistry, mythology, portuguese]                                                       |7         |9    |\n",
      "|[vegetarianism, french, spanish, mythology]                                              |7         |7    |\n",
      "|[vegetarianism, chemistry, spanish, mythology, italian, portuguese]                      |7         |2    |\n",
      "|[vegetarianism, windowsphone, spanish]                                                   |7         |4    |\n",
      "|[windowsphone, chemistry, mythology, italian]                                            |7         |1    |\n",
      "|[vegetarianism, windowsphone, french, spanish, mythology, italian, portuguese]           |7         |1    |\n",
      "|[vegetarianism, french, spanish, italian, portuguese]                                    |7         |3    |\n",
      "|[chemistry, spanish, mythology]                                                          |7         |58   |\n",
      "|[vegetarianism, windowsphone, chemistry, spanish]                                        |7         |5    |\n",
      "|[windowsphone, french, spanish, italian]                                                 |7         |9    |\n",
      "+-----------------------------------------------------------------------------------------+----------+-----+\n",
      "only showing top 100 rows\n",
      "\n"
     ]
    }
   ],
   "source": [
    "users_in_forums['joined_forums', 'prediction', 'users'].orderBy('prediction').show(100, truncate=False)"
   ]
  },
  {
   "cell_type": "markdown",
   "id": "finite-worship",
   "metadata": {},
   "source": [
    "### Heatmap - correlation"
   ]
  },
  {
   "cell_type": "code",
   "execution_count": 55,
   "id": "focused-puzzle",
   "metadata": {},
   "outputs": [],
   "source": [
    "import pandas as pd\n",
    "import numpy as np\n",
    "import seaborn as sns\n",
    "import matplotlib.pyplot as plt\n",
    "from string import ascii_letters"
   ]
  },
  {
   "cell_type": "code",
   "execution_count": 56,
   "id": "intense-logan",
   "metadata": {},
   "outputs": [],
   "source": [
    "sns.set_theme(style=\"white\")"
   ]
  },
  {
   "cell_type": "code",
   "execution_count": 59,
   "id": "earlier-saturday",
   "metadata": {},
   "outputs": [
    {
     "data": {
      "text/plain": [
       "<AxesSubplot:>"
      ]
     },
     "execution_count": 59,
     "metadata": {},
     "output_type": "execute_result"
    },
    {
     "data": {
      "image/png": "[encoded data removed]",
      "text/plain": [
       "<Figure size 792x648 with 2 Axes>"
      ]
     },
     "metadata": {},
     "output_type": "display_data"
    }
   ],
   "source": [
    "rs = np.random.RandomState(33)\n",
    "d = pd.DataFrame(data=rs.normal(size=(100, 26)),\n",
    "                 columns=list(ascii_letters[26:]))\n",
    "\n",
    "# Compute the correlation matrix\n",
    "corr = d.corr()\n",
    "\n",
    "# Generate a mask for the upper triangle\n",
    "mask = np.triu(np.ones_like(corr, dtype=bool))\n",
    "\n",
    "# Set up the matplotlib figure\n",
    "f, ax = plt.subplots(figsize=(11, 9))\n",
    "\n",
    "# Generate a custom diverging colormap\n",
    "cmap = sns.diverging_palette(230, 20, as_cmap=True)\n",
    "\n",
    "# Draw the heatmap with the mask and correct aspect ratio\n",
    "sns.heatmap(corr, mask=mask, cmap=cmap, vmax=.3, center=0,\n",
    "            square=True, linewidths=.5, cbar_kws={\"shrink\": .5})\n"
   ]
  },
  {
   "cell_type": "code",
   "execution_count": null,
   "id": "pacific-express",
   "metadata": {},
   "outputs": [],
   "source": []
  }
 ],
 "metadata": {
  "kernelspec": {
   "display_name": "Python 3",
   "language": "python",
   "name": "python3"
  },
  "language_info": {
   "codemirror_mode": {
    "name": "ipython",
    "version": 3
   },
   "file_extension": ".py",
   "mimetype": "text/x-python",
   "name": "python",
   "nbconvert_exporter": "python",
   "pygments_lexer": "ipython3",
   "version": "3.8.6"
  }
 },
 "nbformat": 4,
 "nbformat_minor": 5
}
