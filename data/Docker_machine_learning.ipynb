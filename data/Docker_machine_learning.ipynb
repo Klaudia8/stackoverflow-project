{
 "cells": [
  {
   "cell_type": "code",
   "execution_count": 1,
   "id": "external-rotation",
   "metadata": {},
   "outputs": [],
   "source": [
    "from pyspark.sql import SparkSession\n",
    "\n",
    "spark = SparkSession.builder \\\n",
    "    .appName('MachineLearning') \\\n",
    "    .master('local[*]') \\\n",
    "    .getOrCreate()"
   ]
  },
  {
   "cell_type": "code",
   "execution_count": 2,
   "id": "transsexual-arbor",
   "metadata": {},
   "outputs": [],
   "source": [
    "input_path = '/home/jovyan/work/data/'\n",
    "users_path = f'{input_path}cleaned_data_users/'"
   ]
  },
  {
   "cell_type": "code",
   "execution_count": 397,
   "id": "rapid-singles",
   "metadata": {},
   "outputs": [],
   "source": [
    "df = spark.read.csv(users_path, multiLine=True, header=True, inferSchema=True)"
   ]
  },
  {
   "cell_type": "code",
   "execution_count": 398,
   "id": "thrown-framing",
   "metadata": {},
   "outputs": [
    {
     "name": "stdout",
     "output_type": "stream",
     "text": [
      "Dataframe rows number: 147577\n"
     ]
    }
   ],
   "source": [
    "print(f'Dataframe rows number: {df.count()}')"
   ]
  },
  {
   "cell_type": "code",
   "execution_count": 6,
   "id": "ordinary-interview",
   "metadata": {},
   "outputs": [],
   "source": [
    "from pyspark.ml import Pipeline\n",
    "from pyspark.ml.feature import OneHotEncoder, StringIndexer"
   ]
  },
  {
   "cell_type": "code",
   "execution_count": 399,
   "id": "ordinary-duncan",
   "metadata": {},
   "outputs": [],
   "source": [
    "cols = ['_AccountId', 'forum', 'ActivityDays', \n",
    "        'comments_number', 'edits_of_answers', 'edits_of_question', 'created_questions', \n",
    "        'comments_every_day', 'activity_answer_edits', 'activity_question_edits', 'activity_questions']"
   ]
  },
  {
   "cell_type": "code",
   "execution_count": 400,
   "id": "automatic-motion",
   "metadata": {},
   "outputs": [],
   "source": [
    "df = df[cols]"
   ]
  },
  {
   "cell_type": "code",
   "execution_count": 401,
   "id": "arranged-instrument",
   "metadata": {},
   "outputs": [
    {
     "name": "stdout",
     "output_type": "stream",
     "text": [
      "root\n",
      " |-- _AccountId: integer (nullable = true)\n",
      " |-- forum: string (nullable = true)\n",
      " |-- ActivityDays: double (nullable = true)\n",
      " |-- comments_number: double (nullable = true)\n",
      " |-- edits_of_answers: double (nullable = true)\n",
      " |-- edits_of_question: double (nullable = true)\n",
      " |-- created_questions: double (nullable = true)\n",
      " |-- comments_every_day: double (nullable = true)\n",
      " |-- activity_answer_edits: double (nullable = true)\n",
      " |-- activity_question_edits: double (nullable = true)\n",
      " |-- activity_questions: double (nullable = true)\n",
      "\n"
     ]
    }
   ],
   "source": [
    "df.printSchema()"
   ]
  },
  {
   "cell_type": "markdown",
   "id": "automatic-tracker",
   "metadata": {},
   "source": [
    "'OneHotEncoder'"
   ]
  },
  {
   "cell_type": "code",
   "execution_count": 402,
   "id": "tutorial-joshua",
   "metadata": {},
   "outputs": [],
   "source": [
    "str_cols = ['forum']\n",
    "encoder = OneHotEncoder(inputCol='forum', outputCol='forum_features')"
   ]
  },
  {
   "cell_type": "code",
   "execution_count": 409,
   "id": "champion-consultation",
   "metadata": {},
   "outputs": [
    {
     "data": {
      "text/plain": [
       "['chemistry',\n",
       " 'mythology',\n",
       " 'spanish',\n",
       " 'french',\n",
       " 'windowsphone',\n",
       " 'italian',\n",
       " 'portuguese',\n",
       " 'vegetarianism']"
      ]
     },
     "execution_count": 409,
     "metadata": {},
     "output_type": "execute_result"
    }
   ],
   "source": [
    "# unique list of forums\n",
    "forums_list = df.select('forum').distinct().rdd.map(lambda r: r[0]).collect()\n",
    "#forums_list"
   ]
  },
  {
   "cell_type": "code",
   "execution_count": 404,
   "id": "liked-namibia",
   "metadata": {},
   "outputs": [],
   "source": [
    "forum_udf = udf(lambda x: 1 if x == forum else 0)"
   ]
  },
  {
   "cell_type": "code",
   "execution_count": 405,
   "id": "acoustic-apartment",
   "metadata": {},
   "outputs": [],
   "source": [
    "for forum in forums_list:\n",
    "    forum_udf = udf(lambda x: 1 if x == forum else 0)\n",
    "    df = df.withColumn(f'forum_{forum}', forum_udf('forum'))\n",
    "    df = df.withColumn(f'activity_days_{forum}', forum_udf('forum'))\n",
    "    df = df.withColumn(f'comments_number_{forum}', forum_udf('forum'))\n",
    "    df = df.withColumn(f'answer_edits_{forum}', forum_udf('forum'))\n",
    "    df = df.withColumn(f'question_edits_{forum}', forum_udf('forum'))\n",
    "    df = df.withColumn(f'created_questions_{forum}', forum_udf('forum'))\n",
    "    df = df.withColumn(f'activity_comments_{forum}', forum_udf('forum'))\n",
    "    df = df.withColumn(f'activity_answer_edits_{forum}', forum_udf('forum'))\n",
    "    df = df.withColumn(f'activity_question_edits_{forum}', forum_udf('forum'))\n",
    "    df = df.withColumn(f'activity_questions_{forum}', forum_udf('forum'))"
   ]
  },
  {
   "cell_type": "code",
   "execution_count": 406,
   "id": "tender-richmond",
   "metadata": {},
   "outputs": [],
   "source": [
    "exprs = {x: 'sum' for x in df.columns if x not in cols}"
   ]
  },
  {
   "cell_type": "code",
   "execution_count": 407,
   "id": "referenced-california",
   "metadata": {},
   "outputs": [],
   "source": [
    "ddf=df.groupBy('_AccountId').agg(exprs)"
   ]
  },
  {
   "cell_type": "code",
   "execution_count": 408,
   "id": "offshore-dryer",
   "metadata": {},
   "outputs": [
    {
     "data": {
      "text/plain": [
       "81"
      ]
     },
     "execution_count": 408,
     "metadata": {},
     "output_type": "execute_result"
    }
   ],
   "source": [
    "# number of columns\n",
    "len(ddf.columns)"
   ]
  },
  {
   "cell_type": "markdown",
   "id": "surgical-marketing",
   "metadata": {},
   "source": [
    "Features"
   ]
  },
  {
   "cell_type": "code",
   "execution_count": 133,
   "id": "flying-arizona",
   "metadata": {},
   "outputs": [],
   "source": [
    "from pyspark.ml.feature import VectorAssembler"
   ]
  },
  {
   "cell_type": "code",
   "execution_count": 410,
   "id": "attended-austin",
   "metadata": {},
   "outputs": [],
   "source": [
    "features = [col for col in ddf.columns if col != '_AccountId']"
   ]
  },
  {
   "cell_type": "code",
   "execution_count": 411,
   "id": "front-windows",
   "metadata": {},
   "outputs": [],
   "source": [
    "vector_assembler = VectorAssembler(inputCols = features, outputCol= \"features_output\")\n",
    "data_training_and_test = vector_assembler.transform(ddf)"
   ]
  },
  {
   "cell_type": "markdown",
   "id": "earlier-bahrain",
   "metadata": {},
   "source": [
    "Normalization"
   ]
  },
  {
   "cell_type": "code",
   "execution_count": 412,
   "id": "typical-bicycle",
   "metadata": {},
   "outputs": [],
   "source": [
    "from pyspark.ml.feature import Normalizer"
   ]
  },
  {
   "cell_type": "code",
   "execution_count": 413,
   "id": "tutorial-trauma",
   "metadata": {},
   "outputs": [],
   "source": [
    "normalizer = Normalizer(p=1, inputCol=\"features_output\", outputCol=\"features_norm\")"
   ]
  },
  {
   "cell_type": "code",
   "execution_count": 414,
   "id": "infrared-kentucky",
   "metadata": {},
   "outputs": [],
   "source": [
    "data_training_and_test = normalizer.transform(data_training_and_test)"
   ]
  },
  {
   "cell_type": "markdown",
   "id": "mighty-velvet",
   "metadata": {},
   "source": [
    "#### Train and Test Data"
   ]
  },
  {
   "cell_type": "code",
   "execution_count": 432,
   "id": "third-workshop",
   "metadata": {},
   "outputs": [],
   "source": [
    "(training_data, test_data) = data_training_and_test.randomSplit([0.7, 0.3])"
   ]
  },
  {
   "cell_type": "markdown",
   "id": "better-promotion",
   "metadata": {},
   "source": [
    "### Modeling Fitting and Tunning\n",
    "#### Grid Search - Finding the best parameters"
   ]
  },
  {
   "cell_type": "code",
   "execution_count": 415,
   "id": "hawaiian-chemistry",
   "metadata": {},
   "outputs": [],
   "source": [
    "from pyspark.ml.tuning import CrossValidator, ParamGridBuilder\n",
    "from pyspark.ml.evaluation import ClusteringEvaluator\n",
    "from pyspark.ml.clustering import *\n",
    "from pyspark.ml.feature import PCA"
   ]
  },
  {
   "cell_type": "code",
   "execution_count": 416,
   "id": "seasonal-tenant",
   "metadata": {},
   "outputs": [
    {
     "data": {
      "text/plain": [
       "140"
      ]
     },
     "execution_count": 416,
     "metadata": {},
     "output_type": "execute_result"
    }
   ],
   "source": [
    "very_small_sample = data_training_and_test.sample(False, 0.001).cache()\n",
    "very_small_sample.count()"
   ]
  },
  {
   "cell_type": "markdown",
   "id": "naked-ticket",
   "metadata": {},
   "source": [
    "Dimension Reduction/feature selection"
   ]
  },
  {
   "cell_type": "code",
   "execution_count": 417,
   "id": "wired-petite",
   "metadata": {},
   "outputs": [],
   "source": [
    "pca_model = PCA(inputCol = \"features_norm\", outputCol = \"pca_features_cv_norm\")\n",
    "km = KMeans(seed=1, featuresCol=\"pca_features_cv_norm\")\n",
    "ppl_cv = Pipeline(stages = [pca_model, km])"
   ]
  },
  {
   "cell_type": "code",
   "execution_count": 418,
   "id": "adjusted-missouri",
   "metadata": {},
   "outputs": [
    {
     "data": {
      "text/plain": [
       "[24.0, 40.0, 61.0]"
      ]
     },
     "execution_count": 418,
     "metadata": {},
     "output_type": "execute_result"
    }
   ],
   "source": [
    "ddf_length = len(ddf.columns)\n",
    "from builtins import round as base_round\n",
    "pca_nums = [base_round(i*ddf_length, 0) for i in [0.3, 0.5, 0.75]]\n",
    "pca_nums"
   ]
  },
  {
   "cell_type": "code",
   "execution_count": 427,
   "id": "liable-vampire",
   "metadata": {},
   "outputs": [],
   "source": [
    "paramGrid = ParamGridBuilder() \\\n",
    "      .addGrid(pca_model.k, pca_nums) \\\n",
    "      .addGrid(km.k, [5, 8, 10]) \\\n",
    "      .build()"
   ]
  },
  {
   "cell_type": "code",
   "execution_count": 429,
   "id": "boolean-boating",
   "metadata": {},
   "outputs": [],
   "source": [
    "crossval = CrossValidator(estimator = ppl_cv, \n",
    "                          estimatorParamMaps=paramGrid,\n",
    "                          evaluator = ClusteringEvaluator(featuresCol='pca_features_cv_norm', predictionCol='prediction'),\n",
    "                          numFolds=4)"
   ]
  },
  {
   "cell_type": "code",
   "execution_count": 430,
   "id": "promotional-gabriel",
   "metadata": {},
   "outputs": [],
   "source": [
    "cv_model = crossval.fit(very_small_sample)"
   ]
  },
  {
   "cell_type": "code",
   "execution_count": 433,
   "id": "tropical-disorder",
   "metadata": {},
   "outputs": [
    {
     "data": {
      "text/plain": [
       "0.9338317823288612"
      ]
     },
     "execution_count": 433,
     "metadata": {},
     "output_type": "execute_result"
    }
   ],
   "source": [
    "cv_predictions = cv_model.transform(test_data)\n",
    "evaluator = ClusteringEvaluator(featuresCol='pca_features_cv_norm', predictionCol='prediction')\n",
    "accuracy = evaluator.evaluate(cv_predictions)\n",
    "accuracy"
   ]
  },
  {
   "cell_type": "code",
   "execution_count": 434,
   "id": "brown-services",
   "metadata": {},
   "outputs": [
    {
     "data": {
      "text/plain": [
       "[0.680244805460872,\n",
       " 0.8825390597751505,\n",
       " 0.8789360711909354,\n",
       " 0.7235465042690128,\n",
       " 0.8825390597751505,\n",
       " 0.8721687266933276,\n",
       " 0.7006112809685898,\n",
       " 0.8838346891214681,\n",
       " 0.8789360711909354]"
      ]
     },
     "execution_count": 434,
     "metadata": {},
     "output_type": "execute_result"
    }
   ],
   "source": [
    "cv_model.avgMetrics"
   ]
  },
  {
   "cell_type": "markdown",
   "id": "cosmetic-wedding",
   "metadata": {},
   "source": [
    "##### Best model parameters"
   ]
  },
  {
   "cell_type": "code",
   "execution_count": 440,
   "id": "commercial-peripheral",
   "metadata": {},
   "outputs": [
    {
     "name": "stdout",
     "output_type": "stream",
     "text": [
      "PCA parameters:\n",
      "PCAModel: uid=PCA_d568cc7898b3, k=61\n",
      "KMeans parameters:\n",
      "KMeansModel: uid=KMeans_8f47fa9e8b2f, k=8, distanceMeasure=euclidean, numFeatures=61\n"
     ]
    }
   ],
   "source": [
    "best_model = cv_model.bestModel\n",
    "print(f'PCA parameters:\\n'\n",
    "      f'{best_model.stages[0]}')\n",
    "print(f'KMeans parameters:\\n'\n",
    "      f'{best_model.stages[1]}')"
   ]
  },
  {
   "cell_type": "code",
   "execution_count": 444,
   "id": "lovely-decrease",
   "metadata": {},
   "outputs": [],
   "source": [
    "kmeans_num = best_model.stages[1].getK()\n",
    "pca_num = best_model.stages[0].getK()"
   ]
  },
  {
   "cell_type": "markdown",
   "id": "unsigned-installation",
   "metadata": {},
   "source": [
    "Modeling fitting and tuning"
   ]
  },
  {
   "cell_type": "code",
   "execution_count": 485,
   "id": "copyrighted-correspondence",
   "metadata": {},
   "outputs": [],
   "source": [
    "pca_model = PCA(k=pca_num, inputCol = \"features_norm\", outputCol = \"pca_features_norm\")\n",
    "tuned_model = KMeans(k=kmeans_num, seed=1, featuresCol=\"pca_features_norm\")\n",
    "tuned_ppl = Pipeline(stages = [pca_model, tuned_model])"
   ]
  },
  {
   "cell_type": "code",
   "execution_count": 498,
   "id": "unnecessary-incident",
   "metadata": {},
   "outputs": [],
   "source": [
    "tuned_ppl = tuned_ppl.fit(training_data) # tuned_ppl - PipelineModel"
   ]
  },
  {
   "cell_type": "code",
   "execution_count": 499,
   "id": "absent-literature",
   "metadata": {},
   "outputs": [],
   "source": [
    "trained_data = tuned_ppl.transform(data_training_and_test) # transformujemy nasze dane, zeby otrzymac wektor cech"
   ]
  },
  {
   "cell_type": "code",
   "execution_count": 452,
   "id": "seasonal-accent",
   "metadata": {},
   "outputs": [
    {
     "data": {
      "text/plain": [
       "8"
      ]
     },
     "execution_count": 452,
     "metadata": {},
     "output_type": "execute_result"
    }
   ],
   "source": [
    "centers = tuned_ppl.stages[1].clusterCenters()\n",
    "len(centers)"
   ]
  },
  {
   "cell_type": "code",
   "execution_count": 457,
   "id": "iraqi-graham",
   "metadata": {},
   "outputs": [
    {
     "data": {
      "text/plain": [
       "0.9318446689509495"
      ]
     },
     "execution_count": 457,
     "metadata": {},
     "output_type": "execute_result"
    }
   ],
   "source": [
    "train_predictions = tuned_ppl.transform(training_data)\n",
    "evaluator = ClusteringEvaluator(featuresCol='pca_features_norm', predictionCol='prediction')\n",
    "train_accuracy = evaluator.evaluate(train_predictions)\n",
    "train_accuracy"
   ]
  },
  {
   "cell_type": "markdown",
   "id": "younger-frank",
   "metadata": {},
   "source": [
    "#### Evaluation\n",
    "Evaluator for Clustering results, which expects two input columns: prediction and features. The metric computes the Silhouette measure using the squared Euclidean distance.\n",
    "\n",
    "The Silhouette is a measure for the validation of the consistency within clusters. It ranges between 1 and -1, where a value close to 1 means that the points in a cluster are close to the other points in the same cluster and far from the points of the other clusters."
   ]
  },
  {
   "cell_type": "code",
   "execution_count": 455,
   "id": "moved-significance",
   "metadata": {},
   "outputs": [
    {
     "data": {
      "text/plain": [
       "0.9337305689924346"
      ]
     },
     "execution_count": 455,
     "metadata": {},
     "output_type": "execute_result"
    }
   ],
   "source": [
    "predictions = tuned_ppl.transform(test_data)\n",
    "evaluator = ClusteringEvaluator(featuresCol='pca_features_norm', predictionCol='prediction')\n",
    "test_accuracy = evaluator.evaluate(predictions)\n",
    "test_accuracy"
   ]
  },
  {
   "cell_type": "markdown",
   "id": "invisible-steal",
   "metadata": {},
   "source": [
    "### Save and Load Model"
   ]
  },
  {
   "cell_type": "code",
   "execution_count": 458,
   "id": "rough-installation",
   "metadata": {},
   "outputs": [],
   "source": [
    "tuned_ppl.write().overwrite().save(input_path+'fitted_model')"
   ]
  },
  {
   "cell_type": "code",
   "execution_count": 459,
   "id": "acting-delhi",
   "metadata": {},
   "outputs": [],
   "source": [
    "from pyspark.ml import PipelineModel\n",
    "mm=PipelineModel.load(input_path+'fitted_model')"
   ]
  },
  {
   "cell_type": "code",
   "execution_count": 518,
   "id": "damaged-fields",
   "metadata": {},
   "outputs": [],
   "source": [
    "cluster_centers = mm.stages[1].clusterCenters()"
   ]
  },
  {
   "cell_type": "code",
   "execution_count": null,
   "id": "present-capitol",
   "metadata": {},
   "outputs": [],
   "source": [
    "# function to compare cluster centers to real data vectors\n",
    "#from pyspark.ml.linalg import Vectors\n",
    "#centroid = Vectors.dense(cluster_centers[0])\n",
    "#centroid\n",
    "#udf definition    \n",
    "#def calc_centers(app, app_list):\n",
    "#    if app == app_list:\n",
    "#        return 1\n",
    "#    else:\n",
    "#        return 0\n",
    "#def calc_centersUDF(app_list):\n",
    "#    return udf(lambda l: calc_centers(l, app_list))\n",
    "#trained_data = trained_data.withColumn('test', calc_centersUDF(centroid)(col('pca_features_norm')))\n",
    "#trained_data.count()\n",
    "#trained_data['pca_features_norm', 'test'].show(100, truncate=False)\n",
    "#trained_data['_AccountId', 'test'].filter(trained_data['test'] == 1).show()\n",
    "#trained_data_to_join = trained_data['_AccountId', 'prediction']"
   ]
  },
  {
   "cell_type": "markdown",
   "id": "opposed-dominican",
   "metadata": {},
   "source": [
    "Assign predictions to data"
   ]
  },
  {
   "cell_type": "code",
   "execution_count": 754,
   "id": "united-straight",
   "metadata": {},
   "outputs": [],
   "source": [
    "df_clustered = ddf.join(trained_data_to_join, on='_AccountId', how='left')"
   ]
  },
  {
   "cell_type": "code",
   "execution_count": 757,
   "id": "worth-polymer",
   "metadata": {},
   "outputs": [
    {
     "name": "stdout",
     "output_type": "stream",
     "text": [
      "+----------+----------+--------------------+\n",
      "|_AccountId|prediction|sum(forum_chemistry)|\n",
      "+----------+----------+--------------------+\n",
      "|  10504439|         1|                 1.0|\n",
      "|  12465840|         0|                 0.0|\n",
      "|  13306246|         1|                 1.0|\n",
      "|  18571059|         1|                 1.0|\n",
      "|   7113444|         4|                 0.0|\n",
      "|   8382766|         1|                 1.0|\n",
      "|  12064180|         0|                 0.0|\n",
      "|    243197|         7|                 1.0|\n",
      "|   1597047|         7|                 0.0|\n",
      "|   5677600|         3|                 0.0|\n",
      "|  10129798|         5|                 0.0|\n",
      "|   6892931|         1|                 1.0|\n",
      "|  16185053|         5|                 0.0|\n",
      "|  20020768|         1|                 1.0|\n",
      "|      7340|         0|                 0.0|\n",
      "|  11578961|         1|                 1.0|\n",
      "|  15637766|         2|                 0.0|\n",
      "|  19204003|         5|                 0.0|\n",
      "|   7735437|         1|                 1.0|\n",
      "|  10115105|         2|                 0.0|\n",
      "+----------+----------+--------------------+\n",
      "only showing top 20 rows\n",
      "\n"
     ]
    }
   ],
   "source": [
    "df_clustered['_AccountId', 'prediction', 'sum(forum_chemistry)'].show()"
   ]
  },
  {
   "cell_type": "code",
   "execution_count": null,
   "id": "million-scale",
   "metadata": {},
   "outputs": [],
   "source": []
  }
 ],
 "metadata": {
  "kernelspec": {
   "display_name": "Python 3",
   "language": "python",
   "name": "python3"
  },
  "language_info": {
   "codemirror_mode": {
    "name": "ipython",
    "version": 3
   },
   "file_extension": ".py",
   "mimetype": "text/x-python",
   "name": "python",
   "nbconvert_exporter": "python",
   "pygments_lexer": "ipython3",
   "version": "3.8.6"
  }
 },
 "nbformat": 4,
 "nbformat_minor": 5
}
