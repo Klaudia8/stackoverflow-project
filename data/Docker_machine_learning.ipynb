{
 "cells": [
  {
   "cell_type": "code",
   "execution_count": 1,
   "id": "royal-essay",
   "metadata": {},
   "outputs": [],
   "source": [
    "from pyspark.sql import SparkSession\n",
    "\n",
    "spark = SparkSession.builder \\\n",
    "    .appName('MachineLearning') \\\n",
    "    .master('local[*]') \\\n",
    "    .getOrCreate()"
   ]
  },
  {
   "cell_type": "code",
   "execution_count": 2,
   "id": "invalid-transportation",
   "metadata": {},
   "outputs": [],
   "source": [
    "input_path = '/home/jovyan/work/data/'\n",
    "users_path = f'{input_path}cleaned_data_users/'"
   ]
  },
  {
   "cell_type": "code",
   "execution_count": 397,
   "id": "institutional-laser",
   "metadata": {},
   "outputs": [],
   "source": [
    "df = spark.read.csv(users_path, multiLine=True, header=True, inferSchema=True)"
   ]
  },
  {
   "cell_type": "code",
   "execution_count": 398,
   "id": "charming-consent",
   "metadata": {},
   "outputs": [
    {
     "name": "stdout",
     "output_type": "stream",
     "text": [
      "Dataframe rows number: 147577\n"
     ]
    }
   ],
   "source": [
    "print(f'Dataframe rows number: {df.count()}')"
   ]
  },
  {
   "cell_type": "code",
   "execution_count": 6,
   "id": "exact-religion",
   "metadata": {},
   "outputs": [],
   "source": [
    "from pyspark.ml import Pipeline\n",
    "from pyspark.ml.feature import OneHotEncoder, StringIndexer"
   ]
  },
  {
   "cell_type": "code",
   "execution_count": 399,
   "id": "central-banana",
   "metadata": {},
   "outputs": [],
   "source": [
    "cols = ['_AccountId', 'forum', 'ActivityDays', \n",
    "        'comments_number', 'edits_of_answers', 'edits_of_question', 'created_questions', \n",
    "        'comments_every_day', 'activity_answer_edits', 'activity_question_edits', 'activity_questions']"
   ]
  },
  {
   "cell_type": "code",
   "execution_count": 400,
   "id": "neutral-favor",
   "metadata": {},
   "outputs": [],
   "source": [
    "df = df[cols]"
   ]
  },
  {
   "cell_type": "code",
   "execution_count": 401,
   "id": "offshore-alignment",
   "metadata": {},
   "outputs": [
    {
     "name": "stdout",
     "output_type": "stream",
     "text": [
      "root\n",
      " |-- _AccountId: integer (nullable = true)\n",
      " |-- forum: string (nullable = true)\n",
      " |-- ActivityDays: double (nullable = true)\n",
      " |-- comments_number: double (nullable = true)\n",
      " |-- edits_of_answers: double (nullable = true)\n",
      " |-- edits_of_question: double (nullable = true)\n",
      " |-- created_questions: double (nullable = true)\n",
      " |-- comments_every_day: double (nullable = true)\n",
      " |-- activity_answer_edits: double (nullable = true)\n",
      " |-- activity_question_edits: double (nullable = true)\n",
      " |-- activity_questions: double (nullable = true)\n",
      "\n"
     ]
    }
   ],
   "source": [
    "df.printSchema()"
   ]
  },
  {
   "cell_type": "markdown",
   "id": "herbal-harvest",
   "metadata": {},
   "source": [
    "'OneHotEncoder'"
   ]
  },
  {
   "cell_type": "code",
   "execution_count": 402,
   "id": "powerful-entity",
   "metadata": {},
   "outputs": [],
   "source": [
    "str_cols = ['forum']\n",
    "encoder = OneHotEncoder(inputCol='forum', outputCol='forum_features')"
   ]
  },
  {
   "cell_type": "code",
   "execution_count": 758,
   "id": "quick-entry",
   "metadata": {},
   "outputs": [],
   "source": [
    "# unique list of forums\n",
    "forums_list = df.select('forum').distinct().rdd.map(lambda r: r[0]).collect()\n",
    "#forums_list"
   ]
  },
  {
   "cell_type": "code",
   "execution_count": 404,
   "id": "knowing-discrimination",
   "metadata": {},
   "outputs": [],
   "source": [
    "forum_udf = udf(lambda x: 1 if x == forum else 0)"
   ]
  },
  {
   "cell_type": "code",
   "execution_count": 405,
   "id": "periodic-component",
   "metadata": {},
   "outputs": [],
   "source": [
    "for forum in forums_list:\n",
    "    forum_udf = udf(lambda x: 1 if x == forum else 0)\n",
    "    df = df.withColumn(f'forum_{forum}', forum_udf('forum'))\n",
    "    df = df.withColumn(f'activity_days_{forum}', forum_udf('forum'))\n",
    "    df = df.withColumn(f'comments_number_{forum}', forum_udf('forum'))\n",
    "    df = df.withColumn(f'answer_edits_{forum}', forum_udf('forum'))\n",
    "    df = df.withColumn(f'question_edits_{forum}', forum_udf('forum'))\n",
    "    df = df.withColumn(f'created_questions_{forum}', forum_udf('forum'))\n",
    "    df = df.withColumn(f'activity_comments_{forum}', forum_udf('forum'))\n",
    "    df = df.withColumn(f'activity_answer_edits_{forum}', forum_udf('forum'))\n",
    "    df = df.withColumn(f'activity_question_edits_{forum}', forum_udf('forum'))\n",
    "    df = df.withColumn(f'activity_questions_{forum}', forum_udf('forum'))"
   ]
  },
  {
   "cell_type": "code",
   "execution_count": 406,
   "id": "separate-template",
   "metadata": {},
   "outputs": [],
   "source": [
    "exprs = {x: 'sum' for x in df.columns if x not in cols}"
   ]
  },
  {
   "cell_type": "code",
   "execution_count": 407,
   "id": "broadband-validity",
   "metadata": {},
   "outputs": [],
   "source": [
    "ddf=df.groupBy('_AccountId').agg(exprs)"
   ]
  },
  {
   "cell_type": "code",
   "execution_count": 408,
   "id": "standard-medication",
   "metadata": {},
   "outputs": [
    {
     "data": {
      "text/plain": [
       "81"
      ]
     },
     "execution_count": 408,
     "metadata": {},
     "output_type": "execute_result"
    }
   ],
   "source": [
    "# number of columns\n",
    "len(ddf.columns)"
   ]
  },
  {
   "cell_type": "markdown",
   "id": "animal-virginia",
   "metadata": {},
   "source": [
    "Features"
   ]
  },
  {
   "cell_type": "code",
   "execution_count": 133,
   "id": "regulated-warehouse",
   "metadata": {},
   "outputs": [],
   "source": [
    "from pyspark.ml.feature import VectorAssembler"
   ]
  },
  {
   "cell_type": "code",
   "execution_count": 410,
   "id": "under-colleague",
   "metadata": {},
   "outputs": [],
   "source": [
    "features = [col for col in ddf.columns if col != '_AccountId']"
   ]
  },
  {
   "cell_type": "code",
   "execution_count": 411,
   "id": "spatial-citation",
   "metadata": {},
   "outputs": [],
   "source": [
    "vector_assembler = VectorAssembler(inputCols = features, outputCol= \"features_output\")\n",
    "data_training_and_test = vector_assembler.transform(ddf)"
   ]
  },
  {
   "cell_type": "markdown",
   "id": "contained-vegetable",
   "metadata": {},
   "source": [
    "Normalization"
   ]
  },
  {
   "cell_type": "code",
   "execution_count": 412,
   "id": "brown-armenia",
   "metadata": {},
   "outputs": [],
   "source": [
    "from pyspark.ml.feature import Normalizer"
   ]
  },
  {
   "cell_type": "code",
   "execution_count": 413,
   "id": "gentle-sodium",
   "metadata": {},
   "outputs": [],
   "source": [
    "normalizer = Normalizer(p=1, inputCol=\"features_output\", outputCol=\"features_norm\")"
   ]
  },
  {
   "cell_type": "code",
   "execution_count": 414,
   "id": "aerial-breach",
   "metadata": {},
   "outputs": [],
   "source": [
    "data_training_and_test = normalizer.transform(data_training_and_test)"
   ]
  },
  {
   "cell_type": "markdown",
   "id": "ultimate-ivory",
   "metadata": {},
   "source": [
    "#### Train and Test Data"
   ]
  },
  {
   "cell_type": "code",
   "execution_count": 432,
   "id": "coastal-falls",
   "metadata": {},
   "outputs": [],
   "source": [
    "(training_data, test_data) = data_training_and_test.randomSplit([0.7, 0.3])"
   ]
  },
  {
   "cell_type": "markdown",
   "id": "framed-scheme",
   "metadata": {},
   "source": [
    "### Modeling Fitting and Tunning\n",
    "#### Grid Search - Finding the best parameters"
   ]
  },
  {
   "cell_type": "code",
   "execution_count": 415,
   "id": "sublime-transparency",
   "metadata": {},
   "outputs": [],
   "source": [
    "from pyspark.ml.tuning import CrossValidator, ParamGridBuilder\n",
    "from pyspark.ml.evaluation import ClusteringEvaluator\n",
    "from pyspark.ml.clustering import *\n",
    "from pyspark.ml.feature import PCA"
   ]
  },
  {
   "cell_type": "code",
   "execution_count": 416,
   "id": "weekly-evening",
   "metadata": {},
   "outputs": [
    {
     "data": {
      "text/plain": [
       "140"
      ]
     },
     "execution_count": 416,
     "metadata": {},
     "output_type": "execute_result"
    }
   ],
   "source": [
    "very_small_sample = data_training_and_test.sample(False, 0.001).cache()\n",
    "very_small_sample.count()"
   ]
  },
  {
   "cell_type": "markdown",
   "id": "ignored-struggle",
   "metadata": {},
   "source": [
    "Dimension Reduction/feature selection"
   ]
  },
  {
   "cell_type": "code",
   "execution_count": 417,
   "id": "severe-wallpaper",
   "metadata": {},
   "outputs": [],
   "source": [
    "pca_model = PCA(inputCol = \"features_norm\", outputCol = \"pca_features_cv_norm\")\n",
    "km = KMeans(seed=1, featuresCol=\"pca_features_cv_norm\")\n",
    "ppl_cv = Pipeline(stages = [pca_model, km])"
   ]
  },
  {
   "cell_type": "code",
   "execution_count": 418,
   "id": "cultural-collect",
   "metadata": {},
   "outputs": [
    {
     "data": {
      "text/plain": [
       "[24.0, 40.0, 61.0]"
      ]
     },
     "execution_count": 418,
     "metadata": {},
     "output_type": "execute_result"
    }
   ],
   "source": [
    "ddf_length = len(ddf.columns)\n",
    "from builtins import round as base_round\n",
    "pca_nums = [base_round(i*ddf_length, 0) for i in [0.3, 0.5, 0.75]]\n",
    "pca_nums"
   ]
  },
  {
   "cell_type": "code",
   "execution_count": 427,
   "id": "related-henry",
   "metadata": {},
   "outputs": [],
   "source": [
    "paramGrid = ParamGridBuilder() \\\n",
    "      .addGrid(pca_model.k, pca_nums) \\\n",
    "      .addGrid(km.k, [5, 8, 10]) \\\n",
    "      .build()"
   ]
  },
  {
   "cell_type": "code",
   "execution_count": 429,
   "id": "quick-pennsylvania",
   "metadata": {},
   "outputs": [],
   "source": [
    "crossval = CrossValidator(estimator = ppl_cv, \n",
    "                          estimatorParamMaps=paramGrid,\n",
    "                          evaluator = ClusteringEvaluator(featuresCol='pca_features_cv_norm', predictionCol='prediction'),\n",
    "                          numFolds=4)"
   ]
  },
  {
   "cell_type": "code",
   "execution_count": 430,
   "id": "cosmetic-canyon",
   "metadata": {},
   "outputs": [],
   "source": [
    "cv_model = crossval.fit(very_small_sample)"
   ]
  },
  {
   "cell_type": "code",
   "execution_count": 433,
   "id": "wired-choice",
   "metadata": {},
   "outputs": [
    {
     "data": {
      "text/plain": [
       "0.9338317823288612"
      ]
     },
     "execution_count": 433,
     "metadata": {},
     "output_type": "execute_result"
    }
   ],
   "source": [
    "cv_predictions = cv_model.transform(test_data)\n",
    "evaluator = ClusteringEvaluator(featuresCol='pca_features_cv_norm', predictionCol='prediction')\n",
    "accuracy = evaluator.evaluate(cv_predictions)\n",
    "accuracy"
   ]
  },
  {
   "cell_type": "code",
   "execution_count": 434,
   "id": "convertible-startup",
   "metadata": {},
   "outputs": [
    {
     "data": {
      "text/plain": [
       "[0.680244805460872,\n",
       " 0.8825390597751505,\n",
       " 0.8789360711909354,\n",
       " 0.7235465042690128,\n",
       " 0.8825390597751505,\n",
       " 0.8721687266933276,\n",
       " 0.7006112809685898,\n",
       " 0.8838346891214681,\n",
       " 0.8789360711909354]"
      ]
     },
     "execution_count": 434,
     "metadata": {},
     "output_type": "execute_result"
    }
   ],
   "source": [
    "cv_model.avgMetrics"
   ]
  },
  {
   "cell_type": "markdown",
   "id": "residential-worth",
   "metadata": {},
   "source": [
    "##### Best model parameters"
   ]
  },
  {
   "cell_type": "code",
   "execution_count": 440,
   "id": "continued-carbon",
   "metadata": {},
   "outputs": [
    {
     "name": "stdout",
     "output_type": "stream",
     "text": [
      "PCA parameters:\n",
      "PCAModel: uid=PCA_d568cc7898b3, k=61\n",
      "KMeans parameters:\n",
      "KMeansModel: uid=KMeans_8f47fa9e8b2f, k=8, distanceMeasure=euclidean, numFeatures=61\n"
     ]
    }
   ],
   "source": [
    "best_model = cv_model.bestModel\n",
    "print(f'PCA parameters:\\n'\n",
    "      f'{best_model.stages[0]}')\n",
    "print(f'KMeans parameters:\\n'\n",
    "      f'{best_model.stages[1]}')"
   ]
  },
  {
   "cell_type": "code",
   "execution_count": 444,
   "id": "suburban-turner",
   "metadata": {},
   "outputs": [],
   "source": [
    "kmeans_num = best_model.stages[1].getK()\n",
    "pca_num = best_model.stages[0].getK()"
   ]
  },
  {
   "cell_type": "markdown",
   "id": "loving-apparatus",
   "metadata": {},
   "source": [
    "Modeling fitting and tuning"
   ]
  },
  {
   "cell_type": "code",
   "execution_count": 485,
   "id": "stainless-extreme",
   "metadata": {},
   "outputs": [],
   "source": [
    "pca_model = PCA(k=pca_num, inputCol = \"features_norm\", outputCol = \"pca_features_norm\")\n",
    "tuned_model = KMeans(k=kmeans_num, seed=1, featuresCol=\"pca_features_norm\")\n",
    "tuned_ppl = Pipeline(stages = [pca_model, tuned_model])"
   ]
  },
  {
   "cell_type": "code",
   "execution_count": 498,
   "id": "dominant-candle",
   "metadata": {},
   "outputs": [],
   "source": [
    "tuned_ppl = tuned_ppl.fit(training_data) # tuned_ppl - PipelineModel"
   ]
  },
  {
   "cell_type": "code",
   "execution_count": 499,
   "id": "painted-louisville",
   "metadata": {},
   "outputs": [],
   "source": [
    "trained_data = tuned_ppl.transform(data_training_and_test) # transformujemy nasze dane, zeby otrzymac wektor cech"
   ]
  },
  {
   "cell_type": "code",
   "execution_count": 452,
   "id": "military-poker",
   "metadata": {},
   "outputs": [
    {
     "data": {
      "text/plain": [
       "8"
      ]
     },
     "execution_count": 452,
     "metadata": {},
     "output_type": "execute_result"
    }
   ],
   "source": [
    "centers = tuned_ppl.stages[1].clusterCenters()\n",
    "len(centers)"
   ]
  },
  {
   "cell_type": "code",
   "execution_count": 457,
   "id": "pacific-museum",
   "metadata": {},
   "outputs": [
    {
     "data": {
      "text/plain": [
       "0.9318446689509495"
      ]
     },
     "execution_count": 457,
     "metadata": {},
     "output_type": "execute_result"
    }
   ],
   "source": [
    "train_predictions = tuned_ppl.transform(training_data)\n",
    "evaluator = ClusteringEvaluator(featuresCol='pca_features_norm', predictionCol='prediction')\n",
    "train_accuracy = evaluator.evaluate(train_predictions)\n",
    "train_accuracy"
   ]
  },
  {
   "cell_type": "markdown",
   "id": "quantitative-emission",
   "metadata": {},
   "source": [
    "#### Evaluation\n",
    "Evaluator for Clustering results, which expects two input columns: prediction and features. The metric computes the Silhouette measure using the squared Euclidean distance.\n",
    "\n",
    "The Silhouette is a measure for the validation of the consistency within clusters. It ranges between 1 and -1, where a value close to 1 means that the points in a cluster are close to the other points in the same cluster and far from the points of the other clusters."
   ]
  },
  {
   "cell_type": "code",
   "execution_count": 455,
   "id": "eight-reservoir",
   "metadata": {},
   "outputs": [
    {
     "data": {
      "text/plain": [
       "0.9337305689924346"
      ]
     },
     "execution_count": 455,
     "metadata": {},
     "output_type": "execute_result"
    }
   ],
   "source": [
    "predictions = tuned_ppl.transform(test_data)\n",
    "evaluator = ClusteringEvaluator(featuresCol='pca_features_norm', predictionCol='prediction')\n",
    "test_accuracy = evaluator.evaluate(predictions)\n",
    "test_accuracy"
   ]
  },
  {
   "cell_type": "markdown",
   "id": "horizontal-trance",
   "metadata": {},
   "source": [
    "### Save and Load Model"
   ]
  },
  {
   "cell_type": "code",
   "execution_count": 458,
   "id": "conventional-connectivity",
   "metadata": {},
   "outputs": [],
   "source": [
    "tuned_ppl.write().overwrite().save(input_path+'fitted_model')"
   ]
  },
  {
   "cell_type": "code",
   "execution_count": 459,
   "id": "closing-transparency",
   "metadata": {},
   "outputs": [],
   "source": [
    "from pyspark.ml import PipelineModel\n",
    "mm=PipelineModel.load(input_path+'fitted_model')"
   ]
  },
  {
   "cell_type": "code",
   "execution_count": 518,
   "id": "cultural-samoa",
   "metadata": {},
   "outputs": [],
   "source": [
    "cluster_centers = mm.stages[1].clusterCenters()"
   ]
  },
  {
   "cell_type": "code",
   "execution_count": null,
   "id": "stuffed-insert",
   "metadata": {},
   "outputs": [],
   "source": [
    "# function to compare cluster centers to real data vectors\n",
    "#from pyspark.ml.linalg import Vectors\n",
    "#centroid = Vectors.dense(cluster_centers[0])\n",
    "#centroid\n",
    "#udf definition    \n",
    "#def calc_centers(app, app_list):\n",
    "#    if app == app_list:\n",
    "#        return 1\n",
    "#    else:\n",
    "#        return 0\n",
    "#def calc_centersUDF(app_list):\n",
    "#    return udf(lambda l: calc_centers(l, app_list))\n",
    "#trained_data = trained_data.withColumn('test', calc_centersUDF(centroid)(col('pca_features_norm')))\n",
    "#trained_data.count()\n",
    "#trained_data['pca_features_norm', 'test'].show(100, truncate=False)\n",
    "#trained_data['_AccountId', 'test'].filter(trained_data['test'] == 1).show()"
   ]
  },
  {
   "cell_type": "markdown",
   "id": "distinguished-kentucky",
   "metadata": {},
   "source": [
    "Assign predictions to data"
   ]
  },
  {
   "cell_type": "code",
   "execution_count": 779,
   "id": "single-server",
   "metadata": {},
   "outputs": [],
   "source": [
    "trained_data_to_join = trained_data['_AccountId', 'prediction']\n",
    "df2 = df[cols]"
   ]
  },
  {
   "cell_type": "code",
   "execution_count": 777,
   "id": "integrated-hearts",
   "metadata": {},
   "outputs": [],
   "source": [
    "df_clustered = df2.join(trained_data_to_join, on='_AccountId', how='left')"
   ]
  },
  {
   "cell_type": "code",
   "execution_count": 773,
   "id": "sticky-sudan",
   "metadata": {},
   "outputs": [
    {
     "name": "stdout",
     "output_type": "stream",
     "text": [
      "+----------+----------+------------+\n",
      "|_AccountId|prediction|       forum|\n",
      "+----------+----------+------------+\n",
      "|         9|         7|   mythology|\n",
      "|      2002|         1|   chemistry|\n",
      "|      6576|         1|   chemistry|\n",
      "|     25515|         1|   chemistry|\n",
      "|     27657|         7|     spanish|\n",
      "|     30571|         5|     spanish|\n",
      "|     31703|         7|     spanish|\n",
      "|     34968|         0|      french|\n",
      "|     40966|         7|      french|\n",
      "|     41985|         7|     italian|\n",
      "|     49182|         2|windowsphone|\n",
      "|     52519|         0|      french|\n",
      "|     52720|         5|     spanish|\n",
      "|     54600|         2|windowsphone|\n",
      "|     59022|         5|     spanish|\n",
      "|     60109|         2|windowsphone|\n",
      "|     66654|         1|   chemistry|\n",
      "|     75047|         1|   chemistry|\n",
      "|     80650|         7|  portuguese|\n",
      "|     85936|         5|     spanish|\n",
      "+----------+----------+------------+\n",
      "only showing top 20 rows\n",
      "\n"
     ]
    }
   ],
   "source": [
    "df_clustered['_AccountId', 'prediction', 'forum'].show()"
   ]
  },
  {
   "cell_type": "code",
   "execution_count": 782,
   "id": "incident-theta",
   "metadata": {},
   "outputs": [
    {
     "name": "stdout",
     "output_type": "stream",
     "text": [
      "root\n",
      " |-- _AccountId: integer (nullable = true)\n",
      " |-- forum: string (nullable = true)\n",
      " |-- ActivityDays: double (nullable = true)\n",
      " |-- comments_number: double (nullable = true)\n",
      " |-- edits_of_answers: double (nullable = true)\n",
      " |-- edits_of_question: double (nullable = true)\n",
      " |-- created_questions: double (nullable = true)\n",
      " |-- comments_every_day: double (nullable = true)\n",
      " |-- activity_answer_edits: double (nullable = true)\n",
      " |-- activity_question_edits: double (nullable = true)\n",
      " |-- activity_questions: double (nullable = true)\n",
      " |-- prediction: integer (nullable = true)\n",
      "\n"
     ]
    }
   ],
   "source": [
    "# dane z predykcjami dt. klastrow\n",
    "df_clustered.printSchema()"
   ]
  },
  {
   "cell_type": "code",
   "execution_count": 783,
   "id": "revised-leone",
   "metadata": {},
   "outputs": [],
   "source": [
    "df_clustered.write.csv(path=input_path+'clustered_data_users', mode='overwrite', header=True)"
   ]
  },
  {
   "cell_type": "code",
   "execution_count": 785,
   "id": "metric-arcade",
   "metadata": {},
   "outputs": [],
   "source": [
    "import pandas as pd\n",
    "import numpy as np\n",
    "import seaborn as sns\n",
    "import matplotlib.pyplot as plt\n",
    "from string import ascii_letters"
   ]
  },
  {
   "cell_type": "code",
   "execution_count": null,
   "id": "apparent-capital",
   "metadata": {},
   "outputs": [],
   "source": [
    "sns.set_theme(style=\"white\")"
   ]
  },
  {
   "cell_type": "code",
   "execution_count": 788,
   "id": "facial-nightmare",
   "metadata": {},
   "outputs": [],
   "source": [
    "d=ddf['sum(forum_mythology)',\n",
    "'sum(forum_french)',\n",
    " 'sum(forum_chemistry)',\n",
    "           'sum(forum_spanish)',\n",
    " 'sum(forum_vegetarianism)',\n",
    " 'sum(forum_portuguese)',\n",
    " 'sum(forum_italian)', 'sum(forum_windowsphone)']"
   ]
  },
  {
   "cell_type": "code",
   "execution_count": null,
   "id": "legislative-costa",
   "metadata": {},
   "outputs": [],
   "source": [
    "expr = {}"
   ]
  },
  {
   "cell_type": "code",
   "execution_count": null,
   "id": "entitled-creature",
   "metadata": {},
   "outputs": [],
   "source": [
    "d.withColumnRenamed(expr)"
   ]
  },
  {
   "cell_type": "code",
   "execution_count": 791,
   "id": "statutory-basis",
   "metadata": {},
   "outputs": [],
   "source": [
    "d=d.toPandas()"
   ]
  },
  {
   "cell_type": "code",
   "execution_count": 793,
   "id": "minute-collectible",
   "metadata": {},
   "outputs": [
    {
     "data": {
      "text/plain": [
       "<AxesSubplot:>"
      ]
     },
     "execution_count": 793,
     "metadata": {},
     "output_type": "execute_result"
    },
    {
     "data": {
      "image/png": "[encoded data removed]",
      "text/plain": [
       "<Figure size 792x648 with 2 Axes>"
      ]
     },
     "metadata": {
      "needs_background": "light"
     },
     "output_type": "display_data"
    }
   ],
   "source": [
    "#rs = np.random.RandomState(33)\n",
    "#d = pd.DataFrame(data=rs.normal(size=(100, 26)),\n",
    " #                columns=list(ascii_letters[26:]))\n",
    "d\n",
    "# Compute the correlation matrix\n",
    "corr = d.corr()\n",
    "\n",
    "# Generate a mask for the upper triangle\n",
    "mask = np.triu(np.ones_like(corr, dtype=bool))\n",
    "\n",
    "# Set up the matplotlib figure\n",
    "f, ax = plt.subplots(figsize=(11, 9))\n",
    "\n",
    "# Generate a custom diverging colormap\n",
    "cmap = sns.diverging_palette(230, 20, as_cmap=True)\n",
    "\n",
    "# Draw the heatmap with the mask and correct aspect ratio\n",
    "sns.heatmap(corr, mask=mask, cmap=cmap, vmax=.7, center=0,\n",
    "            square=True, linewidths=.5, cbar_kws={\"shrink\": .5})\n"
   ]
  },
  {
   "cell_type": "code",
   "execution_count": null,
   "id": "future-regression",
   "metadata": {},
   "outputs": [],
   "source": []
  }
 ],
 "metadata": {
  "kernelspec": {
   "display_name": "Python 3",
   "language": "python",
   "name": "python3"
  },
  "language_info": {
   "codemirror_mode": {
    "name": "ipython",
    "version": 3
   },
   "file_extension": ".py",
   "mimetype": "text/x-python",
   "name": "python",
   "nbconvert_exporter": "python",
   "pygments_lexer": "ipython3",
   "version": "3.8.6"
  }
 },
 "nbformat": 4,
 "nbformat_minor": 5
}
