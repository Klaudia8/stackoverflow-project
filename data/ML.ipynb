{
 "cells": [
  {
   "cell_type": "code",
   "execution_count": 1,
   "id": "complimentary-orientation",
   "metadata": {},
   "outputs": [],
   "source": [
    "from pyspark.sql import SparkSession\n",
    "\n",
    "spark = SparkSession.builder \\\n",
    "    .appName('MachineLearning') \\\n",
    "    .master('local[*]') \\\n",
    "    .getOrCreate()"
   ]
  },
  {
   "cell_type": "code",
   "execution_count": 2,
   "id": "false-dubai",
   "metadata": {},
   "outputs": [],
   "source": [
    "input_path = '/home/jovyan/work/data/'\n",
    "users_path = f'{input_path}cleaned_data_users/'"
   ]
  },
  {
   "cell_type": "code",
   "execution_count": 3,
   "id": "renewable-groove",
   "metadata": {},
   "outputs": [],
   "source": [
    "df = spark.read.csv(users_path, multiLine=True, header=True, inferSchema=True)"
   ]
  },
  {
   "cell_type": "code",
   "execution_count": 5,
   "id": "adapted-norfolk",
   "metadata": {},
   "outputs": [
    {
     "name": "stdout",
     "output_type": "stream",
     "text": [
      "Users-rows: 147577\n"
     ]
    }
   ],
   "source": [
    "print(f'Dataframe rows number: {df.count()}')"
   ]
  },
  {
   "cell_type": "code",
   "execution_count": 6,
   "id": "overall-starter",
   "metadata": {},
   "outputs": [],
   "source": [
    "from pyspark.ml import Pipeline\n",
    "from pyspark.ml.feature import OneHotEncoder, StringIndexer"
   ]
  },
  {
   "cell_type": "code",
   "execution_count": 18,
   "id": "suited-congo",
   "metadata": {},
   "outputs": [],
   "source": [
    "cols = ['_AccountId', 'forum', 'ActivityDays', \n",
    "        'comments_number', 'edits_of_answers', 'edits_of_question', 'created_questions', \n",
    "        'comments_every_day', 'activity_answer_edits', 'activity_question_edits', 'activity_questions']"
   ]
  },
  {
   "cell_type": "code",
   "execution_count": 19,
   "id": "perceived-macintosh",
   "metadata": {},
   "outputs": [],
   "source": [
    "df = df[cols]"
   ]
  },
  {
   "cell_type": "code",
   "execution_count": 20,
   "id": "deadly-playing",
   "metadata": {},
   "outputs": [
    {
     "name": "stdout",
     "output_type": "stream",
     "text": [
      "root\n",
      " |-- _AccountId: integer (nullable = true)\n",
      " |-- forum: string (nullable = true)\n",
      " |-- ActivityDays: double (nullable = true)\n",
      " |-- comments_number: double (nullable = true)\n",
      " |-- edits_of_answers: double (nullable = true)\n",
      " |-- edits_of_question: double (nullable = true)\n",
      " |-- created_questions: double (nullable = true)\n",
      " |-- comments_every_day: double (nullable = true)\n",
      " |-- activity_answer_edits: double (nullable = true)\n",
      " |-- activity_question_edits: double (nullable = true)\n",
      " |-- activity_questions: double (nullable = true)\n",
      "\n"
     ]
    }
   ],
   "source": [
    "df.printSchema()"
   ]
  },
  {
   "cell_type": "markdown",
   "id": "convenient-blake",
   "metadata": {},
   "source": [
    "'OneHotEncoder'"
   ]
  },
  {
   "cell_type": "code",
   "execution_count": 22,
   "id": "objective-namibia",
   "metadata": {},
   "outputs": [],
   "source": [
    "str_cols = ['forum']\n",
    "encoder = OneHotEncoder(inputCol='forum', outputCol='forum_features')"
   ]
  },
  {
   "cell_type": "code",
   "execution_count": 78,
   "id": "behind-russell",
   "metadata": {},
   "outputs": [],
   "source": [
    "# unique list of forums\n",
    "forums_list = df.select('forum').distinct().rdd.map(lambda r: r[0]).collect()"
   ]
  },
  {
   "cell_type": "code",
   "execution_count": 109,
   "id": "historic-effort",
   "metadata": {},
   "outputs": [],
   "source": [
    "forum_udf = udf(lambda x: 1 if x == forum else 0)"
   ]
  },
  {
   "cell_type": "code",
   "execution_count": 127,
   "id": "external-swedish",
   "metadata": {},
   "outputs": [],
   "source": [
    "for forum in forums_list:\n",
    "    forum_udf = udf(lambda x: 1 if x == forum else 0)\n",
    "    df = df.withColumn(f'forum_{forum}', forum_udf('forum'))\n",
    "    df = df.withColumn(f'activity_days_{forum}', forum_udf('forum'))\n",
    "    df = df.withColumn(f'comments_number_{forum}', forum_udf('forum'))\n",
    "    df = df.withColumn(f'answer_edits_{forum}', forum_udf('forum'))\n",
    "    df = df.withColumn(f'question_edits_{forum}', forum_udf('forum'))\n",
    "    df = df.withColumn(f'created_questions_{forum}', forum_udf('forum'))\n",
    "    df = df.withColumn(f'activity_comments_{forum}', forum_udf('forum'))\n",
    "    df = df.withColumn(f'activity_answer_edits_{forum}', forum_udf('forum'))\n",
    "    df = df.withColumn(f'activity_question_edits_{forum}', forum_udf('forum'))\n",
    "    df = df.withColumn(f'activity_questions_{forum}', forum_udf('forum'))"
   ]
  },
  {
   "cell_type": "code",
   "execution_count": 128,
   "id": "agricultural-ancient",
   "metadata": {},
   "outputs": [],
   "source": [
    "exprs = {x: 'sum' for x in df.columns if x not in cols}"
   ]
  },
  {
   "cell_type": "code",
   "execution_count": 129,
   "id": "exempt-stephen",
   "metadata": {},
   "outputs": [],
   "source": [
    "ddf=df.groupBy('_AccountId').agg(exprs)"
   ]
  },
  {
   "cell_type": "code",
   "execution_count": 132,
   "id": "affiliated-forge",
   "metadata": {},
   "outputs": [
    {
     "data": {
      "text/plain": [
       "71"
      ]
     },
     "execution_count": 132,
     "metadata": {},
     "output_type": "execute_result"
    }
   ],
   "source": [
    "# number of columns\n",
    "len(ddf.columns)"
   ]
  },
  {
   "cell_type": "markdown",
   "id": "broad-joint",
   "metadata": {},
   "source": [
    "Features"
   ]
  },
  {
   "cell_type": "code",
   "execution_count": 133,
   "id": "pressed-payroll",
   "metadata": {},
   "outputs": [],
   "source": [
    "from pyspark.ml.feature import VectorAssembler"
   ]
  },
  {
   "cell_type": "code",
   "execution_count": 137,
   "id": "coordinate-cliff",
   "metadata": {},
   "outputs": [],
   "source": [
    "features = [col for col in ddf.columns if col != '_AccountId']"
   ]
  },
  {
   "cell_type": "code",
   "execution_count": 138,
   "id": "annual-processing",
   "metadata": {},
   "outputs": [],
   "source": [
    "vector_assembler = VectorAssembler(inputCols = features, outputCol= \"features_output\")\n",
    "data_training_and_test = vector_assembler.transform(ddf)"
   ]
  },
  {
   "cell_type": "markdown",
   "id": "qualified-clock",
   "metadata": {},
   "source": [
    "Dimension Reduction/feature selection"
   ]
  },
  {
   "cell_type": "code",
   "execution_count": 139,
   "id": "other-pierre",
   "metadata": {},
   "outputs": [],
   "source": [
    "from pyspark.ml.feature import PCA"
   ]
  },
  {
   "cell_type": "code",
   "execution_count": 144,
   "id": "hungry-philosophy",
   "metadata": {},
   "outputs": [],
   "source": [
    "# k - extract k features from all\n",
    "pca_model = PCA(k = 30, inputCol = \"features_output\", outputCol = \"pca_features\")\n",
    "model = pca_model.fit(data_training_and_test)\n",
    "data_training_and_test = model.transform(data_training_and_test)"
   ]
  },
  {
   "cell_type": "markdown",
   "id": "clinical-victor",
   "metadata": {},
   "source": [
    "Modeling fitting and tuning"
   ]
  },
  {
   "cell_type": "code",
   "execution_count": 160,
   "id": "united-probe",
   "metadata": {},
   "outputs": [],
   "source": [
    "from pyspark.ml.linalg import Vectors\n",
    "from pyspark.ml.clustering import *\n",
    "from pyspark.ml.evaluation import ClusteringEvaluator"
   ]
  },
  {
   "cell_type": "code",
   "execution_count": 149,
   "id": "cleared-sending",
   "metadata": {},
   "outputs": [],
   "source": [
    "(training_data, test_data) = data_training_and_test.randomSplit([0.7, 0.3])"
   ]
  },
  {
   "cell_type": "code",
   "execution_count": 162,
   "id": "widespread-trance",
   "metadata": {},
   "outputs": [],
   "source": [
    "kmeans_model = KMeans(k=10, seed=1, featuresCol='features_output')"
   ]
  },
  {
   "cell_type": "code",
   "execution_count": 163,
   "id": "extensive-yugoslavia",
   "metadata": {},
   "outputs": [],
   "source": [
    "kmeans_model = kmeans.fit(training_data)"
   ]
  },
  {
   "cell_type": "code",
   "execution_count": 166,
   "id": "entitled-mailman",
   "metadata": {},
   "outputs": [
    {
     "data": {
      "text/plain": [
       "10"
      ]
     },
     "execution_count": 166,
     "metadata": {},
     "output_type": "execute_result"
    }
   ],
   "source": [
    "centers = model.clusterCenters()\n",
    "len(centers)"
   ]
  },
  {
   "cell_type": "code",
   "execution_count": 165,
   "id": "fifteen-battlefield",
   "metadata": {},
   "outputs": [],
   "source": [
    "predictions = kmeans_model.transform(test_data)"
   ]
  },
  {
   "cell_type": "code",
   "execution_count": 169,
   "id": "chemical-switch",
   "metadata": {},
   "outputs": [],
   "source": [
    "evaluator = ClusteringEvaluator(featuresCol='features_output', predictionCol='prediction')\n",
    "#evaluator.evaluate(predictions)"
   ]
  },
  {
   "cell_type": "code",
   "execution_count": 171,
   "id": "adverse-astronomy",
   "metadata": {},
   "outputs": [
    {
     "data": {
      "text/plain": [
       "0.902137542953629"
      ]
     },
     "execution_count": 171,
     "metadata": {},
     "output_type": "execute_result"
    }
   ],
   "source": [
    "evaluator.evaluate(predictions)"
   ]
  },
  {
   "cell_type": "markdown",
   "id": "silver-precipitation",
   "metadata": {},
   "source": [
    "Evaluation"
   ]
  },
  {
   "cell_type": "code",
   "execution_count": 167,
   "id": "italic-leeds",
   "metadata": {},
   "outputs": [
    {
     "ename": "IllegalArgumentException",
     "evalue": "features does not exist. Available: _AccountId, sum(created_questions_windowsphone), sum(activity_question_edits_windowsphone), sum(activity_days_portuguese), sum(activity_questions_french), sum(answer_edits_windowsphone), sum(comments_number_spanish), sum(activity_questions_italian), sum(activity_comments_french), sum(created_questions_french), sum(activity_answer_edits_italian), sum(comments_number_french), sum(activity_answer_edits_spanish), sum(question_edits_italian), sum(activity_questions_mythology), sum(forum_mythology), sum(activity_days_french), sum(activity_days_italian), sum(activity_days_vegetarianism), sum(forum_french), sum(created_questions_vegetarianism), sum(created_questions_portuguese), sum(activity_answer_edits_mythology), sum(activity_question_edits_mythology), sum(activity_questions_windowsphone), sum(activity_comments_windowsphone), sum(activity_question_edits_italian), sum(activity_question_edits_spanish), sum(question_edits_spanish), sum(activity_comments_vegetarianism), sum(created_questions_italian), sum(question_edits_mythology), sum(comments_number_portuguese), sum(question_edits_portuguese), sum(activity_questions_portuguese), sum(activity_comments_mythology), sum(forum_spanish), sum(forum_vegetarianism), sum(forum_portuguese), sum(answer_edits_portuguese), sum(created_questions_mythology), sum(comments_number_windowsphone), sum(forum_italian), sum(question_edits_vegetarianism), sum(activity_question_edits_french), sum(activity_questions_vegetarianism), sum(activity_question_edits_portuguese), sum(activity_days_mythology), sum(answer_edits_vegetarianism), sum(question_edits_french), sum(answer_edits_italian), sum(activity_answer_edits_vegetarianism), sum(answer_edits_spanish), sum(comments_number_vegetarianism), sum(activity_questions_spanish), sum(activity_comments_portuguese), sum(activity_question_edits_vegetarianism), sum(forum_windowsphone), sum(comments_number_mythology), sum(activity_answer_edits_windowsphone), sum(activity_days_windowsphone), sum(answer_edits_french), sum(activity_comments_italian), sum(activity_days_spanish), sum(activity_answer_edits_portuguese), sum(activity_answer_edits_french), sum(created_questions_spanish), sum(comments_number_italian), sum(activity_comments_spanish), sum(answer_edits_mythology), sum(question_edits_windowsphone), features_output, pca_features, prediction",
     "output_type": "error",
     "traceback": [
      "\u001b[0;31m---------------------------------------------------------------------------\u001b[0m",
      "\u001b[0;31mIllegalArgumentException\u001b[0m                  Traceback (most recent call last)",
      "\u001b[0;32m<ipython-input-167-77480da05f7e>\u001b[0m in \u001b[0;36m<module>\u001b[0;34m\u001b[0m\n\u001b[1;32m      1\u001b[0m \u001b[0mevaluator\u001b[0m \u001b[0;34m=\u001b[0m \u001b[0mClusteringEvaluator\u001b[0m\u001b[0;34m(\u001b[0m\u001b[0;34m)\u001b[0m\u001b[0;34m\u001b[0m\u001b[0;34m\u001b[0m\u001b[0m\n\u001b[0;32m----> 2\u001b[0;31m \u001b[0mevaluator\u001b[0m\u001b[0;34m.\u001b[0m\u001b[0mevaluate\u001b[0m\u001b[0;34m(\u001b[0m\u001b[0mpredictions\u001b[0m\u001b[0;34m)\u001b[0m\u001b[0;34m\u001b[0m\u001b[0;34m\u001b[0m\u001b[0m\n\u001b[0m",
      "\u001b[0;32m/usr/local/spark/python/pyspark/ml/evaluation.py\u001b[0m in \u001b[0;36mevaluate\u001b[0;34m(self, dataset, params)\u001b[0m\n\u001b[1;32m     70\u001b[0m                 \u001b[0;32mreturn\u001b[0m \u001b[0mself\u001b[0m\u001b[0;34m.\u001b[0m\u001b[0mcopy\u001b[0m\u001b[0;34m(\u001b[0m\u001b[0mparams\u001b[0m\u001b[0;34m)\u001b[0m\u001b[0;34m.\u001b[0m\u001b[0m_evaluate\u001b[0m\u001b[0;34m(\u001b[0m\u001b[0mdataset\u001b[0m\u001b[0;34m)\u001b[0m\u001b[0;34m\u001b[0m\u001b[0;34m\u001b[0m\u001b[0m\n\u001b[1;32m     71\u001b[0m             \u001b[0;32melse\u001b[0m\u001b[0;34m:\u001b[0m\u001b[0;34m\u001b[0m\u001b[0;34m\u001b[0m\u001b[0m\n\u001b[0;32m---> 72\u001b[0;31m                 \u001b[0;32mreturn\u001b[0m \u001b[0mself\u001b[0m\u001b[0;34m.\u001b[0m\u001b[0m_evaluate\u001b[0m\u001b[0;34m(\u001b[0m\u001b[0mdataset\u001b[0m\u001b[0;34m)\u001b[0m\u001b[0;34m\u001b[0m\u001b[0;34m\u001b[0m\u001b[0m\n\u001b[0m\u001b[1;32m     73\u001b[0m         \u001b[0;32melse\u001b[0m\u001b[0;34m:\u001b[0m\u001b[0;34m\u001b[0m\u001b[0;34m\u001b[0m\u001b[0m\n\u001b[1;32m     74\u001b[0m             \u001b[0;32mraise\u001b[0m \u001b[0mValueError\u001b[0m\u001b[0;34m(\u001b[0m\u001b[0;34m\"Params must be a param map but got %s.\"\u001b[0m \u001b[0;34m%\u001b[0m \u001b[0mtype\u001b[0m\u001b[0;34m(\u001b[0m\u001b[0mparams\u001b[0m\u001b[0;34m)\u001b[0m\u001b[0;34m)\u001b[0m\u001b[0;34m\u001b[0m\u001b[0;34m\u001b[0m\u001b[0m\n",
      "\u001b[0;32m/usr/local/spark/python/pyspark/ml/evaluation.py\u001b[0m in \u001b[0;36m_evaluate\u001b[0;34m(self, dataset)\u001b[0m\n\u001b[1;32m    100\u001b[0m         \"\"\"\n\u001b[1;32m    101\u001b[0m         \u001b[0mself\u001b[0m\u001b[0;34m.\u001b[0m\u001b[0m_transfer_params_to_java\u001b[0m\u001b[0;34m(\u001b[0m\u001b[0;34m)\u001b[0m\u001b[0;34m\u001b[0m\u001b[0;34m\u001b[0m\u001b[0m\n\u001b[0;32m--> 102\u001b[0;31m         \u001b[0;32mreturn\u001b[0m \u001b[0mself\u001b[0m\u001b[0;34m.\u001b[0m\u001b[0m_java_obj\u001b[0m\u001b[0;34m.\u001b[0m\u001b[0mevaluate\u001b[0m\u001b[0;34m(\u001b[0m\u001b[0mdataset\u001b[0m\u001b[0;34m.\u001b[0m\u001b[0m_jdf\u001b[0m\u001b[0;34m)\u001b[0m\u001b[0;34m\u001b[0m\u001b[0;34m\u001b[0m\u001b[0m\n\u001b[0m\u001b[1;32m    103\u001b[0m \u001b[0;34m\u001b[0m\u001b[0m\n\u001b[1;32m    104\u001b[0m     \u001b[0;32mdef\u001b[0m \u001b[0misLargerBetter\u001b[0m\u001b[0;34m(\u001b[0m\u001b[0mself\u001b[0m\u001b[0;34m)\u001b[0m\u001b[0;34m:\u001b[0m\u001b[0;34m\u001b[0m\u001b[0;34m\u001b[0m\u001b[0m\n",
      "\u001b[0;32m/usr/local/spark/python/lib/py4j-0.10.9-src.zip/py4j/java_gateway.py\u001b[0m in \u001b[0;36m__call__\u001b[0;34m(self, *args)\u001b[0m\n\u001b[1;32m   1302\u001b[0m \u001b[0;34m\u001b[0m\u001b[0m\n\u001b[1;32m   1303\u001b[0m         \u001b[0manswer\u001b[0m \u001b[0;34m=\u001b[0m \u001b[0mself\u001b[0m\u001b[0;34m.\u001b[0m\u001b[0mgateway_client\u001b[0m\u001b[0;34m.\u001b[0m\u001b[0msend_command\u001b[0m\u001b[0;34m(\u001b[0m\u001b[0mcommand\u001b[0m\u001b[0;34m)\u001b[0m\u001b[0;34m\u001b[0m\u001b[0;34m\u001b[0m\u001b[0m\n\u001b[0;32m-> 1304\u001b[0;31m         return_value = get_return_value(\n\u001b[0m\u001b[1;32m   1305\u001b[0m             answer, self.gateway_client, self.target_id, self.name)\n\u001b[1;32m   1306\u001b[0m \u001b[0;34m\u001b[0m\u001b[0m\n",
      "\u001b[0;32m/usr/local/spark/python/pyspark/sql/utils.py\u001b[0m in \u001b[0;36mdeco\u001b[0;34m(*a, **kw)\u001b[0m\n\u001b[1;32m    132\u001b[0m                 \u001b[0;31m# Hide where the exception came from that shows a non-Pythonic\u001b[0m\u001b[0;34m\u001b[0m\u001b[0;34m\u001b[0m\u001b[0;34m\u001b[0m\u001b[0m\n\u001b[1;32m    133\u001b[0m                 \u001b[0;31m# JVM exception message.\u001b[0m\u001b[0;34m\u001b[0m\u001b[0;34m\u001b[0m\u001b[0;34m\u001b[0m\u001b[0m\n\u001b[0;32m--> 134\u001b[0;31m                 \u001b[0mraise_from\u001b[0m\u001b[0;34m(\u001b[0m\u001b[0mconverted\u001b[0m\u001b[0;34m)\u001b[0m\u001b[0;34m\u001b[0m\u001b[0;34m\u001b[0m\u001b[0m\n\u001b[0m\u001b[1;32m    135\u001b[0m             \u001b[0;32melse\u001b[0m\u001b[0;34m:\u001b[0m\u001b[0;34m\u001b[0m\u001b[0;34m\u001b[0m\u001b[0m\n\u001b[1;32m    136\u001b[0m                 \u001b[0;32mraise\u001b[0m\u001b[0;34m\u001b[0m\u001b[0;34m\u001b[0m\u001b[0m\n",
      "\u001b[0;32m/usr/local/spark/python/pyspark/sql/utils.py\u001b[0m in \u001b[0;36mraise_from\u001b[0;34m(e)\u001b[0m\n",
      "\u001b[0;31mIllegalArgumentException\u001b[0m: features does not exist. Available: _AccountId, sum(created_questions_windowsphone), sum(activity_question_edits_windowsphone), sum(activity_days_portuguese), sum(activity_questions_french), sum(answer_edits_windowsphone), sum(comments_number_spanish), sum(activity_questions_italian), sum(activity_comments_french), sum(created_questions_french), sum(activity_answer_edits_italian), sum(comments_number_french), sum(activity_answer_edits_spanish), sum(question_edits_italian), sum(activity_questions_mythology), sum(forum_mythology), sum(activity_days_french), sum(activity_days_italian), sum(activity_days_vegetarianism), sum(forum_french), sum(created_questions_vegetarianism), sum(created_questions_portuguese), sum(activity_answer_edits_mythology), sum(activity_question_edits_mythology), sum(activity_questions_windowsphone), sum(activity_comments_windowsphone), sum(activity_question_edits_italian), sum(activity_question_edits_spanish), sum(question_edits_spanish), sum(activity_comments_vegetarianism), sum(created_questions_italian), sum(question_edits_mythology), sum(comments_number_portuguese), sum(question_edits_portuguese), sum(activity_questions_portuguese), sum(activity_comments_mythology), sum(forum_spanish), sum(forum_vegetarianism), sum(forum_portuguese), sum(answer_edits_portuguese), sum(created_questions_mythology), sum(comments_number_windowsphone), sum(forum_italian), sum(question_edits_vegetarianism), sum(activity_question_edits_french), sum(activity_questions_vegetarianism), sum(activity_question_edits_portuguese), sum(activity_days_mythology), sum(answer_edits_vegetarianism), sum(question_edits_french), sum(answer_edits_italian), sum(activity_answer_edits_vegetarianism), sum(answer_edits_spanish), sum(comments_number_vegetarianism), sum(activity_questions_spanish), sum(activity_comments_portuguese), sum(activity_question_edits_vegetarianism), sum(forum_windowsphone), sum(comments_number_mythology), sum(activity_answer_edits_windowsphone), sum(activity_days_windowsphone), sum(answer_edits_french), sum(activity_comments_italian), sum(activity_days_spanish), sum(activity_answer_edits_portuguese), sum(activity_answer_edits_french), sum(created_questions_spanish), sum(comments_number_italian), sum(activity_comments_spanish), sum(answer_edits_mythology), sum(question_edits_windowsphone), features_output, pca_features, prediction"
     ]
    }
   ],
   "source": [
    "evaluator = ClusteringEvaluator()\n",
    "evaluator.evaluate(predictions)"
   ]
  },
  {
   "cell_type": "code",
   "execution_count": null,
   "id": "earlier-wheat",
   "metadata": {},
   "outputs": [],
   "source": []
  }
 ],
 "metadata": {
  "kernelspec": {
   "display_name": "Python 3",
   "language": "python",
   "name": "python3"
  },
  "language_info": {
   "codemirror_mode": {
    "name": "ipython",
    "version": 3
   },
   "file_extension": ".py",
   "mimetype": "text/x-python",
   "name": "python",
   "nbconvert_exporter": "python",
   "pygments_lexer": "ipython3",
   "version": "3.8.6"
  }
 },
 "nbformat": 4,
 "nbformat_minor": 5
}
