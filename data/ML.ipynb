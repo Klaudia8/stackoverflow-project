{
 "cells": [
  {
   "cell_type": "code",
   "execution_count": 1,
   "id": "prompt-satellite",
   "metadata": {},
   "outputs": [],
   "source": [
    "from pyspark.sql import SparkSession\n",
    "\n",
    "spark = SparkSession.builder \\\n",
    "    .appName('MachineLearning') \\\n",
    "    .master('local[*]') \\\n",
    "    .getOrCreate()"
   ]
  },
  {
   "cell_type": "code",
   "execution_count": 2,
   "id": "necessary-outside",
   "metadata": {},
   "outputs": [],
   "source": [
    "input_path = '/home/jovyan/work/data/'\n",
    "users_path = f'{input_path}cleaned_data_users/'"
   ]
  },
  {
   "cell_type": "code",
   "execution_count": 397,
   "id": "outside-doctor",
   "metadata": {},
   "outputs": [],
   "source": [
    "df = spark.read.csv(users_path, multiLine=True, header=True, inferSchema=True)"
   ]
  },
  {
   "cell_type": "code",
   "execution_count": 398,
   "id": "gross-asthma",
   "metadata": {},
   "outputs": [
    {
     "name": "stdout",
     "output_type": "stream",
     "text": [
      "Dataframe rows number: 147577\n"
     ]
    }
   ],
   "source": [
    "print(f'Dataframe rows number: {df.count()}')"
   ]
  },
  {
   "cell_type": "code",
   "execution_count": 6,
   "id": "induced-assist",
   "metadata": {},
   "outputs": [],
   "source": [
    "from pyspark.ml import Pipeline\n",
    "from pyspark.ml.feature import OneHotEncoder, StringIndexer"
   ]
  },
  {
   "cell_type": "code",
   "execution_count": 399,
   "id": "daily-effectiveness",
   "metadata": {},
   "outputs": [],
   "source": [
    "cols = ['_AccountId', 'forum', 'ActivityDays', \n",
    "        'comments_number', 'edits_of_answers', 'edits_of_question', 'created_questions', \n",
    "        'comments_every_day', 'activity_answer_edits', 'activity_question_edits', 'activity_questions']"
   ]
  },
  {
   "cell_type": "code",
   "execution_count": 400,
   "id": "ruled-visit",
   "metadata": {},
   "outputs": [],
   "source": [
    "df = df[cols]"
   ]
  },
  {
   "cell_type": "code",
   "execution_count": 401,
   "id": "numeric-nerve",
   "metadata": {},
   "outputs": [
    {
     "name": "stdout",
     "output_type": "stream",
     "text": [
      "root\n",
      " |-- _AccountId: integer (nullable = true)\n",
      " |-- forum: string (nullable = true)\n",
      " |-- ActivityDays: double (nullable = true)\n",
      " |-- comments_number: double (nullable = true)\n",
      " |-- edits_of_answers: double (nullable = true)\n",
      " |-- edits_of_question: double (nullable = true)\n",
      " |-- created_questions: double (nullable = true)\n",
      " |-- comments_every_day: double (nullable = true)\n",
      " |-- activity_answer_edits: double (nullable = true)\n",
      " |-- activity_question_edits: double (nullable = true)\n",
      " |-- activity_questions: double (nullable = true)\n",
      "\n"
     ]
    }
   ],
   "source": [
    "df.printSchema()"
   ]
  },
  {
   "cell_type": "markdown",
   "id": "foster-bench",
   "metadata": {},
   "source": [
    "'OneHotEncoder'"
   ]
  },
  {
   "cell_type": "code",
   "execution_count": 402,
   "id": "pursuant-example",
   "metadata": {},
   "outputs": [],
   "source": [
    "str_cols = ['forum']\n",
    "encoder = OneHotEncoder(inputCol='forum', outputCol='forum_features')"
   ]
  },
  {
   "cell_type": "code",
   "execution_count": 409,
   "id": "worldwide-occasions",
   "metadata": {},
   "outputs": [
    {
     "data": {
      "text/plain": [
       "['chemistry',\n",
       " 'mythology',\n",
       " 'spanish',\n",
       " 'french',\n",
       " 'windowsphone',\n",
       " 'italian',\n",
       " 'portuguese',\n",
       " 'vegetarianism']"
      ]
     },
     "execution_count": 409,
     "metadata": {},
     "output_type": "execute_result"
    }
   ],
   "source": [
    "# unique list of forums\n",
    "forums_list = df.select('forum').distinct().rdd.map(lambda r: r[0]).collect()\n",
    "#forums_list"
   ]
  },
  {
   "cell_type": "code",
   "execution_count": 404,
   "id": "positive-scotland",
   "metadata": {},
   "outputs": [],
   "source": [
    "forum_udf = udf(lambda x: 1 if x == forum else 0)"
   ]
  },
  {
   "cell_type": "code",
   "execution_count": 405,
   "id": "innocent-gibraltar",
   "metadata": {},
   "outputs": [],
   "source": [
    "for forum in forums_list:\n",
    "    forum_udf = udf(lambda x: 1 if x == forum else 0)\n",
    "    df = df.withColumn(f'forum_{forum}', forum_udf('forum'))\n",
    "    df = df.withColumn(f'activity_days_{forum}', forum_udf('forum'))\n",
    "    df = df.withColumn(f'comments_number_{forum}', forum_udf('forum'))\n",
    "    df = df.withColumn(f'answer_edits_{forum}', forum_udf('forum'))\n",
    "    df = df.withColumn(f'question_edits_{forum}', forum_udf('forum'))\n",
    "    df = df.withColumn(f'created_questions_{forum}', forum_udf('forum'))\n",
    "    df = df.withColumn(f'activity_comments_{forum}', forum_udf('forum'))\n",
    "    df = df.withColumn(f'activity_answer_edits_{forum}', forum_udf('forum'))\n",
    "    df = df.withColumn(f'activity_question_edits_{forum}', forum_udf('forum'))\n",
    "    df = df.withColumn(f'activity_questions_{forum}', forum_udf('forum'))"
   ]
  },
  {
   "cell_type": "code",
   "execution_count": 406,
   "id": "subtle-speaker",
   "metadata": {},
   "outputs": [],
   "source": [
    "exprs = {x: 'sum' for x in df.columns if x not in cols}"
   ]
  },
  {
   "cell_type": "code",
   "execution_count": 407,
   "id": "japanese-choir",
   "metadata": {},
   "outputs": [],
   "source": [
    "ddf=df.groupBy('_AccountId').agg(exprs)"
   ]
  },
  {
   "cell_type": "code",
   "execution_count": 408,
   "id": "orange-factor",
   "metadata": {},
   "outputs": [
    {
     "data": {
      "text/plain": [
       "81"
      ]
     },
     "execution_count": 408,
     "metadata": {},
     "output_type": "execute_result"
    }
   ],
   "source": [
    "# number of columns\n",
    "len(ddf.columns)"
   ]
  },
  {
   "cell_type": "markdown",
   "id": "romance-olive",
   "metadata": {},
   "source": [
    "Features"
   ]
  },
  {
   "cell_type": "code",
   "execution_count": 133,
   "id": "stone-noise",
   "metadata": {},
   "outputs": [],
   "source": [
    "from pyspark.ml.feature import VectorAssembler"
   ]
  },
  {
   "cell_type": "code",
   "execution_count": 410,
   "id": "broke-catholic",
   "metadata": {},
   "outputs": [],
   "source": [
    "features = [col for col in ddf.columns if col != '_AccountId']"
   ]
  },
  {
   "cell_type": "code",
   "execution_count": 411,
   "id": "disabled-navigator",
   "metadata": {},
   "outputs": [],
   "source": [
    "vector_assembler = VectorAssembler(inputCols = features, outputCol= \"features_output\")\n",
    "data_training_and_test = vector_assembler.transform(ddf)"
   ]
  },
  {
   "cell_type": "markdown",
   "id": "tight-handle",
   "metadata": {},
   "source": [
    "Normalization"
   ]
  },
  {
   "cell_type": "code",
   "execution_count": 412,
   "id": "resistant-oriental",
   "metadata": {},
   "outputs": [],
   "source": [
    "from pyspark.ml.feature import Normalizer"
   ]
  },
  {
   "cell_type": "code",
   "execution_count": 413,
   "id": "interior-output",
   "metadata": {},
   "outputs": [],
   "source": [
    "normalizer = Normalizer(p=1, inputCol=\"features_output\", outputCol=\"features_norm\")"
   ]
  },
  {
   "cell_type": "code",
   "execution_count": 414,
   "id": "applied-jimmy",
   "metadata": {},
   "outputs": [],
   "source": [
    "data_training_and_test = normalizer.transform(data_training_and_test)"
   ]
  },
  {
   "cell_type": "markdown",
   "id": "massive-lounge",
   "metadata": {},
   "source": [
    "#### Train and Test Data"
   ]
  },
  {
   "cell_type": "code",
   "execution_count": 432,
   "id": "soviet-today",
   "metadata": {},
   "outputs": [],
   "source": [
    "(training_data, test_data) = data_training_and_test.randomSplit([0.7, 0.3])"
   ]
  },
  {
   "cell_type": "markdown",
   "id": "sought-commission",
   "metadata": {},
   "source": [
    "### Modeling Fitting and Tunning\n",
    "#### Grid Search - Finding the best parameters"
   ]
  },
  {
   "cell_type": "code",
   "execution_count": 415,
   "id": "surface-tongue",
   "metadata": {},
   "outputs": [],
   "source": [
    "from pyspark.ml.tuning import CrossValidator, ParamGridBuilder\n",
    "from pyspark.ml.evaluation import ClusteringEvaluator\n",
    "from pyspark.ml.clustering import *\n",
    "from pyspark.ml.feature import PCA"
   ]
  },
  {
   "cell_type": "code",
   "execution_count": 416,
   "id": "attached-january",
   "metadata": {},
   "outputs": [
    {
     "data": {
      "text/plain": [
       "140"
      ]
     },
     "execution_count": 416,
     "metadata": {},
     "output_type": "execute_result"
    }
   ],
   "source": [
    "very_small_sample = data_training_and_test.sample(False, 0.001).cache()\n",
    "very_small_sample.count()"
   ]
  },
  {
   "cell_type": "markdown",
   "id": "atomic-investigation",
   "metadata": {},
   "source": [
    "Dimension Reduction/feature selection"
   ]
  },
  {
   "cell_type": "code",
   "execution_count": 417,
   "id": "emotional-collaboration",
   "metadata": {},
   "outputs": [],
   "source": [
    "pca_model = PCA(inputCol = \"features_norm\", outputCol = \"pca_features_cv_norm\")\n",
    "km = KMeans(seed=1, featuresCol=\"pca_features_cv_norm\")\n",
    "ppl_cv = Pipeline(stages = [pca_model, km])"
   ]
  },
  {
   "cell_type": "code",
   "execution_count": 418,
   "id": "rocky-brighton",
   "metadata": {},
   "outputs": [
    {
     "data": {
      "text/plain": [
       "[24.0, 40.0, 61.0]"
      ]
     },
     "execution_count": 418,
     "metadata": {},
     "output_type": "execute_result"
    }
   ],
   "source": [
    "ddf_length = len(ddf.columns)\n",
    "from builtins import round as base_round\n",
    "pca_nums = [base_round(i*ddf_length, 0) for i in [0.3, 0.5, 0.75]]\n",
    "pca_nums"
   ]
  },
  {
   "cell_type": "code",
   "execution_count": 427,
   "id": "vietnamese-racing",
   "metadata": {},
   "outputs": [],
   "source": [
    "paramGrid = ParamGridBuilder() \\\n",
    "      .addGrid(pca_model.k, pca_nums) \\\n",
    "      .addGrid(km.k, [5, 8, 10]) \\\n",
    "      .build()"
   ]
  },
  {
   "cell_type": "code",
   "execution_count": 429,
   "id": "inappropriate-village",
   "metadata": {},
   "outputs": [],
   "source": [
    "crossval = CrossValidator(estimator = ppl_cv, \n",
    "                          estimatorParamMaps=paramGrid,\n",
    "                          evaluator = ClusteringEvaluator(featuresCol='pca_features_cv_norm', predictionCol='prediction'),\n",
    "                          numFolds=4)"
   ]
  },
  {
   "cell_type": "code",
   "execution_count": 430,
   "id": "generic-haiti",
   "metadata": {},
   "outputs": [],
   "source": [
    "cv_model = crossval.fit(very_small_sample)"
   ]
  },
  {
   "cell_type": "code",
   "execution_count": 433,
   "id": "crazy-ghana",
   "metadata": {},
   "outputs": [
    {
     "data": {
      "text/plain": [
       "0.9338317823288612"
      ]
     },
     "execution_count": 433,
     "metadata": {},
     "output_type": "execute_result"
    }
   ],
   "source": [
    "cv_predictions = cv_model.transform(test_data)\n",
    "evaluator = ClusteringEvaluator(featuresCol='pca_features_cv_norm', predictionCol='prediction')\n",
    "accuracy = evaluator.evaluate(cv_predictions)\n",
    "accuracy"
   ]
  },
  {
   "cell_type": "code",
   "execution_count": 434,
   "id": "unlimited-restoration",
   "metadata": {},
   "outputs": [
    {
     "data": {
      "text/plain": [
       "[0.680244805460872,\n",
       " 0.8825390597751505,\n",
       " 0.8789360711909354,\n",
       " 0.7235465042690128,\n",
       " 0.8825390597751505,\n",
       " 0.8721687266933276,\n",
       " 0.7006112809685898,\n",
       " 0.8838346891214681,\n",
       " 0.8789360711909354]"
      ]
     },
     "execution_count": 434,
     "metadata": {},
     "output_type": "execute_result"
    }
   ],
   "source": [
    "cv_model.avgMetrics"
   ]
  },
  {
   "cell_type": "markdown",
   "id": "durable-plate",
   "metadata": {},
   "source": [
    "##### Best model parameters"
   ]
  },
  {
   "cell_type": "code",
   "execution_count": 440,
   "id": "quick-finger",
   "metadata": {},
   "outputs": [
    {
     "name": "stdout",
     "output_type": "stream",
     "text": [
      "PCA parameters:\n",
      "PCAModel: uid=PCA_d568cc7898b3, k=61\n",
      "KMeans parameters:\n",
      "KMeansModel: uid=KMeans_8f47fa9e8b2f, k=8, distanceMeasure=euclidean, numFeatures=61\n"
     ]
    }
   ],
   "source": [
    "best_model = cv_model.bestModel\n",
    "print(f'PCA parameters:\\n'\n",
    "      f'{best_model.stages[0]}')\n",
    "print(f'KMeans parameters:\\n'\n",
    "      f'{best_model.stages[1]}')"
   ]
  },
  {
   "cell_type": "code",
   "execution_count": 444,
   "id": "twenty-preliminary",
   "metadata": {},
   "outputs": [],
   "source": [
    "kmeans_num = best_model.stages[1].getK()\n",
    "pca_num = best_model.stages[0].getK()"
   ]
  },
  {
   "cell_type": "markdown",
   "id": "interracial-eating",
   "metadata": {},
   "source": [
    "Modeling fitting and tuning"
   ]
  },
  {
   "cell_type": "code",
   "execution_count": 448,
   "id": "extreme-laugh",
   "metadata": {},
   "outputs": [],
   "source": [
    "pca_model = PCA(k=pca_num, inputCol = \"features_norm\", outputCol = \"pca_features_norm\")\n",
    "tuned_model = KMeans(k=kmeans_num, seed=1, featuresCol=\"pca_features_norm\")\n",
    "tuned_ppl = Pipeline(stages = [pca_model, tuned_model])"
   ]
  },
  {
   "cell_type": "code",
   "execution_count": 445,
   "id": "advanced-people",
   "metadata": {},
   "outputs": [],
   "source": [
    "#kmeans_model = KMeans(k=kmeans_num, seed=1, featuresCol='features_norm')\n",
    "#kmeans_model_pca = KMeans(k=kmeans_num, seed=1, featuresCol='pca_features_cv_norm')"
   ]
  },
  {
   "cell_type": "code",
   "execution_count": 449,
   "id": "south-screw",
   "metadata": {},
   "outputs": [],
   "source": [
    "tuned_ppl = tuned_ppl.fit(training_data)"
   ]
  },
  {
   "cell_type": "code",
   "execution_count": 450,
   "id": "interracial-viking",
   "metadata": {},
   "outputs": [],
   "source": [
    "# kmeans_model = kmeans_model.fit(training_data)\n",
    "# kmeans_model_pca = kmeans_model_pca.fit(training_data)"
   ]
  },
  {
   "cell_type": "code",
   "execution_count": 452,
   "id": "major-midnight",
   "metadata": {},
   "outputs": [
    {
     "data": {
      "text/plain": [
       "8"
      ]
     },
     "execution_count": 452,
     "metadata": {},
     "output_type": "execute_result"
    }
   ],
   "source": [
    "centers = tuned_ppl.stages[1].clusterCenters()\n",
    "len(centers)"
   ]
  },
  {
   "cell_type": "code",
   "execution_count": 457,
   "id": "editorial-fashion",
   "metadata": {},
   "outputs": [
    {
     "data": {
      "text/plain": [
       "0.9318446689509495"
      ]
     },
     "execution_count": 457,
     "metadata": {},
     "output_type": "execute_result"
    }
   ],
   "source": [
    "train_predictions = tuned_ppl.transform(training_data)\n",
    "evaluator = ClusteringEvaluator(featuresCol='pca_features_norm', predictionCol='prediction')\n",
    "train_accuracy = evaluator.evaluate(train_predictions)\n",
    "train_accuracy"
   ]
  },
  {
   "cell_type": "markdown",
   "id": "manufactured-biodiversity",
   "metadata": {},
   "source": [
    "#### Evaluation\n",
    "Evaluator for Clustering results, which expects two input columns: prediction and features. The metric computes the Silhouette measure using the squared Euclidean distance.\n",
    "\n",
    "The Silhouette is a measure for the validation of the consistency within clusters. It ranges between 1 and -1, where a value close to 1 means that the points in a cluster are close to the other points in the same cluster and far from the points of the other clusters."
   ]
  },
  {
   "cell_type": "code",
   "execution_count": 455,
   "id": "meaningful-honor",
   "metadata": {},
   "outputs": [
    {
     "data": {
      "text/plain": [
       "0.9337305689924346"
      ]
     },
     "execution_count": 455,
     "metadata": {},
     "output_type": "execute_result"
    }
   ],
   "source": [
    "predictions = tuned_ppl.transform(test_data)\n",
    "evaluator = ClusteringEvaluator(featuresCol='pca_features_norm', predictionCol='prediction')\n",
    "test_accuracy = evaluator.evaluate(predictions)\n",
    "test_accuracy"
   ]
  },
  {
   "cell_type": "markdown",
   "id": "annual-dominican",
   "metadata": {},
   "source": [
    "### Save and Load Model"
   ]
  },
  {
   "cell_type": "code",
   "execution_count": 458,
   "id": "starting-thirty",
   "metadata": {},
   "outputs": [],
   "source": [
    "tuned_ppl.write().overwrite().save(input_path+'fitted_model')"
   ]
  },
  {
   "cell_type": "code",
   "execution_count": 459,
   "id": "obvious-schedule",
   "metadata": {},
   "outputs": [],
   "source": [
    "from pyspark.ml import PipelineModel\n",
    "mm=PipelineModel.load(input_path+'fitted_model')"
   ]
  },
  {
   "cell_type": "code",
   "execution_count": 460,
   "id": "vital-examination",
   "metadata": {},
   "outputs": [
    {
     "data": {
      "text/plain": [
       "[PCAModel: uid=PCA_a97d23f3c9a0, k=61,\n",
       " KMeansModel: uid=KMeans_7cb123786c9a, k=8, distanceMeasure=euclidean, numFeatures=61]"
      ]
     },
     "execution_count": 460,
     "metadata": {},
     "output_type": "execute_result"
    }
   ],
   "source": [
    "mm.stages"
   ]
  },
  {
   "cell_type": "code",
   "execution_count": 461,
   "id": "altered-tribe",
   "metadata": {},
   "outputs": [
    {
     "data": {
      "text/plain": [
       "[array([-9.07012683e-02,  2.55529383e-01,  2.95072427e-02,  1.09302677e-01,\n",
       "        -9.21471670e-03,  3.91142966e-03,  3.25584348e-02, -1.11094183e-01,\n",
       "         6.15370669e-03, -1.03679202e-02, -3.48046586e-04, -1.41531288e-03,\n",
       "        -2.01440638e-03,  1.26039061e-03,  2.33022097e-04, -8.54520823e-06,\n",
       "        -5.01175288e-05,  2.55087683e-04,  7.83422287e-05, -2.84044696e-04,\n",
       "         9.66311303e-05,  2.20194906e-04,  6.20143780e-06, -2.51816225e-05,\n",
       "         1.56907972e-04, -4.92673101e-05,  3.17959579e-05,  1.02894957e-04,\n",
       "         1.79970124e-04,  1.09123025e-04, -2.96507771e-05, -2.75900186e-05,\n",
       "         8.00492948e-06,  4.33072390e-05,  2.69418072e-05,  3.29245950e-05,\n",
       "        -1.60578942e-05,  9.48472303e-06, -5.42159169e-05,  4.18754474e-05,\n",
       "        -4.17801831e-06, -3.51767559e-06,  3.37502167e-05,  3.37412280e-05,\n",
       "         1.43795559e-05,  1.10334850e-05,  1.81169559e-06, -1.14286023e-06,\n",
       "        -3.21371529e-07,  7.30590143e-07, -1.07605576e-06,  6.10333094e-09,\n",
       "        -4.60685969e-07, -8.83569338e-07, -9.97759448e-07,  3.95225690e-07,\n",
       "        -1.75522406e-07, -2.54077139e-07,  2.30407473e-07, -7.45231682e-08,\n",
       "        -5.79507790e-08]),\n",
       " array([ 2.84447211e-01,  1.63668611e-02,  1.95862419e-03,  7.33490642e-02,\n",
       "        -7.61833950e-03,  3.09722897e-03,  2.94900786e-02, -1.11094183e-01,\n",
       "         6.15370669e-03, -1.03679202e-02, -3.48046586e-04, -1.41531288e-03,\n",
       "        -2.01440638e-03,  1.26039061e-03,  2.33022097e-04, -8.54520823e-06,\n",
       "        -5.01175288e-05,  2.55087683e-04,  7.83422287e-05, -2.84044696e-04,\n",
       "         9.66311303e-05,  2.20194906e-04,  6.20143780e-06, -2.51816225e-05,\n",
       "         1.56907972e-04, -4.92673101e-05,  3.17959579e-05,  1.02894957e-04,\n",
       "         1.79970124e-04,  1.09123025e-04, -2.96507771e-05, -2.75900186e-05,\n",
       "         8.00492948e-06,  4.33072390e-05,  2.69418072e-05,  3.29245950e-05,\n",
       "        -1.60578942e-05,  9.48472303e-06, -5.42159169e-05,  4.18754474e-05,\n",
       "        -4.17801831e-06, -3.51767559e-06,  3.37502167e-05,  3.37412280e-05,\n",
       "         1.43795559e-05,  1.10334850e-05,  1.81169559e-06, -1.14286023e-06,\n",
       "        -3.21371529e-07,  7.30590143e-07, -1.07605576e-06,  6.10333094e-09,\n",
       "        -4.60685969e-07, -8.83569337e-07, -9.97759448e-07,  3.95225690e-07,\n",
       "        -1.75522406e-07, -2.54077139e-07,  2.30407473e-07, -7.45231682e-08,\n",
       "        -5.79507790e-08]),\n",
       " array([-7.08297932e-02, -1.53407256e-01,  2.08379824e-01,  1.18343979e-01,\n",
       "        -1.03748846e-02,  4.27108872e-03,  3.31518973e-02, -1.11094183e-01,\n",
       "         6.15370669e-03, -1.03679202e-02, -3.48046586e-04, -1.41531288e-03,\n",
       "        -2.01440638e-03,  1.26039061e-03,  2.33022097e-04, -8.54520823e-06,\n",
       "        -5.01175288e-05,  2.55087683e-04,  7.83422287e-05, -2.84044696e-04,\n",
       "         9.66311303e-05,  2.20194906e-04,  6.20143780e-06, -2.51816225e-05,\n",
       "         1.56907972e-04, -4.92673101e-05,  3.17959579e-05,  1.02894957e-04,\n",
       "         1.79970124e-04,  1.09123025e-04, -2.96507771e-05, -2.75900186e-05,\n",
       "         8.00492948e-06,  4.33072390e-05,  2.69418072e-05,  3.29245950e-05,\n",
       "        -1.60578942e-05,  9.48472303e-06, -5.42159169e-05,  4.18754474e-05,\n",
       "        -4.17801831e-06, -3.51767559e-06,  3.37502167e-05,  3.37412280e-05,\n",
       "         1.43795559e-05,  1.10334850e-05,  1.81169559e-06, -1.14286023e-06,\n",
       "        -3.21371529e-07,  7.30590143e-07, -1.07605576e-06,  6.10333094e-09,\n",
       "        -4.60685969e-07, -8.83569337e-07, -9.97759448e-07,  3.95225690e-07,\n",
       "        -1.75522406e-07, -2.54077139e-07,  2.30407473e-07, -7.45231682e-08,\n",
       "        -5.79507790e-08]),\n",
       " array([-1.62057310e-02, -4.48435889e-03, -1.66124026e-03, -1.54046603e-01,\n",
       "        -2.43762236e-01,  3.79346034e-02,  5.12356087e-02, -1.11094183e-01,\n",
       "         6.15370669e-03, -1.03679202e-02, -3.48046586e-04, -1.41531288e-03,\n",
       "        -2.01440638e-03,  1.26039061e-03,  2.33022097e-04, -8.54520823e-06,\n",
       "        -5.01175288e-05,  2.55087683e-04,  7.83422287e-05, -2.84044696e-04,\n",
       "         9.66311303e-05,  2.20194906e-04,  6.20143780e-06, -2.51816225e-05,\n",
       "         1.56907972e-04, -4.92673101e-05,  3.17959579e-05,  1.02894957e-04,\n",
       "         1.79970124e-04,  1.09123025e-04, -2.96507771e-05, -2.75900186e-05,\n",
       "         8.00492948e-06,  4.33072390e-05,  2.69418072e-05,  3.29245950e-05,\n",
       "        -1.60578942e-05,  9.48472303e-06, -5.42159169e-05,  4.18754474e-05,\n",
       "        -4.17801831e-06, -3.51767559e-06,  3.37502167e-05,  3.37412280e-05,\n",
       "         1.43795559e-05,  1.10334850e-05,  1.81169559e-06, -1.14286023e-06,\n",
       "        -3.21371529e-07,  7.30590143e-07, -1.07605576e-06,  6.10333095e-09,\n",
       "        -4.60685969e-07, -8.83569338e-07, -9.97759448e-07,  3.95225690e-07,\n",
       "        -1.75522406e-07, -2.54077139e-07,  2.30407473e-07, -7.45231682e-08,\n",
       "        -5.79507790e-08]),\n",
       " array([-1.45769787e-02, -4.76099787e-03, -4.90299187e-04, -1.15013296e-01,\n",
       "         9.75926368e-02, -2.43086954e-01,  5.62145856e-02, -1.11094183e-01,\n",
       "         6.15370669e-03, -1.03679202e-02, -3.48046586e-04, -1.41531288e-03,\n",
       "        -2.01440638e-03,  1.26039061e-03,  2.33022097e-04, -8.54520823e-06,\n",
       "        -5.01175288e-05,  2.55087683e-04,  7.83422287e-05, -2.84044696e-04,\n",
       "         9.66311303e-05,  2.20194906e-04,  6.20143780e-06, -2.51816225e-05,\n",
       "         1.56907972e-04, -4.92673101e-05,  3.17959579e-05,  1.02894957e-04,\n",
       "         1.79970124e-04,  1.09123025e-04, -2.96507771e-05, -2.75900186e-05,\n",
       "         8.00492948e-06,  4.33072390e-05,  2.69418072e-05,  3.29245950e-05,\n",
       "        -1.60578942e-05,  9.48472303e-06, -5.42159169e-05,  4.18754474e-05,\n",
       "        -4.17801831e-06, -3.51767559e-06,  3.37502167e-05,  3.37412280e-05,\n",
       "         1.43795559e-05,  1.10334850e-05,  1.81169559e-06, -1.14286023e-06,\n",
       "        -3.21371529e-07,  7.30590143e-07, -1.07605576e-06,  6.10333098e-09,\n",
       "        -4.60685969e-07, -8.83569337e-07, -9.97759448e-07,  3.95225690e-07,\n",
       "        -1.75522406e-07, -2.54077139e-07,  2.30407473e-07, -7.45231682e-08,\n",
       "        -5.79507790e-08]),\n",
       " array([-7.14985889e-02, -1.03811355e-01, -2.35726766e-01,  1.21773915e-01,\n",
       "        -9.75366438e-03,  4.35991671e-03,  3.31815740e-02, -1.11094183e-01,\n",
       "         6.15370669e-03, -1.03679202e-02, -3.48046586e-04, -1.41531288e-03,\n",
       "        -2.01440638e-03,  1.26039061e-03,  2.33022097e-04, -8.54520823e-06,\n",
       "        -5.01175288e-05,  2.55087683e-04,  7.83422287e-05, -2.84044696e-04,\n",
       "         9.66311303e-05,  2.20194906e-04,  6.20143780e-06, -2.51816225e-05,\n",
       "         1.56907972e-04, -4.92673101e-05,  3.17959579e-05,  1.02894957e-04,\n",
       "         1.79970124e-04,  1.09123025e-04, -2.96507771e-05, -2.75900186e-05,\n",
       "         8.00492948e-06,  4.33072390e-05,  2.69418072e-05,  3.29245950e-05,\n",
       "        -1.60578942e-05,  9.48472303e-06, -5.42159169e-05,  4.18754474e-05,\n",
       "        -4.17801831e-06, -3.51767559e-06,  3.37502167e-05,  3.37412280e-05,\n",
       "         1.43795559e-05,  1.10334850e-05,  1.81169559e-06, -1.14286023e-06,\n",
       "        -3.21371529e-07,  7.30590143e-07, -1.07605576e-06,  6.10333094e-09,\n",
       "        -4.60685969e-07, -8.83569337e-07, -9.97759448e-07,  3.95225690e-07,\n",
       "        -1.75522406e-07, -2.54077139e-07,  2.30407473e-07, -7.45231682e-08,\n",
       "        -5.79507790e-08]),\n",
       " array([-1.50920253e-02, -5.24913509e-03,  2.78885633e-04, -1.24494259e-01,\n",
       "         1.70919201e-01,  1.91654599e-01,  5.82674669e-02, -1.11094183e-01,\n",
       "         6.15370669e-03, -1.03679202e-02, -3.48046586e-04, -1.41531288e-03,\n",
       "        -2.01440638e-03,  1.26039061e-03,  2.33022097e-04, -8.54520823e-06,\n",
       "        -5.01175288e-05,  2.55087683e-04,  7.83422287e-05, -2.84044696e-04,\n",
       "         9.66311303e-05,  2.20194906e-04,  6.20143780e-06, -2.51816225e-05,\n",
       "         1.56907972e-04, -4.92673101e-05,  3.17959579e-05,  1.02894957e-04,\n",
       "         1.79970124e-04,  1.09123025e-04, -2.96507771e-05, -2.75900186e-05,\n",
       "         8.00492948e-06,  4.33072390e-05,  2.69418072e-05,  3.29245950e-05,\n",
       "        -1.60578942e-05,  9.48472303e-06, -5.42159169e-05,  4.18754474e-05,\n",
       "        -4.17801831e-06, -3.51767559e-06,  3.37502167e-05,  3.37412280e-05,\n",
       "         1.43795559e-05,  1.10334850e-05,  1.81169559e-06, -1.14286023e-06,\n",
       "        -3.21371529e-07,  7.30590143e-07, -1.07605576e-06,  6.10333093e-09,\n",
       "        -4.60685969e-07, -8.83569337e-07, -9.97759447e-07,  3.95225690e-07,\n",
       "        -1.75522406e-07, -2.54077139e-07,  2.30407473e-07, -7.45231682e-08,\n",
       "        -5.79507790e-08]),\n",
       " array([ 2.28666476e-02,  2.42271334e-02, -1.82607537e-02,  3.01170803e-02,\n",
       "        -7.58050755e-05,  9.70830865e-03, -4.29154452e-02, -1.11094183e-01,\n",
       "         6.15370669e-03, -1.03679202e-02, -3.48046586e-04, -1.41531288e-03,\n",
       "        -2.01440638e-03,  1.26039061e-03,  2.33022097e-04, -8.54520823e-06,\n",
       "        -5.01175288e-05,  2.55087683e-04,  7.83422287e-05, -2.84044696e-04,\n",
       "         9.66311303e-05,  2.20194906e-04,  6.20143780e-06, -2.51816225e-05,\n",
       "         1.56907972e-04, -4.92673101e-05,  3.17959579e-05,  1.02894957e-04,\n",
       "         1.79970124e-04,  1.09123025e-04, -2.96507771e-05, -2.75900186e-05,\n",
       "         8.00492948e-06,  4.33072390e-05,  2.69418072e-05,  3.29245950e-05,\n",
       "        -1.60578942e-05,  9.48472303e-06, -5.42159169e-05,  4.18754474e-05,\n",
       "        -4.17801831e-06, -3.51767559e-06,  3.37502167e-05,  3.37412280e-05,\n",
       "         1.43795559e-05,  1.10334850e-05,  1.81169559e-06, -1.14286023e-06,\n",
       "        -3.21371529e-07,  7.30590143e-07, -1.07605576e-06,  6.10333094e-09,\n",
       "        -4.60685969e-07, -8.83569338e-07, -9.97759448e-07,  3.95225690e-07,\n",
       "        -1.75522406e-07, -2.54077139e-07,  2.30407473e-07, -7.45231682e-08,\n",
       "        -5.79507790e-08])]"
      ]
     },
     "execution_count": 461,
     "metadata": {},
     "output_type": "execute_result"
    }
   ],
   "source": [
    "mm.stages[1].clusterCenters()"
   ]
  },
  {
   "cell_type": "code",
   "execution_count": null,
   "id": "characteristic-mixer",
   "metadata": {},
   "outputs": [],
   "source": []
  }
 ],
 "metadata": {
  "kernelspec": {
   "display_name": "Python 3",
   "language": "python",
   "name": "python3"
  },
  "language_info": {
   "codemirror_mode": {
    "name": "ipython",
    "version": 3
   },
   "file_extension": ".py",
   "mimetype": "text/x-python",
   "name": "python",
   "nbconvert_exporter": "python",
   "pygments_lexer": "ipython3",
   "version": "3.8.6"
  }
 },
 "nbformat": 4,
 "nbformat_minor": 5
}
