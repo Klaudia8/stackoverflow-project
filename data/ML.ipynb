{
 "cells": [
  {
   "cell_type": "code",
   "execution_count": 1,
   "id": "absent-pressure",
   "metadata": {},
   "outputs": [],
   "source": [
    "from pyspark.sql import SparkSession\n",
    "\n",
    "spark = SparkSession.builder \\\n",
    "    .appName('MachineLearning') \\\n",
    "    .master('local[*]') \\\n",
    "    .getOrCreate()"
   ]
  },
  {
   "cell_type": "code",
   "execution_count": 2,
   "id": "unexpected-ethiopia",
   "metadata": {},
   "outputs": [],
   "source": [
    "input_path = '/home/jovyan/work/data/'\n",
    "users_path = f'{input_path}cleaned_data_users/'"
   ]
  },
  {
   "cell_type": "code",
   "execution_count": 3,
   "id": "variable-permission",
   "metadata": {},
   "outputs": [],
   "source": [
    "df = spark.read.csv(users_path, multiLine=True, header=True, inferSchema=True)"
   ]
  },
  {
   "cell_type": "code",
   "execution_count": 5,
   "id": "attended-attachment",
   "metadata": {},
   "outputs": [
    {
     "name": "stdout",
     "output_type": "stream",
     "text": [
      "Users-rows: 147577\n"
     ]
    }
   ],
   "source": [
    "print(f'Dataframe rows number: {df.count()}')"
   ]
  },
  {
   "cell_type": "code",
   "execution_count": 6,
   "id": "inside-spelling",
   "metadata": {},
   "outputs": [],
   "source": [
    "from pyspark.ml import Pipeline\n",
    "from pyspark.ml.feature import OneHotEncoder, StringIndexer"
   ]
  },
  {
   "cell_type": "code",
   "execution_count": 18,
   "id": "pointed-architect",
   "metadata": {},
   "outputs": [],
   "source": [
    "cols = ['_AccountId', 'forum', 'ActivityDays', \n",
    "        'comments_number', 'edits_of_answers', 'edits_of_question', 'created_questions', \n",
    "        'comments_every_day', 'activity_answer_edits', 'activity_question_edits', 'activity_questions']"
   ]
  },
  {
   "cell_type": "code",
   "execution_count": 19,
   "id": "together-centre",
   "metadata": {},
   "outputs": [],
   "source": [
    "df = df[cols]"
   ]
  },
  {
   "cell_type": "code",
   "execution_count": 20,
   "id": "comfortable-possibility",
   "metadata": {},
   "outputs": [
    {
     "name": "stdout",
     "output_type": "stream",
     "text": [
      "root\n",
      " |-- _AccountId: integer (nullable = true)\n",
      " |-- forum: string (nullable = true)\n",
      " |-- ActivityDays: double (nullable = true)\n",
      " |-- comments_number: double (nullable = true)\n",
      " |-- edits_of_answers: double (nullable = true)\n",
      " |-- edits_of_question: double (nullable = true)\n",
      " |-- created_questions: double (nullable = true)\n",
      " |-- comments_every_day: double (nullable = true)\n",
      " |-- activity_answer_edits: double (nullable = true)\n",
      " |-- activity_question_edits: double (nullable = true)\n",
      " |-- activity_questions: double (nullable = true)\n",
      "\n"
     ]
    }
   ],
   "source": [
    "df.printSchema()"
   ]
  },
  {
   "cell_type": "markdown",
   "id": "hungarian-fever",
   "metadata": {},
   "source": [
    "'OneHotEncoder'"
   ]
  },
  {
   "cell_type": "code",
   "execution_count": 22,
   "id": "unique-mongolia",
   "metadata": {},
   "outputs": [],
   "source": [
    "str_cols = ['forum']\n",
    "encoder = OneHotEncoder(inputCol='forum', outputCol='forum_features')"
   ]
  },
  {
   "cell_type": "code",
   "execution_count": 78,
   "id": "mounted-knife",
   "metadata": {},
   "outputs": [],
   "source": [
    "# unique list of forums\n",
    "forums_list = df.select('forum').distinct().rdd.map(lambda r: r[0]).collect()"
   ]
  },
  {
   "cell_type": "code",
   "execution_count": 109,
   "id": "medical-baker",
   "metadata": {},
   "outputs": [],
   "source": [
    "forum_udf = udf(lambda x: 1 if x == forum else 0)"
   ]
  },
  {
   "cell_type": "code",
   "execution_count": 127,
   "id": "aquatic-medium",
   "metadata": {},
   "outputs": [],
   "source": [
    "for forum in forums_list:\n",
    "    forum_udf = udf(lambda x: 1 if x == forum else 0)\n",
    "    df = df.withColumn(f'forum_{forum}', forum_udf('forum'))\n",
    "    df = df.withColumn(f'activity_days_{forum}', forum_udf('forum'))\n",
    "    df = df.withColumn(f'comments_number_{forum}', forum_udf('forum'))\n",
    "    df = df.withColumn(f'answer_edits_{forum}', forum_udf('forum'))\n",
    "    df = df.withColumn(f'question_edits_{forum}', forum_udf('forum'))\n",
    "    df = df.withColumn(f'created_questions_{forum}', forum_udf('forum'))\n",
    "    df = df.withColumn(f'activity_comments_{forum}', forum_udf('forum'))\n",
    "    df = df.withColumn(f'activity_answer_edits_{forum}', forum_udf('forum'))\n",
    "    df = df.withColumn(f'activity_question_edits_{forum}', forum_udf('forum'))\n",
    "    df = df.withColumn(f'activity_questions_{forum}', forum_udf('forum'))"
   ]
  },
  {
   "cell_type": "code",
   "execution_count": 128,
   "id": "qualified-diesel",
   "metadata": {},
   "outputs": [],
   "source": [
    "exprs = {x: 'sum' for x in df.columns if x not in cols}"
   ]
  },
  {
   "cell_type": "code",
   "execution_count": 129,
   "id": "magnetic-house",
   "metadata": {},
   "outputs": [],
   "source": [
    "ddf=df.groupBy('_AccountId').agg(exprs)"
   ]
  },
  {
   "cell_type": "code",
   "execution_count": 132,
   "id": "intense-requirement",
   "metadata": {},
   "outputs": [
    {
     "data": {
      "text/plain": [
       "71"
      ]
     },
     "execution_count": 132,
     "metadata": {},
     "output_type": "execute_result"
    }
   ],
   "source": [
    "# number of columns\n",
    "len(ddf.columns)"
   ]
  },
  {
   "cell_type": "markdown",
   "id": "static-brass",
   "metadata": {},
   "source": [
    "Features"
   ]
  },
  {
   "cell_type": "code",
   "execution_count": 133,
   "id": "mediterranean-going",
   "metadata": {},
   "outputs": [],
   "source": [
    "from pyspark.ml.feature import VectorAssembler"
   ]
  },
  {
   "cell_type": "code",
   "execution_count": 137,
   "id": "upset-chart",
   "metadata": {},
   "outputs": [],
   "source": [
    "features = [col for col in ddf.columns if col != '_AccountId']"
   ]
  },
  {
   "cell_type": "code",
   "execution_count": 138,
   "id": "incident-addition",
   "metadata": {},
   "outputs": [],
   "source": [
    "vector_assembler = VectorAssembler(inputCols = features, outputCol= \"features_output\")\n",
    "data_training_and_test = vector_assembler.transform(ddf)"
   ]
  },
  {
   "cell_type": "markdown",
   "id": "general-filling",
   "metadata": {},
   "source": [
    "Normalization"
   ]
  },
  {
   "cell_type": "code",
   "execution_count": 256,
   "id": "affecting-addition",
   "metadata": {},
   "outputs": [],
   "source": [
    "from pyspark.ml.feature import Normalizer"
   ]
  },
  {
   "cell_type": "code",
   "execution_count": 257,
   "id": "sophisticated-collaboration",
   "metadata": {},
   "outputs": [],
   "source": [
    "normalizer = Normalizer(p=1, inputCol=\"features_output\", outputCol=\"features_norm\")"
   ]
  },
  {
   "cell_type": "code",
   "execution_count": 264,
   "id": "apart-burke",
   "metadata": {},
   "outputs": [],
   "source": [
    "data_training_and_test = normalizer.transform(data_training_and_test)"
   ]
  },
  {
   "cell_type": "code",
   "execution_count": null,
   "id": "transparent-happiness",
   "metadata": {},
   "outputs": [],
   "source": []
  },
  {
   "cell_type": "markdown",
   "id": "potential-bouquet",
   "metadata": {},
   "source": [
    "Dimension Reduction/feature selection"
   ]
  },
  {
   "cell_type": "code",
   "execution_count": 139,
   "id": "rough-privilege",
   "metadata": {},
   "outputs": [],
   "source": [
    "from pyspark.ml.feature import PCA"
   ]
  },
  {
   "cell_type": "code",
   "execution_count": 266,
   "id": "previous-provision",
   "metadata": {},
   "outputs": [],
   "source": [
    "# k - extract k features from all\n",
    "pca_model = PCA(k = 30, inputCol = \"features_norm\", outputCol = \"pca_features_norm\")\n",
    "model = pca_model.fit(data_training_and_test)\n",
    "data_training_and_test = model.transform(data_training_and_test)"
   ]
  },
  {
   "cell_type": "markdown",
   "id": "muslim-deviation",
   "metadata": {},
   "source": [
    "Modeling fitting and tuning"
   ]
  },
  {
   "cell_type": "code",
   "execution_count": 160,
   "id": "hairy-rendering",
   "metadata": {},
   "outputs": [],
   "source": [
    "from pyspark.ml.linalg import Vectors\n",
    "from pyspark.ml.clustering import *\n",
    "from pyspark.ml.evaluation import ClusteringEvaluator"
   ]
  },
  {
   "cell_type": "code",
   "execution_count": 267,
   "id": "sharp-scout",
   "metadata": {},
   "outputs": [],
   "source": [
    "(training_data, test_data) = data_training_and_test.randomSplit([0.7, 0.3])"
   ]
  },
  {
   "cell_type": "code",
   "execution_count": 272,
   "id": "structural-protection",
   "metadata": {},
   "outputs": [],
   "source": [
    "kmeans_model = KMeans(k=10, seed=1, featuresCol='features_norm')\n",
    "kmeans_model_pca = KMeans(k=10, seed=1, featuresCol='pca_features_norm')"
   ]
  },
  {
   "cell_type": "code",
   "execution_count": 273,
   "id": "varying-apache",
   "metadata": {},
   "outputs": [],
   "source": [
    "kmeans_model = kmeans_model.fit(training_data)"
   ]
  },
  {
   "cell_type": "code",
   "execution_count": 274,
   "id": "alone-notion",
   "metadata": {},
   "outputs": [],
   "source": [
    "kmeans_model_pca = kmeans_model_pca.fit(training_data)"
   ]
  },
  {
   "cell_type": "code",
   "execution_count": 166,
   "id": "complete-interference",
   "metadata": {},
   "outputs": [
    {
     "data": {
      "text/plain": [
       "10"
      ]
     },
     "execution_count": 166,
     "metadata": {},
     "output_type": "execute_result"
    }
   ],
   "source": [
    "centers = model.clusterCenters()\n",
    "len(centers)"
   ]
  },
  {
   "cell_type": "code",
   "execution_count": 275,
   "id": "anonymous-literacy",
   "metadata": {},
   "outputs": [],
   "source": [
    "predictions = kmeans_model.transform(test_data)"
   ]
  },
  {
   "cell_type": "code",
   "execution_count": 276,
   "id": "another-serum",
   "metadata": {},
   "outputs": [],
   "source": [
    "predictions_pca = kmeans_model_pca.transform(test_data)"
   ]
  },
  {
   "cell_type": "markdown",
   "id": "still-manchester",
   "metadata": {},
   "source": [
    "Evaluation"
   ]
  },
  {
   "cell_type": "markdown",
   "id": "dietary-ivory",
   "metadata": {},
   "source": [
    "Note : Experimental\n",
    "\n",
    "Evaluator for Clustering results, which expects two input columns: prediction and features. The metric computes the Silhouette measure using the squared Euclidean distance.\n",
    "\n",
    "The Silhouette is a measure for the validation of the consistency within clusters. It ranges between 1 and -1, where a value close to 1 means that the points in a cluster are close to the other points in the same cluster and far from the points of the other clusters."
   ]
  },
  {
   "cell_type": "code",
   "execution_count": 277,
   "id": "reduced-termination",
   "metadata": {},
   "outputs": [],
   "source": [
    "evaluator = ClusteringEvaluator(featuresCol='features_norm', predictionCol='prediction')\n",
    "evaluator_pca = ClusteringEvaluator(featuresCol='pca_features_norm', predictionCol='prediction')\n",
    "\n",
    "#evaluator.evaluate(predictions)"
   ]
  },
  {
   "cell_type": "code",
   "execution_count": 278,
   "id": "exterior-visiting",
   "metadata": {},
   "outputs": [
    {
     "data": {
      "text/plain": [
       "0.9450269696896779"
      ]
     },
     "execution_count": 278,
     "metadata": {},
     "output_type": "execute_result"
    }
   ],
   "source": [
    "evaluator.evaluate(predictions)"
   ]
  },
  {
   "cell_type": "code",
   "execution_count": 279,
   "id": "integral-percentage",
   "metadata": {},
   "outputs": [
    {
     "data": {
      "text/plain": [
       "0.9450750714678824"
      ]
     },
     "execution_count": 279,
     "metadata": {},
     "output_type": "execute_result"
    }
   ],
   "source": [
    "evaluator_pca.evaluate(predictions_pca)"
   ]
  },
  {
   "cell_type": "markdown",
   "id": "aware-presentation",
   "metadata": {},
   "source": [
    "Grid Search - Finding the best parameters"
   ]
  },
  {
   "cell_type": "code",
   "execution_count": 184,
   "id": "ordinary-cleaner",
   "metadata": {},
   "outputs": [],
   "source": [
    "from pyspark.ml.tuning import CrossValidator, ParamGridBuilder"
   ]
  },
  {
   "cell_type": "code",
   "execution_count": 318,
   "id": "orange-converter",
   "metadata": {},
   "outputs": [],
   "source": [
    "very_small_sample = data_training_and_test.sample(False, 0.001).cache()"
   ]
  },
  {
   "cell_type": "code",
   "execution_count": 319,
   "id": "adopted-yacht",
   "metadata": {},
   "outputs": [
    {
     "data": {
      "text/plain": [
       "134"
      ]
     },
     "execution_count": 319,
     "metadata": {},
     "output_type": "execute_result"
    }
   ],
   "source": [
    "very_small_sample.count()"
   ]
  },
  {
   "cell_type": "code",
   "execution_count": 315,
   "id": "greek-parameter",
   "metadata": {},
   "outputs": [],
   "source": [
    "pca_model = PCA(inputCol = \"features_norm\", outputCol = \"pca_features_cv_norm\")\n",
    "km = KMeans(seed=1, featuresCol=\"pca_features_cv_norm\")\n",
    "ppl_cv = Pipeline(stages = [pca_model, km])"
   ]
  },
  {
   "cell_type": "code",
   "execution_count": 316,
   "id": "direct-browse",
   "metadata": {},
   "outputs": [
    {
     "data": {
      "text/plain": [
       "[21.0, 36.0, 53.0]"
      ]
     },
     "execution_count": 316,
     "metadata": {},
     "output_type": "execute_result"
    }
   ],
   "source": [
    "ddf_length = len(ddf.columns)\n",
    "from builtins import round as base_round\n",
    "pca_nums = [base_round(i*ddf_length, 0) for i in [0.3, 0.5, 0.75]]\n",
    "pca_nums"
   ]
  },
  {
   "cell_type": "code",
   "execution_count": 320,
   "id": "particular-evidence",
   "metadata": {},
   "outputs": [],
   "source": [
    "paramGrid = ParamGridBuilder() \\\n",
    "      .addGrid(pca_model.k, pca_nums) \\\n",
    "      .addGrid(km.k, [5, 7, 8, 10, 12]) \\\n",
    "      .build()"
   ]
  },
  {
   "cell_type": "code",
   "execution_count": 321,
   "id": "commercial-peeing",
   "metadata": {},
   "outputs": [],
   "source": [
    "crossval = CrossValidator(estimator = ppl_cv, \n",
    "                          estimatorParamMaps=paramGrid,\n",
    "                          evaluator = ClusteringEvaluator(featuresCol='pca_features_cv_norm', predictionCol='prediction'),\n",
    "                          numFolds=2)"
   ]
  },
  {
   "cell_type": "code",
   "execution_count": 322,
   "id": "false-optimum",
   "metadata": {},
   "outputs": [],
   "source": [
    "cv_model = crossval.fit(very_small_sample)"
   ]
  },
  {
   "cell_type": "code",
   "execution_count": 323,
   "id": "tamil-assets",
   "metadata": {},
   "outputs": [],
   "source": [
    "cv_predictions = cv_model.transform(test_data)\n",
    "evaluator = ClusteringEvaluator(featuresCol='pca_features_cv_norm', predictionCol='prediction')\n",
    "accuracy = evaluator.evaluate(cv_predictions)"
   ]
  },
  {
   "cell_type": "code",
   "execution_count": 324,
   "id": "offensive-romantic",
   "metadata": {},
   "outputs": [
    {
     "data": {
      "text/plain": [
       "0.9166846106685441"
      ]
     },
     "execution_count": 324,
     "metadata": {},
     "output_type": "execute_result"
    }
   ],
   "source": [
    "accuracy"
   ]
  },
  {
   "cell_type": "code",
   "execution_count": 325,
   "id": "forward-blood",
   "metadata": {},
   "outputs": [
    {
     "data": {
      "text/plain": [
       "[0.7944176290091253,\n",
       " 0.902774170349173,\n",
       " 0.9401177106081882,\n",
       " 0.9401177106081882,\n",
       " 0.9401177106081882,\n",
       " 0.7910323495675389,\n",
       " 0.8992111570366693,\n",
       " 0.9365546972956844,\n",
       " 0.9365546972956844,\n",
       " 0.9365546972956844,\n",
       " 0.7748250603531623,\n",
       " 0.8821802978082681,\n",
       " 0.9195238380672832,\n",
       " 0.9195238380672832,\n",
       " 0.9250092191617185]"
      ]
     },
     "execution_count": 325,
     "metadata": {},
     "output_type": "execute_result"
    }
   ],
   "source": [
    "cv_model.avgMetrics"
   ]
  },
  {
   "cell_type": "code",
   "execution_count": 326,
   "id": "intense-expression",
   "metadata": {},
   "outputs": [],
   "source": [
    "best_model = cv_model.bestModel"
   ]
  },
  {
   "cell_type": "code",
   "execution_count": 327,
   "id": "seeing-hayes",
   "metadata": {},
   "outputs": [
    {
     "data": {
      "text/plain": [
       "0.9166846106685441"
      ]
     },
     "execution_count": 327,
     "metadata": {},
     "output_type": "execute_result"
    }
   ],
   "source": [
    "best_cv_predictions = best_model.transform(test_data)\n",
    "evaluator = ClusteringEvaluator(featuresCol='pca_features_cv_norm', predictionCol='prediction')\n",
    "accuracy = evaluator.evaluate(best_cv_predictions)\n",
    "accuracy"
   ]
  },
  {
   "cell_type": "code",
   "execution_count": 337,
   "id": "mental-webster",
   "metadata": {},
   "outputs": [
    {
     "data": {
      "text/plain": [
       "2"
      ]
     },
     "execution_count": 337,
     "metadata": {},
     "output_type": "execute_result"
    }
   ],
   "source": [
    "km.getK()"
   ]
  },
  {
   "cell_type": "code",
   "execution_count": null,
   "id": "executed-fisher",
   "metadata": {},
   "outputs": [],
   "source": []
  }
 ],
 "metadata": {
  "kernelspec": {
   "display_name": "Python 3",
   "language": "python",
   "name": "python3"
  },
  "language_info": {
   "codemirror_mode": {
    "name": "ipython",
    "version": 3
   },
   "file_extension": ".py",
   "mimetype": "text/x-python",
   "name": "python",
   "nbconvert_exporter": "python",
   "pygments_lexer": "ipython3",
   "version": "3.8.6"
  }
 },
 "nbformat": 4,
 "nbformat_minor": 5
}
