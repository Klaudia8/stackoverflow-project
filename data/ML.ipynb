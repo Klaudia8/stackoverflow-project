{
 "cells": [
  {
   "cell_type": "code",
   "execution_count": 1,
   "id": "temporal-beach",
   "metadata": {},
   "outputs": [],
   "source": [
    "from pyspark.sql import SparkSession\n",
    "\n",
    "spark = SparkSession.builder \\\n",
    "    .appName('MachineLearning') \\\n",
    "    .master('local[*]') \\\n",
    "    .getOrCreate()"
   ]
  },
  {
   "cell_type": "code",
   "execution_count": 2,
   "id": "lined-brooklyn",
   "metadata": {},
   "outputs": [],
   "source": [
    "input_path = '/home/jovyan/work/data/'\n",
    "users_path = f'{input_path}cleaned_data_users/'"
   ]
  },
  {
   "cell_type": "code",
   "execution_count": 3,
   "id": "daily-triangle",
   "metadata": {},
   "outputs": [],
   "source": [
    "df = spark.read.csv(users_path, multiLine=True, header=True, inferSchema=True)"
   ]
  },
  {
   "cell_type": "code",
   "execution_count": 5,
   "id": "steady-table",
   "metadata": {},
   "outputs": [
    {
     "name": "stdout",
     "output_type": "stream",
     "text": [
      "Users-rows: 147577\n"
     ]
    }
   ],
   "source": [
    "print(f'Dataframe rows number: {df.count()}')"
   ]
  },
  {
   "cell_type": "code",
   "execution_count": 6,
   "id": "entertaining-syracuse",
   "metadata": {},
   "outputs": [],
   "source": [
    "from pyspark.ml import Pipeline\n",
    "from pyspark.ml.feature import OneHotEncoder, StringIndexer"
   ]
  },
  {
   "cell_type": "code",
   "execution_count": 18,
   "id": "varied-barrier",
   "metadata": {},
   "outputs": [],
   "source": [
    "cols = ['_AccountId', 'forum', 'ActivityDays', \n",
    "        'comments_number', 'edits_of_answers', 'edits_of_question', 'created_questions', \n",
    "        'comments_every_day', 'activity_answer_edits', 'activity_question_edits', 'activity_questions']"
   ]
  },
  {
   "cell_type": "code",
   "execution_count": 19,
   "id": "forbidden-birth",
   "metadata": {},
   "outputs": [],
   "source": [
    "df = df[cols]"
   ]
  },
  {
   "cell_type": "code",
   "execution_count": 20,
   "id": "residential-gateway",
   "metadata": {},
   "outputs": [
    {
     "name": "stdout",
     "output_type": "stream",
     "text": [
      "root\n",
      " |-- _AccountId: integer (nullable = true)\n",
      " |-- forum: string (nullable = true)\n",
      " |-- ActivityDays: double (nullable = true)\n",
      " |-- comments_number: double (nullable = true)\n",
      " |-- edits_of_answers: double (nullable = true)\n",
      " |-- edits_of_question: double (nullable = true)\n",
      " |-- created_questions: double (nullable = true)\n",
      " |-- comments_every_day: double (nullable = true)\n",
      " |-- activity_answer_edits: double (nullable = true)\n",
      " |-- activity_question_edits: double (nullable = true)\n",
      " |-- activity_questions: double (nullable = true)\n",
      "\n"
     ]
    }
   ],
   "source": [
    "df.printSchema()"
   ]
  },
  {
   "cell_type": "markdown",
   "id": "quick-appearance",
   "metadata": {},
   "source": [
    "'OneHotEncoder'"
   ]
  },
  {
   "cell_type": "code",
   "execution_count": 22,
   "id": "internal-omega",
   "metadata": {},
   "outputs": [],
   "source": [
    "str_cols = ['forum']\n",
    "encoder = OneHotEncoder(inputCol='forum', outputCol='forum_features')"
   ]
  },
  {
   "cell_type": "code",
   "execution_count": 78,
   "id": "connected-franchise",
   "metadata": {},
   "outputs": [],
   "source": [
    "# unique list of forums\n",
    "forums_list = df.select('forum').distinct().rdd.map(lambda r: r[0]).collect()"
   ]
  },
  {
   "cell_type": "code",
   "execution_count": 109,
   "id": "institutional-beverage",
   "metadata": {},
   "outputs": [],
   "source": [
    "forum_udf = udf(lambda x: 1 if x == forum else 0)"
   ]
  },
  {
   "cell_type": "code",
   "execution_count": 127,
   "id": "associate-digit",
   "metadata": {},
   "outputs": [],
   "source": [
    "for forum in forums_list:\n",
    "    forum_udf = udf(lambda x: 1 if x == forum else 0)\n",
    "    df = df.withColumn(f'forum_{forum}', forum_udf('forum'))\n",
    "    df = df.withColumn(f'activity_days_{forum}', forum_udf('forum'))\n",
    "    df = df.withColumn(f'comments_number_{forum}', forum_udf('forum'))\n",
    "    df = df.withColumn(f'answer_edits_{forum}', forum_udf('forum'))\n",
    "    df = df.withColumn(f'question_edits_{forum}', forum_udf('forum'))\n",
    "    df = df.withColumn(f'created_questions_{forum}', forum_udf('forum'))\n",
    "    df = df.withColumn(f'activity_comments_{forum}', forum_udf('forum'))\n",
    "    df = df.withColumn(f'activity_answer_edits_{forum}', forum_udf('forum'))\n",
    "    df = df.withColumn(f'activity_question_edits_{forum}', forum_udf('forum'))\n",
    "    df = df.withColumn(f'activity_questions_{forum}', forum_udf('forum'))"
   ]
  },
  {
   "cell_type": "code",
   "execution_count": 128,
   "id": "exceptional-andrew",
   "metadata": {},
   "outputs": [],
   "source": [
    "exprs = {x: 'sum' for x in df.columns if x not in cols}"
   ]
  },
  {
   "cell_type": "code",
   "execution_count": 129,
   "id": "increased-compromise",
   "metadata": {},
   "outputs": [],
   "source": [
    "ddf=df.groupBy('_AccountId').agg(exprs)"
   ]
  },
  {
   "cell_type": "code",
   "execution_count": 132,
   "id": "literary-virgin",
   "metadata": {},
   "outputs": [
    {
     "data": {
      "text/plain": [
       "71"
      ]
     },
     "execution_count": 132,
     "metadata": {},
     "output_type": "execute_result"
    }
   ],
   "source": [
    "# number of columns\n",
    "len(ddf.columns)"
   ]
  },
  {
   "cell_type": "code",
   "execution_count": 25,
   "id": "loved-senator",
   "metadata": {},
   "outputs": [],
   "source": [
    "ppl = Pipeline(stages=stage_string + stage_one_hot)\n",
    "df = ppl.fit(df).transform(df)"
   ]
  },
  {
   "cell_type": "code",
   "execution_count": 37,
   "id": "smooth-emperor",
   "metadata": {},
   "outputs": [],
   "source": [
    "from pyspark.sql.functions import *"
   ]
  },
  {
   "cell_type": "markdown",
   "id": "capital-westminster",
   "metadata": {},
   "source": [
    "Handling numerical data"
   ]
  },
  {
   "cell_type": "code",
   "execution_count": 28,
   "id": "dental-multimedia",
   "metadata": {},
   "outputs": [],
   "source": [
    "from pyspark.ml.feature import Imputer"
   ]
  },
  {
   "cell_type": "code",
   "execution_count": null,
   "id": "attempted-planner",
   "metadata": {},
   "outputs": [],
   "source": [
    "num_cols = []"
   ]
  },
  {
   "cell_type": "code",
   "execution_count": null,
   "id": "foster-oxford",
   "metadata": {},
   "outputs": [],
   "source": [
    "# only for posts data\n",
    "num_cols = ['_AnswerCount', '_CommentCount', '_ViewCount']\n",
    "num_imputed = [var + \"_imputed\" for var in num_cols]\n",
    "\n",
    "imputer = Imputer(inputCols = nume_cols, outputCols = num_imputed)\n",
    "df = imputer.fit(df).transform(df)"
   ]
  }
 ],
 "metadata": {
  "kernelspec": {
   "display_name": "Python 3",
   "language": "python",
   "name": "python3"
  },
  "language_info": {
   "codemirror_mode": {
    "name": "ipython",
    "version": 3
   },
   "file_extension": ".py",
   "mimetype": "text/x-python",
   "name": "python",
   "nbconvert_exporter": "python",
   "pygments_lexer": "ipython3",
   "version": "3.8.6"
  }
 },
 "nbformat": 4,
 "nbformat_minor": 5
}
