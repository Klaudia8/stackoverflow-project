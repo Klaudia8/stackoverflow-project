{
 "cells": [
  {
   "cell_type": "code",
   "execution_count": 1,
   "id": "level-prize",
   "metadata": {},
   "outputs": [],
   "source": [
    "from pyspark.sql import SparkSession\n",
    "\n",
    "spark = SparkSession.builder \\\n",
    "    .appName('ML') \\\n",
    "    .master('local[*]') \\\n",
    "    .getOrCreate()"
   ]
  },
  {
   "cell_type": "code",
   "execution_count": 135,
   "id": "median-tournament",
   "metadata": {},
   "outputs": [],
   "source": [
    "from pyspark.sql.functions import *\n",
    "#from pyspark.sql import DataFrame, SQLContext"
   ]
  },
  {
   "cell_type": "code",
   "execution_count": 77,
   "id": "characteristic-update",
   "metadata": {},
   "outputs": [],
   "source": [
    "input_path = '/home/jovyan/work/data/'\n",
    "users_path = f'{input_path}all_users_v1/'\n",
    "comments_path = f'{input_path}all_comments_v1/'\n",
    "posts_path = f'{input_path}all_posts_v1/'"
   ]
  },
  {
   "cell_type": "code",
   "execution_count": 319,
   "id": "preliminary-property",
   "metadata": {},
   "outputs": [],
   "source": [
    "users = spark.read.csv(users_path, multiLine=True, header=True, inferSchema=True) # multiline - allows \\n to appear in a single row\n",
    "#comments = spark.read.csv(comments_path, multiLine=True, header=True, inferSchema=True)\n",
    "#posts = spark.read.csv(posts_path, multiLine=True, header=True, inferSchema=True)"
   ]
  },
  {
   "cell_type": "code",
   "execution_count": 264,
   "id": "vulnerable-found",
   "metadata": {},
   "outputs": [
    {
     "name": "stdout",
     "output_type": "stream",
     "text": [
      "Comments-rows: 140785\n",
      "Users-rows: 147577\n",
      "Posts-rows: 91936\n"
     ]
    }
   ],
   "source": [
    "print(f'Comments-rows: {comments.count()}')\n",
    "print(f'Users-rows: {users.count()}')\n",
    "print(f'Posts-rows: {posts.count()}')"
   ]
  },
  {
   "cell_type": "code",
   "execution_count": 320,
   "id": "second-suite",
   "metadata": {},
   "outputs": [
    {
     "name": "stdout",
     "output_type": "stream",
     "text": [
      "root\n",
      " |-- _AboutMe: string (nullable = true)\n",
      " |-- _AccountId: integer (nullable = true)\n",
      " |-- _CreationDate: timestamp (nullable = true)\n",
      " |-- _DisplayName: string (nullable = true)\n",
      " |-- _Id: integer (nullable = true)\n",
      " |-- _LastAccessDate: timestamp (nullable = true)\n",
      " |-- _Location: string (nullable = true)\n",
      " |-- forum: string (nullable = true)\n",
      "\n"
     ]
    }
   ],
   "source": [
    "users.printSchema()"
   ]
  },
  {
   "cell_type": "code",
   "execution_count": 258,
   "id": "cathedral-serbia",
   "metadata": {},
   "outputs": [
    {
     "name": "stdout",
     "output_type": "stream",
     "text": [
      "root\n",
      " |-- _CreationDate: timestamp (nullable = true)\n",
      " |-- _Id: integer (nullable = true)\n",
      " |-- _PostId: integer (nullable = true)\n",
      " |-- _Text: string (nullable = true)\n",
      " |-- _UserDisplayName: string (nullable = true)\n",
      " |-- _UserId: integer (nullable = true)\n",
      " |-- forum: string (nullable = true)\n",
      " |-- _AccountId: integer (nullable = true)\n",
      "\n"
     ]
    }
   ],
   "source": [
    "comments.printSchema()"
   ]
  },
  {
   "cell_type": "code",
   "execution_count": 159,
   "id": "micro-dimension",
   "metadata": {},
   "outputs": [],
   "source": [
    "comments_count=comments.groupBy('_AccountId', 'forum').agg(count('*').cast(DoubleType()).alias('comments_number'))"
   ]
  },
  {
   "cell_type": "code",
   "execution_count": 164,
   "id": "third-polyester",
   "metadata": {},
   "outputs": [
    {
     "name": "stdout",
     "output_type": "stream",
     "text": [
      "+----------+------+---------------+\n",
      "|_AccountId| forum|comments_number|\n",
      "+----------+------+---------------+\n",
      "|     73848|french|            1.0|\n",
      "|   2355716|french|           15.0|\n",
      "|  14230173|french|            1.0|\n",
      "|   5042025|french|            1.0|\n",
      "|     29567|french|            7.0|\n",
      "+----------+------+---------------+\n",
      "only showing top 5 rows\n",
      "\n"
     ]
    }
   ],
   "source": [
    "comments_count.show(5)"
   ]
  },
  {
   "cell_type": "code",
   "execution_count": 226,
   "id": "wicked-process",
   "metadata": {},
   "outputs": [],
   "source": [
    "# PostTypeId\n",
    "# - 1: Question\n",
    "# - 2: Answer\n",
    "post_cols = ['_AnswerCount', '_Body', '_CommentCount', '_PostTypeId', '_Tags', '_Title', '_ViewCount',\n",
    "             'forum', 'LastEditorAccountId', 'OwnerAccountId']\n",
    "answer_cols = ['_CommentCount', '_Body', 'forum', 'LastEditorAccountId']\n",
    "question_cols = ['_AnswerCount', '_Body', '_CommentCount', '_Tags', '_Title', '_ViewCount', \n",
    "                 'forum', 'LastEditorAccountId', 'OwnerAccountId']"
   ]
  },
  {
   "cell_type": "code",
   "execution_count": 227,
   "id": "narrative-strengthening",
   "metadata": {},
   "outputs": [],
   "source": [
    "post_answers = posts.filter(posts['_PostTypeId'] == 2)\n",
    "post_answers = post_answers[answer_cols]\n",
    "post_answers = post_answers.filter(post_answers['LastEditorAccountId'] > 0)\n",
    "post_questions = posts.filter(posts['_PostTypeId'] == 1)\n",
    "post_questions = post_questions[question_cols]"
   ]
  },
  {
   "cell_type": "code",
   "execution_count": 228,
   "id": "light-brunei",
   "metadata": {},
   "outputs": [
    {
     "name": "stdout",
     "output_type": "stream",
     "text": [
      "45416\n",
      "43727\n"
     ]
    }
   ],
   "source": [
    "print(post_answers.count())\n",
    "print(post_questions.count())"
   ]
  },
  {
   "cell_type": "code",
   "execution_count": 310,
   "id": "collaborative-listening",
   "metadata": {},
   "outputs": [
    {
     "name": "stdout",
     "output_type": "stream",
     "text": [
      "+-------------------+---------+----------------+\n",
      "|LastEditorAccountId|    forum|edits_of_answers|\n",
      "+-------------------+---------+----------------+\n",
      "|            5134905|chemistry|             2.0|\n",
      "|           10834649|chemistry|             1.0|\n",
      "|           12861263|chemistry|             1.0|\n",
      "|            9522198|chemistry|             2.0|\n",
      "|            7553617|chemistry|             4.0|\n",
      "+-------------------+---------+----------------+\n",
      "only showing top 5 rows\n",
      "\n"
     ]
    }
   ],
   "source": [
    "answers = post_answers.groupBy('LastEditorAccountId', 'forum') \\\n",
    "                      .agg(count('*').cast(DoubleType()).alias('edits_of_answers')#, \n",
    "                          # sum(post_answers['_CommentCount']).cast(DoubleType()).alias('comments_to_answer')\n",
    "                          )\n",
    "answers.show(5)"
   ]
  },
  {
   "cell_type": "code",
   "execution_count": 309,
   "id": "played-romance",
   "metadata": {},
   "outputs": [
    {
     "name": "stdout",
     "output_type": "stream",
     "text": [
      "+-------------------+---------+-----------------+\n",
      "|LastEditorAccountId|    forum|edits_of_question|\n",
      "+-------------------+---------+-----------------+\n",
      "|            7553617|chemistry|              4.0|\n",
      "|            1877825|chemistry|              1.0|\n",
      "|            7745813|chemistry|              4.0|\n",
      "|            1844444|chemistry|              1.0|\n",
      "|            2103819|chemistry|              1.0|\n",
      "+-------------------+---------+-----------------+\n",
      "only showing top 5 rows\n",
      "\n"
     ]
    }
   ],
   "source": [
    "editors = post_questions.groupBy('LastEditorAccountId', 'forum') \\\n",
    "                      .agg(count('*').cast(DoubleType()).alias('edits_of_questions')#,\n",
    "                           #sum(post_questions['_AnswerCount']).cast(DoubleType()).alias('answers_to_edited_question'),\n",
    "                           #sum(post_questions['_CommentCount']).cast(DoubleType()).alias('comments_to_edited_question'),\n",
    "                           #sum(post_questions['_ViewCount']).cast(DoubleType()).alias('views_of_edited_question')\n",
    "                          )\n",
    "editors.show(5)"
   ]
  },
  {
   "cell_type": "code",
   "execution_count": 301,
   "id": "corporate-permit",
   "metadata": {},
   "outputs": [
    {
     "name": "stdout",
     "output_type": "stream",
     "text": [
      "+--------------+---------+-----------------+\n",
      "|OwnerAccountId|    forum|created_questions|\n",
      "+--------------+---------+-----------------+\n",
      "|       7157712|chemistry|              1.0|\n",
      "|      14589975|chemistry|              1.0|\n",
      "|      16760944|chemistry|              1.0|\n",
      "|       1877825|chemistry|              1.0|\n",
      "|       7745813|chemistry|             10.0|\n",
      "+--------------+---------+-----------------+\n",
      "only showing top 5 rows\n",
      "\n"
     ]
    }
   ],
   "source": [
    "owners = post_questions.groupBy('OwnerAccountId', 'forum') \\\n",
    "                       .agg(count('*').cast(DoubleType()).alias('created_questions')#,\n",
    "                           # sum(post_questions['_AnswerCount']).cast(DoubleType()).alias('answers_to_question'),\n",
    "                           # sum(post_questions['_CommentCount']).cast(DoubleType()).alias('comments_to_question'),\n",
    "                           # sum(post_questions['_ViewCount']).cast(DoubleType()).alias('views_of_question')\n",
    "                           )\n",
    "owners.show(5)"
   ]
  },
  {
   "cell_type": "markdown",
   "id": "missing-trash",
   "metadata": {},
   "source": [
    "Join Users with comments and posts(editors, owners)"
   ]
  },
  {
   "cell_type": "code",
   "execution_count": 321,
   "id": "appropriate-sequence",
   "metadata": {},
   "outputs": [],
   "source": [
    "users=users.withColumn('ActivityDays', datediff(users['_LastAccessDate'], users['_CreationDate']).cast(DoubleType()))"
   ]
  },
  {
   "cell_type": "markdown",
   "id": "unknown-thesaurus",
   "metadata": {},
   "source": [
    "Join with comments"
   ]
  },
  {
   "cell_type": "code",
   "execution_count": 322,
   "id": "pacific-combat",
   "metadata": {},
   "outputs": [],
   "source": [
    "users = users.join(comments_count, on=['_AccountId', 'forum'], how='left')\n",
    "users = users.withColumn('comments_every_day', round(users['ActivityDays'] / users['comments_number'], 1))\n",
    "\n",
    "users = users.na.fill({'comments_number': 0, 'comments_every_day': 0})"
   ]
  },
  {
   "cell_type": "markdown",
   "id": "scientific-sewing",
   "metadata": {},
   "source": [
    "Join with posts (answers)"
   ]
  },
  {
   "cell_type": "code",
   "execution_count": 328,
   "id": "sixth-disney",
   "metadata": {},
   "outputs": [],
   "source": [
    "users = users.withColumnRenamed('forum', 'forum2')\n",
    "users = users.join(answers, \n",
    "           (users['_AccountId'] == answers['LastEditorAccountId']) & (users['forum2'] == answers['forum']), \n",
    "            how='left')\n",
    "users = users.drop('forum', 'LastEditorAccountId')"
   ]
  },
  {
   "cell_type": "markdown",
   "id": "heard-paste",
   "metadata": {},
   "source": [
    "Join with posts (questions)"
   ]
  },
  {
   "cell_type": "code",
   "execution_count": 332,
   "id": "suffering-airline",
   "metadata": {},
   "outputs": [],
   "source": [
    "users = users.join(editors, \n",
    "                   (users['_AccountId'] == editors['LastEditorAccountId']) & (users['forum2'] == editors['forum']), \n",
    "                   how='left')\n",
    "users = users.drop('forum')\n",
    "\n",
    "users = users.join(owners, \n",
    "                   (users['_AccountId'] == owners['OwnerAccountId']) & (users['forum2'] == owners['forum']), \n",
    "                   how='left')\n",
    "users = users.drop('forum', 'LastEditorAccountId', 'OwnerAccountId')\n",
    "users = users.withColumnRenamed('forum2', 'forum')\n",
    "#users = users.withColumn('comments_every_day', round(users['ActivityDays'] / users['comments_number'], 1))"
   ]
  },
  {
   "cell_type": "markdown",
   "id": "bizarre-quarterly",
   "metadata": {},
   "source": [
    "Fill NA"
   ]
  },
  {
   "cell_type": "code",
   "execution_count": 339,
   "id": "controlled-doctor",
   "metadata": {},
   "outputs": [],
   "source": [
    "users = users.na.fill({'edits_of_answers': 0, 'edits_of_questions': 0, 'created_questions': 0})"
   ]
  },
  {
   "cell_type": "markdown",
   "id": "linear-spray",
   "metadata": {},
   "source": [
    "Calculate activities of user (edits, comments) per activity days "
   ]
  },
  {
   "cell_type": "code",
   "execution_count": 342,
   "id": "public-monthly",
   "metadata": {},
   "outputs": [],
   "source": [
    "users = users.withColumn('activity_answer_edits', round(users['ActivityDays'] / users['edits_of_answers'], 1))\n",
    "users = users.withColumn('activity_question_edits', round(users['ActivityDays'] / users['edits_of_questions'], 1))\n",
    "users = users.withColumn('activity_questions', round(users['ActivityDays'] / users['created_questions'], 1))"
   ]
  },
  {
   "cell_type": "code",
   "execution_count": 344,
   "id": "deluxe-pepper",
   "metadata": {},
   "outputs": [],
   "source": [
    "users = users.na.fill({'activity_answer_edits': 0, 'activity_question_edits': 0, 'activity_questions': 0})"
   ]
  },
  {
   "cell_type": "code",
   "execution_count": 343,
   "id": "sporting-ordinary",
   "metadata": {},
   "outputs": [
    {
     "name": "stdout",
     "output_type": "stream",
     "text": [
      "root\n",
      " |-- _AccountId: integer (nullable = true)\n",
      " |-- forum: string (nullable = true)\n",
      " |-- _AboutMe: string (nullable = true)\n",
      " |-- _CreationDate: timestamp (nullable = true)\n",
      " |-- _DisplayName: string (nullable = true)\n",
      " |-- _Id: integer (nullable = true)\n",
      " |-- _LastAccessDate: timestamp (nullable = true)\n",
      " |-- _Location: string (nullable = true)\n",
      " |-- ActivityDays: double (nullable = true)\n",
      " |-- comments_number: double (nullable = false)\n",
      " |-- comments_every_day: double (nullable = false)\n",
      " |-- edits_of_answers: double (nullable = false)\n",
      " |-- edits_of_question: double (nullable = false)\n",
      " |-- created_questions: double (nullable = false)\n",
      " |-- activity_answer_edits: double (nullable = true)\n",
      " |-- activity_question_edits: double (nullable = true)\n",
      " |-- activity_questions: double (nullable = true)\n",
      "\n"
     ]
    }
   ],
   "source": [
    "users.printSchema()"
   ]
  },
  {
   "cell_type": "code",
   "execution_count": 345,
   "id": "collective-beauty",
   "metadata": {},
   "outputs": [],
   "source": [
    "cols = ['_AccountId', 'forum', '_Location', 'ActivityDays', \n",
    "        'comments_number', 'edits_of_answers', 'edits_of_question', 'created_questions', \n",
    "        'comments_every_day', 'activity_answer_edits', 'activity_question_edits', 'activity_questions']"
   ]
  },
  {
   "cell_type": "code",
   "execution_count": 348,
   "id": "prime-college",
   "metadata": {},
   "outputs": [
    {
     "name": "stdout",
     "output_type": "stream",
     "text": [
      "+----------+------------------+---------------------+-----------------------+------------------+\n",
      "|_AccountId|comments_every_day|activity_answer_edits|activity_question_edits|activity_questions|\n",
      "+----------+------------------+---------------------+-----------------------+------------------+\n",
      "|      1102|               0.0|                  0.0|                    0.0|               0.0|\n",
      "|      2336|             252.0|                  0.0|                    0.0|             504.0|\n",
      "|      7906|               0.0|                  0.0|                    0.0|               0.0|\n",
      "|     13848|               0.0|                  0.0|                    0.0|               0.0|\n",
      "|     15096|               0.0|                  0.0|                    0.0|               0.0|\n",
      "+----------+------------------+---------------------+-----------------------+------------------+\n",
      "only showing top 5 rows\n",
      "\n"
     ]
    }
   ],
   "source": [
    "users['_AccountId',\n",
    "      'comments_every_day', 'activity_answer_edits', 'activity_question_edits', 'activity_questions'].show(5)"
   ]
  },
  {
   "cell_type": "code",
   "execution_count": 95,
   "id": "valid-broadway",
   "metadata": {},
   "outputs": [],
   "source": [
    "#import pyspark.ml"
   ]
  },
  {
   "cell_type": "code",
   "execution_count": 104,
   "id": "parliamentary-basket",
   "metadata": {},
   "outputs": [],
   "source": [
    "from pyspark.ml import Pipeline\n",
    "from pyspark.ml.feature import OneHotEncoder, StringIndexer"
   ]
  },
  {
   "cell_type": "code",
   "execution_count": 105,
   "id": "swedish-aquarium",
   "metadata": {},
   "outputs": [],
   "source": [
    "string_cols = ['forum']"
   ]
  },
  {
   "cell_type": "code",
   "execution_count": 96,
   "id": "traditional-sierra",
   "metadata": {},
   "outputs": [],
   "source": [
    "encoder = f.OneHotEncoder(inputCol='forum', outputCol='forum_features')"
   ]
  },
  {
   "cell_type": "code",
   "execution_count": 106,
   "id": "roman-pharmacology",
   "metadata": {},
   "outputs": [],
   "source": [
    "stage_string = [StringIndexer(inputCol=c, outputCol=c+'_str_encoded') for c in string_cols]\n",
    "stage_one_hot = [OneHotEncoder(inputCol=c+'_str_encoded', outputCol=c+'_one_hot') for c in string_cols]\n",
    "\n",
    "ppl = Pipeline(stages=stage_string + stage_one_hot)\n",
    "df = ppl.fit(users).transform(users)"
   ]
  },
  {
   "cell_type": "code",
   "execution_count": 120,
   "id": "aerial-patrick",
   "metadata": {},
   "outputs": [],
   "source": [
    "x=df.filter(df['forum'] == 'italian')"
   ]
  },
  {
   "cell_type": "code",
   "execution_count": 129,
   "id": "endangered-brave",
   "metadata": {},
   "outputs": [
    {
     "name": "stdout",
     "output_type": "stream",
     "text": [
      "+-------+-----------------+-------------+\n",
      "|  forum|forum_str_encoded|forum_one_hot|\n",
      "+-------+-----------------+-------------+\n",
      "|italian|              5.0|(7,[5],[1.0])|\n",
      "|italian|              5.0|(7,[5],[1.0])|\n",
      "|italian|              5.0|(7,[5],[1.0])|\n",
      "|italian|              5.0|(7,[5],[1.0])|\n",
      "|italian|              5.0|(7,[5],[1.0])|\n",
      "|italian|              5.0|(7,[5],[1.0])|\n",
      "|italian|              5.0|(7,[5],[1.0])|\n",
      "|italian|              5.0|(7,[5],[1.0])|\n",
      "|italian|              5.0|(7,[5],[1.0])|\n",
      "|italian|              5.0|(7,[5],[1.0])|\n",
      "+-------+-----------------+-------------+\n",
      "only showing top 10 rows\n",
      "\n"
     ]
    }
   ],
   "source": [
    "x['forum',\n",
    " 'forum_str_encoded',\n",
    " 'forum_one_hot'].show(10)"
   ]
  },
  {
   "cell_type": "markdown",
   "id": "stable-shock",
   "metadata": {},
   "source": [
    "Handling numerical data"
   ]
  },
  {
   "cell_type": "code",
   "execution_count": 131,
   "id": "fiscal-array",
   "metadata": {},
   "outputs": [],
   "source": [
    "from pyspark.ml.feature import Imputer"
   ]
  },
  {
   "cell_type": "code",
   "execution_count": null,
   "id": "cosmetic-satellite",
   "metadata": {},
   "outputs": [],
   "source": [
    "# only for posts data\n",
    "num_cols = ['_AnswerCount', '_CommentCount', '_ViewCount']\n",
    "num_imputed = [var + \"_imputed\" for var in num_cols]\n",
    "\n",
    "imputer = Imputer(inputCols = nume_cols, outputCols = num_imputed)\n",
    "df = imputer.fit(df).transform(df)"
   ]
  },
  {
   "cell_type": "code",
   "execution_count": null,
   "id": "opposite-transsexual",
   "metadata": {},
   "outputs": [],
   "source": []
  }
 ],
 "metadata": {
  "kernelspec": {
   "display_name": "Python 3",
   "language": "python",
   "name": "python3"
  },
  "language_info": {
   "codemirror_mode": {
    "name": "ipython",
    "version": 3
   },
   "file_extension": ".py",
   "mimetype": "text/x-python",
   "name": "python",
   "nbconvert_exporter": "python",
   "pygments_lexer": "ipython3",
   "version": "3.8.6"
  }
 },
 "nbformat": 4,
 "nbformat_minor": 5
}
