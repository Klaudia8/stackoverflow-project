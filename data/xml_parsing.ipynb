{
 "cells": [
  {
   "cell_type": "code",
   "execution_count": 1,
   "id": "funky-possession",
   "metadata": {},
   "outputs": [],
   "source": [
    "from pyspark.sql import SparkSession\n",
    "from pyspark.sql import Row\n",
    "\n",
    "spark = SparkSession.builder \\\n",
    "    .appName('DataFrame') \\\n",
    "    .master('local[*]') \\\n",
    "    .getOrCreate()"
   ]
  },
  {
   "cell_type": "code",
   "execution_count": 2,
   "id": "employed-marks",
   "metadata": {},
   "outputs": [],
   "source": [
    "from pyspark.sql.functions import *\n",
    "from pyspark.sql.types import *\n",
    "from pyspark.sql import DataFrame, SQLContext"
   ]
  },
  {
   "cell_type": "code",
   "execution_count": 3,
   "id": "distinct-explosion",
   "metadata": {},
   "outputs": [],
   "source": [
    "from os import listdir\n",
    "from os.path import isfile"
   ]
  },
  {
   "cell_type": "code",
   "execution_count": 9,
   "id": "impaired-shame",
   "metadata": {},
   "outputs": [],
   "source": [
    "input_path = '/home/jovyan/work/data/'"
   ]
  },
  {
   "cell_type": "code",
   "execution_count": 79,
   "id": "scenic-morrison",
   "metadata": {},
   "outputs": [],
   "source": [
    "datasets = [directory for directory in listdir(input_path) if not isfile(input_path + directory)]\n",
    "datasets.remove('.ipynb_checkpoints')"
   ]
  },
  {
   "cell_type": "code",
   "execution_count": 194,
   "id": "dynamic-present",
   "metadata": {},
   "outputs": [],
   "source": [
    "users_schema = StructType([\n",
    "    StructField(\"_AboutMe\", StringType()),\n",
    "    StructField(\"_AccountId\", IntegerType()),\n",
    "    StructField(\"_CreationDate\", DateType()),\n",
    "    StructField(\"_DisplayName\", StringType()),\n",
    "    StructField(\"_Id\", IntegerType()),\n",
    "    StructField(\"_LastAccessDate\", DateType()),\n",
    "    StructField(\"_Location\", StringType()),\n",
    "    StructField(\"forum\", StringType())\n",
    "])\n",
    "\n",
    "comments_schema = StructType([\n",
    "    StructField(\"_CreationDate\", DateType()),\n",
    "    StructField(\"_Id\", IntegerType()),\n",
    "    StructField(\"_PostId\", IntegerType()),\n",
    "    StructField(\"_Text\", StringType()),\n",
    "    StructField(\"_UserDisplayName\", StringType()),\n",
    "    StructField(\"_UserId\", IntegerType()),\n",
    "    StructField(\"_AccountId\", IntegerType()),\n",
    "    StructField(\"UserId\", IntegerType()),\n",
    "    StructField(\"forum\", StringType())\n",
    "])\n",
    "\n",
    "posts_schema = StructType([\n",
    "    StructField(\"_AnswerCount\", IntegerType()),\n",
    "    StructField(\"_Body\", StringType()),\n",
    "    StructField(\"_ClosedDate\", DateType()),\n",
    "    StructField(\"_CommentCount\", IntegerType()),\n",
    "    StructField(\"_CreationDate\", DateType()),\n",
    "    StructField(\"_Id\", IntegerType()),\n",
    "    StructField(\"_LastActivityDate\", DateType()),\n",
    "    StructField(\"_LastEditDate\", DateType()),\n",
    "    StructField(\"_LastEditorUserId\", IntegerType()),\n",
    "    StructField(\"_OwnerUserId\", IntegerType()),\n",
    "    StructField(\"_ParentId\", IntegerType()),\n",
    "    StructField(\"_PostTypeId\", IntegerType()),\n",
    "    StructField(\"_Tags\", StringType()),\n",
    "    StructField(\"_Title\", StringType()),\n",
    "    StructField(\"_ViewCount\", IntegerType()),\n",
    "    StructField(\"forum\", StringType()),    \n",
    "    StructField(\"UserId2\", IntegerType()),\n",
    "    StructField(\"LastEditorAccountId\", IntegerType()),\n",
    "    StructField(\"UserId\", IntegerType()),\n",
    "    StructField(\"OwnerAccountId\", IntegerType())\n",
    "])"
   ]
  },
  {
   "cell_type": "code",
   "execution_count": 195,
   "id": "coordinate-secret",
   "metadata": {},
   "outputs": [],
   "source": [
    "comments_cols = comments_schema.fieldNames()\n",
    "posts_cols = posts_schema.fieldNames()\n",
    "users_cols = users_schema.fieldNames()"
   ]
  },
  {
   "cell_type": "code",
   "execution_count": 17,
   "id": "restricted-aquatic",
   "metadata": {},
   "outputs": [],
   "source": [
    "def read_xml(path, file_name, columns):\n",
    "    full_path = f'{path}/{file_name}.xml'\n",
    "    \n",
    "    ddf = spark.read \\\n",
    "            .format('com.databricks.spark.xml') \\\n",
    "            .options(rootTag=file_name, rowTag='row') \\\n",
    "            .load(full_path)\n",
    "    \n",
    "    ddf = ddf.select([c for c in ddf.columns if c in columns])\n",
    "    \n",
    "    return ddf"
   ]
  },
  {
   "cell_type": "code",
   "execution_count": 18,
   "id": "buried-median",
   "metadata": {},
   "outputs": [],
   "source": [
    "def add_column(ddf, forum_name):\n",
    "    return ddf.withColumn('forum', lit(forum_name))"
   ]
  },
  {
   "cell_type": "code",
   "execution_count": 196,
   "id": "abroad-brooklyn",
   "metadata": {},
   "outputs": [
    {
     "name": "stdout",
     "output_type": "stream",
     "text": [
      "root\n",
      " |-- _AnswerCount: long (nullable = true)\n",
      " |-- _Body: string (nullable = true)\n",
      " |-- _ClosedDate: string (nullable = true)\n",
      " |-- _CommentCount: long (nullable = true)\n",
      " |-- _CreationDate: string (nullable = true)\n",
      " |-- _Id: long (nullable = true)\n",
      " |-- _LastActivityDate: string (nullable = true)\n",
      " |-- _LastEditDate: string (nullable = true)\n",
      " |-- _LastEditorUserId: long (nullable = true)\n",
      " |-- _OwnerUserId: long (nullable = true)\n",
      " |-- _ParentId: long (nullable = true)\n",
      " |-- _PostTypeId: long (nullable = true)\n",
      " |-- _Tags: string (nullable = true)\n",
      " |-- _Title: string (nullable = true)\n",
      " |-- _ViewCount: long (nullable = true)\n",
      " |-- forum: string (nullable = false)\n",
      " |-- UserId2: long (nullable = true)\n",
      " |-- LastEditorAccountId: long (nullable = true)\n",
      " |-- UserId: long (nullable = true)\n",
      " |-- OwnerAccountId: long (nullable = true)\n",
      "\n",
      "root\n",
      " |-- _AnswerCount: long (nullable = true)\n",
      " |-- _Body: string (nullable = true)\n",
      " |-- _ClosedDate: string (nullable = true)\n",
      " |-- _CommentCount: long (nullable = true)\n",
      " |-- _CreationDate: string (nullable = true)\n",
      " |-- _Id: long (nullable = true)\n",
      " |-- _LastActivityDate: string (nullable = true)\n",
      " |-- _LastEditDate: string (nullable = true)\n",
      " |-- _LastEditorUserId: long (nullable = true)\n",
      " |-- _OwnerUserId: long (nullable = true)\n",
      " |-- _ParentId: long (nullable = true)\n",
      " |-- _PostTypeId: long (nullable = true)\n",
      " |-- _Tags: string (nullable = true)\n",
      " |-- _Title: string (nullable = true)\n",
      " |-- _ViewCount: long (nullable = true)\n",
      " |-- forum: string (nullable = false)\n",
      " |-- UserId2: long (nullable = true)\n",
      " |-- LastEditorAccountId: long (nullable = true)\n",
      " |-- UserId: long (nullable = true)\n",
      " |-- OwnerAccountId: long (nullable = true)\n",
      "\n",
      "root\n",
      " |-- _AnswerCount: long (nullable = true)\n",
      " |-- _Body: string (nullable = true)\n",
      " |-- _ClosedDate: string (nullable = true)\n",
      " |-- _CommentCount: long (nullable = true)\n",
      " |-- _CreationDate: string (nullable = true)\n",
      " |-- _Id: long (nullable = true)\n",
      " |-- _LastActivityDate: string (nullable = true)\n",
      " |-- _LastEditDate: string (nullable = true)\n",
      " |-- _LastEditorUserId: long (nullable = true)\n",
      " |-- _OwnerUserId: long (nullable = true)\n",
      " |-- _ParentId: long (nullable = true)\n",
      " |-- _PostTypeId: long (nullable = true)\n",
      " |-- _Tags: string (nullable = true)\n",
      " |-- _Title: string (nullable = true)\n",
      " |-- _ViewCount: long (nullable = true)\n",
      " |-- forum: string (nullable = false)\n",
      " |-- UserId2: long (nullable = true)\n",
      " |-- LastEditorAccountId: long (nullable = true)\n",
      " |-- UserId: long (nullable = true)\n",
      " |-- OwnerAccountId: long (nullable = true)\n",
      "\n",
      "root\n",
      " |-- _AnswerCount: long (nullable = true)\n",
      " |-- _Body: string (nullable = true)\n",
      " |-- _ClosedDate: string (nullable = true)\n",
      " |-- _CommentCount: long (nullable = true)\n",
      " |-- _CreationDate: string (nullable = true)\n",
      " |-- _Id: long (nullable = true)\n",
      " |-- _LastActivityDate: string (nullable = true)\n",
      " |-- _LastEditDate: string (nullable = true)\n",
      " |-- _LastEditorUserId: long (nullable = true)\n",
      " |-- _OwnerUserId: long (nullable = true)\n",
      " |-- _ParentId: long (nullable = true)\n",
      " |-- _PostTypeId: long (nullable = true)\n",
      " |-- _Tags: string (nullable = true)\n",
      " |-- _Title: string (nullable = true)\n",
      " |-- _ViewCount: long (nullable = true)\n",
      " |-- forum: string (nullable = false)\n",
      " |-- UserId2: long (nullable = true)\n",
      " |-- LastEditorAccountId: long (nullable = true)\n",
      " |-- UserId: long (nullable = true)\n",
      " |-- OwnerAccountId: long (nullable = true)\n",
      "\n",
      "root\n",
      " |-- _AnswerCount: long (nullable = true)\n",
      " |-- _Body: string (nullable = true)\n",
      " |-- _ClosedDate: string (nullable = true)\n",
      " |-- _CommentCount: long (nullable = true)\n",
      " |-- _CreationDate: string (nullable = true)\n",
      " |-- _Id: long (nullable = true)\n",
      " |-- _LastActivityDate: string (nullable = true)\n",
      " |-- _LastEditDate: string (nullable = true)\n",
      " |-- _LastEditorUserId: long (nullable = true)\n",
      " |-- _OwnerUserId: long (nullable = true)\n",
      " |-- _ParentId: long (nullable = true)\n",
      " |-- _PostTypeId: long (nullable = true)\n",
      " |-- _Tags: string (nullable = true)\n",
      " |-- _Title: string (nullable = true)\n",
      " |-- _ViewCount: long (nullable = true)\n",
      " |-- forum: string (nullable = false)\n",
      " |-- UserId2: long (nullable = true)\n",
      " |-- LastEditorAccountId: long (nullable = true)\n",
      " |-- UserId: long (nullable = true)\n",
      " |-- OwnerAccountId: long (nullable = true)\n",
      "\n",
      "root\n",
      " |-- _AnswerCount: long (nullable = true)\n",
      " |-- _Body: string (nullable = true)\n",
      " |-- _ClosedDate: string (nullable = true)\n",
      " |-- _CommentCount: long (nullable = true)\n",
      " |-- _CreationDate: string (nullable = true)\n",
      " |-- _Id: long (nullable = true)\n",
      " |-- _LastActivityDate: string (nullable = true)\n",
      " |-- _LastEditDate: string (nullable = true)\n",
      " |-- _LastEditorUserId: long (nullable = true)\n",
      " |-- _OwnerUserId: long (nullable = true)\n",
      " |-- _ParentId: long (nullable = true)\n",
      " |-- _PostTypeId: long (nullable = true)\n",
      " |-- _Tags: string (nullable = true)\n",
      " |-- _Title: string (nullable = true)\n",
      " |-- _ViewCount: long (nullable = true)\n",
      " |-- forum: string (nullable = false)\n",
      " |-- UserId2: long (nullable = true)\n",
      " |-- LastEditorAccountId: long (nullable = true)\n",
      " |-- UserId: long (nullable = true)\n",
      " |-- OwnerAccountId: long (nullable = true)\n",
      "\n",
      "root\n",
      " |-- _AnswerCount: long (nullable = true)\n",
      " |-- _Body: string (nullable = true)\n",
      " |-- _ClosedDate: string (nullable = true)\n",
      " |-- _CommentCount: long (nullable = true)\n",
      " |-- _CreationDate: string (nullable = true)\n",
      " |-- _Id: long (nullable = true)\n",
      " |-- _LastActivityDate: string (nullable = true)\n",
      " |-- _LastEditDate: string (nullable = true)\n",
      " |-- _LastEditorUserId: long (nullable = true)\n",
      " |-- _OwnerUserId: long (nullable = true)\n",
      " |-- _ParentId: long (nullable = true)\n",
      " |-- _PostTypeId: long (nullable = true)\n",
      " |-- _Tags: string (nullable = true)\n",
      " |-- _Title: string (nullable = true)\n",
      " |-- _ViewCount: long (nullable = true)\n",
      " |-- forum: string (nullable = false)\n",
      " |-- UserId2: long (nullable = true)\n",
      " |-- LastEditorAccountId: long (nullable = true)\n",
      " |-- UserId: long (nullable = true)\n",
      " |-- OwnerAccountId: long (nullable = true)\n",
      "\n",
      "root\n",
      " |-- _AnswerCount: long (nullable = true)\n",
      " |-- _Body: string (nullable = true)\n",
      " |-- _ClosedDate: string (nullable = true)\n",
      " |-- _CommentCount: long (nullable = true)\n",
      " |-- _CreationDate: string (nullable = true)\n",
      " |-- _Id: long (nullable = true)\n",
      " |-- _LastActivityDate: string (nullable = true)\n",
      " |-- _LastEditDate: string (nullable = true)\n",
      " |-- _LastEditorUserId: long (nullable = true)\n",
      " |-- _OwnerUserId: long (nullable = true)\n",
      " |-- _ParentId: long (nullable = true)\n",
      " |-- _PostTypeId: long (nullable = true)\n",
      " |-- _Tags: string (nullable = true)\n",
      " |-- _Title: string (nullable = true)\n",
      " |-- _ViewCount: long (nullable = true)\n",
      " |-- forum: string (nullable = false)\n",
      " |-- UserId2: long (nullable = true)\n",
      " |-- LastEditorAccountId: long (nullable = true)\n",
      " |-- UserId: long (nullable = true)\n",
      " |-- OwnerAccountId: long (nullable = true)\n",
      "\n"
     ]
    }
   ],
   "source": [
    "all_users = spark.createDataFrame([], users_schema)\n",
    "all_comments = spark.createDataFrame([], comments_schema)\n",
    "all_posts = spark.createDataFrame([], posts_schema)\n",
    "\n",
    "for data in datasets:\n",
    "    users = read_xml(path=input_path+data, file_name='Users', columns=users_cols)\n",
    "    users = add_column(ddf=users, forum_name=data)\n",
    "    users = users.withColumnRenamed('_Id', 'UserId')\n",
    "\n",
    "    comments = read_xml(path=input_path+data, file_name='Comments', columns=comments_cols)\n",
    "    comments = add_column(ddf=comments, forum_name=data)\n",
    "    \n",
    "    posts = read_xml(path=input_path+data, file_name='Posts', columns=posts_cols)\n",
    "    posts = add_column(ddf=posts, forum_name=data)\n",
    "    \n",
    "    comments = comments.join(users['UserId', '_AccountId'], users['UserId'] == comments['_UserId'], how='inner')   \n",
    "    all_comments = all_comments.union(comments)\n",
    "    \n",
    "    posts = posts.join(users['UserId', '_AccountId'], users['UserId'] == posts['_LastEditorUserId'], how='inner')\n",
    "    posts = posts.withColumnRenamed('_AccountId', 'LastEditorAccountId')\n",
    "    posts = posts.drop('UserId')\n",
    "    posts = posts.join(users['UserId', '_AccountId'], users['UserId'] == posts['_OwnerUserId'], how='inner')\n",
    "    posts = posts.withColumnRenamed('_AccountId', 'OwnerAccountId')\n",
    "    posts = posts.drop('UserId')\n",
    "    all_posts = all_posts.union(posts)\n",
    "    \n",
    "    all_users = all_users.union(users)"
   ]
  },
  {
   "cell_type": "code",
   "execution_count": 197,
   "id": "interpreted-ambassador",
   "metadata": {
    "scrolled": true
   },
   "outputs": [
    {
     "name": "stdout",
     "output_type": "stream",
     "text": [
      "users\n",
      "root\n",
      " |-- _AboutMe: string (nullable = true)\n",
      " |-- _AccountId: long (nullable = true)\n",
      " |-- _CreationDate: string (nullable = true)\n",
      " |-- _DisplayName: string (nullable = true)\n",
      " |-- _Id: long (nullable = true)\n",
      " |-- _LastAccessDate: string (nullable = true)\n",
      " |-- _Location: string (nullable = true)\n",
      " |-- forum: string (nullable = true)\n",
      "\n",
      "comments\n",
      "root\n",
      " |-- _CreationDate: string (nullable = true)\n",
      " |-- _Id: long (nullable = true)\n",
      " |-- _PostId: long (nullable = true)\n",
      " |-- _Text: string (nullable = true)\n",
      " |-- _UserDisplayName: string (nullable = true)\n",
      " |-- _UserId: long (nullable = true)\n",
      " |-- _AccountId: string (nullable = true)\n",
      " |-- UserId: long (nullable = true)\n",
      " |-- forum: string (nullable = true)\n",
      "\n",
      "posts\n",
      "root\n",
      " |-- _AnswerCount: long (nullable = true)\n",
      " |-- _Body: string (nullable = true)\n",
      " |-- _ClosedDate: string (nullable = true)\n",
      " |-- _CommentCount: long (nullable = true)\n",
      " |-- _CreationDate: string (nullable = true)\n",
      " |-- _Id: long (nullable = true)\n",
      " |-- _LastActivityDate: string (nullable = true)\n",
      " |-- _LastEditDate: string (nullable = true)\n",
      " |-- _LastEditorUserId: long (nullable = true)\n",
      " |-- _OwnerUserId: long (nullable = true)\n",
      " |-- _ParentId: long (nullable = true)\n",
      " |-- _PostTypeId: long (nullable = true)\n",
      " |-- _Tags: string (nullable = true)\n",
      " |-- _Title: string (nullable = true)\n",
      " |-- _ViewCount: long (nullable = true)\n",
      " |-- forum: string (nullable = false)\n",
      " |-- UserId2: long (nullable = true)\n",
      " |-- LastEditorAccountId: long (nullable = true)\n",
      " |-- UserId: long (nullable = true)\n",
      " |-- OwnerAccountId: long (nullable = true)\n",
      "\n"
     ]
    }
   ],
   "source": [
    "print('users')\n",
    "all_users.printSchema()\n",
    "print('comments')\n",
    "all_comments.printSchema()\n",
    "print('posts')\n",
    "posts.printSchema()"
   ]
  },
  {
   "cell_type": "code",
   "execution_count": 83,
   "id": "constitutional-demographic",
   "metadata": {},
   "outputs": [
    {
     "name": "stdout",
     "output_type": "stream",
     "text": [
      "+-----+------+\n",
      "|count| count|\n",
      "+-----+------+\n",
      "|    7|    86|\n",
      "|    6|    73|\n",
      "|    5|   170|\n",
      "|    1|128744|\n",
      "|    3|  1023|\n",
      "|    8|   228|\n",
      "|    2|  5173|\n",
      "|    4|   428|\n",
      "+-----+------+\n",
      "\n"
     ]
    }
   ],
   "source": [
    "users_counts = all_users.groupBy('_AccountId').count() #.orderBy('count', ascending=0) #.show()\n",
    "\n",
    "# the number of individual, paired, triple and 4th accounts\n",
    "users_counts.groupby('count').count().orderBy('count').show()"
   ]
  },
  {
   "cell_type": "code",
   "execution_count": 127,
   "id": "certain-devices",
   "metadata": {},
   "outputs": [
    {
     "name": "stdout",
     "output_type": "stream",
     "text": [
      "+-------------+-----+\n",
      "|        forum|count|\n",
      "+-------------+-----+\n",
      "|    chemistry|73116|\n",
      "|       french|20358|\n",
      "|      spanish|17514|\n",
      "| windowsphone|16468|\n",
      "|    mythology| 6077|\n",
      "|      italian| 6032|\n",
      "|   portuguese| 5140|\n",
      "|vegetarianism| 2880|\n",
      "+-------------+-----+\n",
      "\n"
     ]
    }
   ],
   "source": [
    "users_by_forum = all_users.groupBy('forum').count().orderBy('count', ascending=0)\n",
    "users_by_forum.show()"
   ]
  },
  {
   "cell_type": "code",
   "execution_count": 111,
   "id": "wireless-visiting",
   "metadata": {},
   "outputs": [
    {
     "data": {
      "text/plain": [
       "147585"
      ]
     },
     "execution_count": 111,
     "metadata": {},
     "output_type": "execute_result"
    }
   ],
   "source": [
    "all_users.count()"
   ]
  },
  {
   "cell_type": "code",
   "execution_count": 85,
   "id": "happy-intermediate",
   "metadata": {},
   "outputs": [],
   "source": [
    "forum_list = all_users.groupBy('_AccountId').agg(collect_set('forum').alias('joined_forums'))"
   ]
  },
  {
   "cell_type": "code",
   "execution_count": 86,
   "id": "sudden-courtesy",
   "metadata": {},
   "outputs": [
    {
     "name": "stdout",
     "output_type": "stream",
     "text": [
      "root\n",
      " |-- _AccountId: long (nullable = true)\n",
      " |-- joined_forums: array (nullable = true)\n",
      " |    |-- element: string (containsNull = false)\n",
      "\n"
     ]
    }
   ],
   "source": [
    "forum_list.printSchema()"
   ]
  },
  {
   "cell_type": "code",
   "execution_count": 106,
   "id": "directed-impression",
   "metadata": {},
   "outputs": [],
   "source": [
    "x=forum_list.groupBy(['joined_forums']).agg(count('_AccountId').alias('users'))"
   ]
  },
  {
   "cell_type": "code",
   "execution_count": 107,
   "id": "growing-albert",
   "metadata": {},
   "outputs": [],
   "source": [
    "x=x.withColumn('array size', size(x['joined_forums']))"
   ]
  },
  {
   "cell_type": "code",
   "execution_count": 110,
   "id": "spatial-johnson",
   "metadata": {},
   "outputs": [
    {
     "name": "stdout",
     "output_type": "stream",
     "text": [
      "+-----------------------------------------------------------------------------------------+-----+----------+\n",
      "|joined_forums                                                                            |users|array size|\n",
      "+-----------------------------------------------------------------------------------------+-----+----------+\n",
      "|[chemistry]                                                                              |68881|1         |\n",
      "|[french]                                                                                 |16533|1         |\n",
      "|[windowsphone]                                                                           |14919|1         |\n",
      "|[spanish]                                                                                |14257|1         |\n",
      "|[italian]                                                                                |4433 |1         |\n",
      "|[mythology]                                                                              |4046 |1         |\n",
      "|[portuguese]                                                                             |4000 |1         |\n",
      "|[vegetarianism]                                                                          |1675 |1         |\n",
      "|[french, chemistry]                                                                      |933  |2         |\n",
      "|[french, spanish]                                                                        |699  |2         |\n",
      "|[chemistry, spanish]                                                                     |556  |2         |\n",
      "|[chemistry, mythology]                                                                   |441  |2         |\n",
      "|[windowsphone, chemistry]                                                                |332  |2         |\n",
      "|[vegetarianism, windowsphone, french, chemistry, spanish, mythology, italian, portuguese]|228  |8         |\n",
      "|[vegetarianism, chemistry]                                                               |199  |2         |\n",
      "|[chemistry, italian]                                                                     |187  |2         |\n",
      "|[french, mythology]                                                                      |187  |2         |\n",
      "|[french, italian]                                                                        |185  |2         |\n",
      "|[french, chemistry, spanish]                                                             |165  |3         |\n",
      "|[spanish, italian]                                                                       |150  |2         |\n",
      "|[spanish, mythology]                                                                     |141  |2         |\n",
      "|[windowsphone, french]                                                                   |140  |2         |\n",
      "|[spanish, portuguese]                                                                    |124  |2         |\n",
      "|[french, portuguese]                                                                     |117  |2         |\n",
      "|[windowsphone, spanish]                                                                  |110  |2         |\n",
      "|[french, spanish, italian]                                                               |105  |3         |\n",
      "|[chemistry, portuguese]                                                                  |101  |2         |\n",
      "|[vegetarianism, mythology]                                                               |96   |2         |\n",
      "|[french, chemistry, mythology]                                                           |89   |3         |\n",
      "|[vegetarianism, french]                                                                  |88   |2         |\n",
      "|[vegetarianism, spanish]                                                                 |69   |2         |\n",
      "|[windowsphone, french, chemistry, spanish]                                               |65   |4         |\n",
      "|[vegetarianism, windowsphone, chemistry, mythology]                                      |58   |4         |\n",
      "|[chemistry, spanish, mythology]                                                          |58   |3         |\n",
      "|[windowsphone, mythology]                                                                |57   |2         |\n",
      "|[windowsphone, french, chemistry, spanish, italian]                                      |48   |5         |\n",
      "|[windowsphone, french, chemistry, spanish, mythology, italian, portuguese]               |47   |7         |\n",
      "|[mythology, italian]                                                                     |44   |2         |\n",
      "|[windowsphone, italian]                                                                  |43   |2         |\n",
      "|[french, chemistry, italian]                                                             |43   |3         |\n",
      "|[french, spanish, mythology]                                                             |42   |3         |\n",
      "|[french, spanish, italian, portuguese]                                                   |39   |4         |\n",
      "|[french, spanish, portuguese]                                                            |36   |3         |\n",
      "|[mythology, portuguese]                                                                  |35   |2         |\n",
      "|[vegetarianism, french, chemistry]                                                       |35   |3         |\n",
      "|[italian, portuguese]                                                                    |35   |2         |\n",
      "|[windowsphone, portuguese]                                                               |33   |2         |\n",
      "|[french, chemistry, spanish, mythology]                                                  |33   |4         |\n",
      "|[vegetarianism, chemistry, mythology]                                                    |33   |3         |\n",
      "|[french, chemistry, spanish, italian]                                                    |32   |4         |\n",
      "|[windowsphone, french, chemistry]                                                        |32   |3         |\n",
      "|[vegetarianism, windowsphone]                                                            |29   |2         |\n",
      "|[windowsphone, chemistry, spanish]                                                       |28   |3         |\n",
      "|[chemistry, spanish, italian]                                                            |25   |3         |\n",
      "|[vegetarianism, portuguese]                                                              |25   |2         |\n",
      "|[windowsphone, chemistry, mythology]                                                     |24   |3         |\n",
      "|[vegetarianism, chemistry, spanish]                                                      |21   |3         |\n",
      "|[french, chemistry, spanish, mythology, italian]                                         |20   |5         |\n",
      "|[vegetarianism, windowsphone, chemistry]                                                 |19   |3         |\n",
      "|[vegetarianism, italian]                                                                 |17   |2         |\n",
      "|[windowsphone, french, spanish]                                                          |17   |3         |\n",
      "|[french, chemistry, portuguese]                                                          |16   |3         |\n",
      "|[windowsphone, french, chemistry, spanish, mythology, italian]                           |15   |6         |\n",
      "|[chemistry, mythology, italian]                                                          |15   |3         |\n",
      "|[french, chemistry, spanish, mythology, italian, portuguese]                             |15   |6         |\n",
      "|[spanish, italian, portuguese]                                                           |14   |3         |\n",
      "|[vegetarianism, french, spanish]                                                         |13   |3         |\n",
      "|[french, spanish, mythology, italian]                                                    |13   |4         |\n",
      "|[vegetarianism, french, chemistry, mythology]                                            |13   |4         |\n",
      "|[vegetarianism, spanish, mythology]                                                      |12   |3         |\n",
      "|[french, italian, portuguese]                                                            |12   |3         |\n",
      "|[chemistry, spanish, portuguese]                                                         |12   |3         |\n",
      "|[french, chemistry, spanish, portuguese]                                                 |12   |4         |\n",
      "|[vegetarianism, windowsphone, french, chemistry, spanish, mythology, italian]            |12   |7         |\n",
      "|[french, mythology, italian]                                                             |11   |3         |\n",
      "|[vegetarianism, french, chemistry, spanish, mythology, italian, portuguese]              |11   |7         |\n",
      "|[vegetarianism, mythology, portuguese]                                                   |11   |3         |\n",
      "|[vegetarianism, chemistry, spanish, mythology]                                           |11   |4         |\n",
      "|[french, chemistry, spanish, italian, portuguese]                                        |11   |5         |\n",
      "|[spanish, mythology, italian]                                                            |11   |3         |\n",
      "|[windowsphone, french, chemistry, mythology]                                             |10   |4         |\n",
      "|[french, chemistry, mythology, italian]                                                  |10   |4         |\n",
      "|[vegetarianism, french, mythology]                                                       |10   |3         |\n",
      "|[vegetarianism, french, chemistry, spanish, mythology]                                   |10   |5         |\n",
      "|[french, spanish, mythology, italian, portuguese]                                        |9    |5         |\n",
      "|[windowsphone, french, spanish, italian]                                                 |9    |4         |\n",
      "|[vegetarianism, french, chemistry, spanish]                                              |9    |4         |\n",
      "|[chemistry, mythology, portuguese]                                                       |9    |3         |\n",
      "|[vegetarianism, french, chemistry, spanish, italian]                                     |8    |5         |\n",
      "|[spanish, mythology, portuguese]                                                         |8    |3         |\n",
      "|[windowsphone, spanish, mythology, portuguese]                                           |8    |4         |\n",
      "|[vegetarianism, french, chemistry, spanish, mythology, italian]                          |7    |6         |\n",
      "|[vegetarianism, french, spanish, mythology]                                              |7    |4         |\n",
      "|[vegetarianism, french, italian]                                                         |7    |3         |\n",
      "|[windowsphone, chemistry, italian]                                                       |7    |3         |\n",
      "|[windowsphone, spanish, mythology]                                                       |7    |3         |\n",
      "|[windowsphone, chemistry, spanish, mythology]                                            |7    |4         |\n",
      "|[vegetarianism, chemistry, italian]                                                      |7    |3         |\n",
      "|[french, spanish, mythology, portuguese]                                                 |7    |4         |\n",
      "|[windowsphone, french, mythology]                                                        |6    |3         |\n",
      "+-----------------------------------------------------------------------------------------+-----+----------+\n",
      "only showing top 100 rows\n",
      "\n"
     ]
    }
   ],
   "source": [
    "x.orderBy('users', ascending=0).show(100, truncate=False)"
   ]
  },
  {
   "cell_type": "code",
   "execution_count": 134,
   "id": "indirect-forest",
   "metadata": {},
   "outputs": [],
   "source": [
    "%matplotlib inline\n",
    "import matplotlib.pyplot as plt\n",
    "import seaborn as sns\n",
    "import pandas as pd"
   ]
  },
  {
   "cell_type": "code",
   "execution_count": 128,
   "id": "available-residence",
   "metadata": {},
   "outputs": [],
   "source": [
    "users_by_forum = users_by_forum.toPandas()"
   ]
  },
  {
   "cell_type": "code",
   "execution_count": 156,
   "id": "cultural-marsh",
   "metadata": {},
   "outputs": [],
   "source": [
    "sns.set(rc={'figure.figsize':(12, 9)})"
   ]
  },
  {
   "cell_type": "code",
   "execution_count": 161,
   "id": "virgin-commodity",
   "metadata": {},
   "outputs": [
    {
     "data": {
      "text/plain": [
       "[Text(0.5, 1.0, 'Top 10 the most popular forums'),\n",
       " Text(0, 0.5, 'Number of users')]"
      ]
     },
     "execution_count": 161,
     "metadata": {},
     "output_type": "execute_result"
    },
    {
     "data": {
      "image/png": "[encoded data removed]",
      "text/plain": [
       "<Figure size 842.4x595.44 with 1 Axes>"
      ]
     },
     "metadata": {},
     "output_type": "display_data"
    }
   ],
   "source": [
    "ax = sns.barplot(x=users_by_forum['forum'], y=users_by_forum['count'], data=users_by_forum, color='salmon',\n",
    "                saturation=.5)\n",
    "ax.set(title='Top 10 the most popular forums', ylabel='Number of users', xlabel='Forum')"
   ]
  },
  {
   "cell_type": "code",
   "execution_count": 162,
   "id": "abandoned-assignment",
   "metadata": {},
   "outputs": [],
   "source": [
    "# add heatmap"
   ]
  },
  {
   "cell_type": "code",
   "execution_count": 198,
   "id": "hairy-history",
   "metadata": {},
   "outputs": [
    {
     "data": {
      "text/plain": [
       "280498"
      ]
     },
     "execution_count": 198,
     "metadata": {},
     "output_type": "execute_result"
    }
   ],
   "source": [
    "all_comments.count()"
   ]
  },
  {
   "cell_type": "code",
   "execution_count": 213,
   "id": "contained-operations",
   "metadata": {},
   "outputs": [
    {
     "data": {
      "text/plain": [
       "12"
      ]
     },
     "execution_count": 213,
     "metadata": {},
     "output_type": "execute_result"
    }
   ],
   "source": [
    "all_users.coalesce(1).rdd.getNumPartitions()"
   ]
  },
  {
   "cell_type": "markdown",
   "id": "sapphire-associate",
   "metadata": {},
   "source": [
    "Write Data to csv files"
   ]
  },
  {
   "cell_type": "code",
   "execution_count": 216,
   "id": "retired-rachel",
   "metadata": {},
   "outputs": [],
   "source": [
    "all_users.coalesce(1).write.csv(path=input_path+'all_users_v1', mode='overwrite', header=True)\n",
    "all_comments.coalesce(10).write.csv(path=input_path+'all_comments_v1', mode='overwrite', header=True)\n",
    "all_posts.coalesce(10).write.csv(path=input_path+'all_posts_v1', mode='overwrite', header=True)"
   ]
  },
  {
   "cell_type": "code",
   "execution_count": null,
   "id": "reverse-compiler",
   "metadata": {},
   "outputs": [],
   "source": []
  }
 ],
 "metadata": {
  "kernelspec": {
   "display_name": "Python 3",
   "language": "python",
   "name": "python3"
  },
  "language_info": {
   "codemirror_mode": {
    "name": "ipython",
    "version": 3
   },
   "file_extension": ".py",
   "mimetype": "text/x-python",
   "name": "python",
   "nbconvert_exporter": "python",
   "pygments_lexer": "ipython3",
   "version": "3.8.6"
  }
 },
 "nbformat": 4,
 "nbformat_minor": 5
}
